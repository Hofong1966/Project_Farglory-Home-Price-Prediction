{
 "cells": [
  {
   "cell_type": "code",
   "execution_count": 1,
   "id": "9618c0d4",
   "metadata": {},
   "outputs": [],
   "source": [
    "import pandas as pd\n",
    "import numpy as np\n",
    "from matplotlib import pyplot as plt\n",
    "%matplotlib inline\n",
    "import matplotlib\n",
    "matplotlib.rcParams[\"figure.figsize\"] = (20,10)\n",
    "import warnings\n",
    "warnings.filterwarnings('ignore') # setting ignore as a parameter"
   ]
  },
  {
   "cell_type": "code",
   "execution_count": 2,
   "id": "91a2e1c6",
   "metadata": {},
   "outputs": [
    {
     "data": {
      "text/html": [
       "<div>\n",
       "<style scoped>\n",
       "    .dataframe tbody tr th:only-of-type {\n",
       "        vertical-align: middle;\n",
       "    }\n",
       "\n",
       "    .dataframe tbody tr th {\n",
       "        vertical-align: top;\n",
       "    }\n",
       "\n",
       "    .dataframe thead th {\n",
       "        text-align: right;\n",
       "    }\n",
       "</style>\n",
       "<table border=\"1\" class=\"dataframe\">\n",
       "  <thead>\n",
       "    <tr style=\"text-align: right;\">\n",
       "      <th></th>\n",
       "      <th>area_type</th>\n",
       "      <th>availability</th>\n",
       "      <th>location</th>\n",
       "      <th>size</th>\n",
       "      <th>total_sqft</th>\n",
       "      <th>bath</th>\n",
       "      <th>balcony</th>\n",
       "      <th>price</th>\n",
       "    </tr>\n",
       "  </thead>\n",
       "  <tbody>\n",
       "    <tr>\n",
       "      <th>0</th>\n",
       "      <td>Super built-up  Area</td>\n",
       "      <td>19-Dec</td>\n",
       "      <td>Zhongzheng Dist., Taipei City</td>\n",
       "      <td>2 BHK</td>\n",
       "      <td>1056</td>\n",
       "      <td>2.0</td>\n",
       "      <td>1.0</td>\n",
       "      <td>203.164</td>\n",
       "    </tr>\n",
       "    <tr>\n",
       "      <th>1</th>\n",
       "      <td>Plot  Area</td>\n",
       "      <td>Ready To Move</td>\n",
       "      <td>Datong Dist., Taipei City</td>\n",
       "      <td>4 Bedroom</td>\n",
       "      <td>2600</td>\n",
       "      <td>5.0</td>\n",
       "      <td>3.0</td>\n",
       "      <td>624.000</td>\n",
       "    </tr>\n",
       "    <tr>\n",
       "      <th>2</th>\n",
       "      <td>Built-up  Area</td>\n",
       "      <td>Ready To Move</td>\n",
       "      <td>Zhongshan Dist., Taipei City</td>\n",
       "      <td>3 BHK</td>\n",
       "      <td>1440</td>\n",
       "      <td>2.0</td>\n",
       "      <td>3.0</td>\n",
       "      <td>322.400</td>\n",
       "    </tr>\n",
       "    <tr>\n",
       "      <th>3</th>\n",
       "      <td>Super built-up  Area</td>\n",
       "      <td>Ready To Move</td>\n",
       "      <td>Songshan Dist., Taipei City</td>\n",
       "      <td>3 BHK</td>\n",
       "      <td>1521</td>\n",
       "      <td>3.0</td>\n",
       "      <td>1.0</td>\n",
       "      <td>494.000</td>\n",
       "    </tr>\n",
       "    <tr>\n",
       "      <th>4</th>\n",
       "      <td>Super built-up  Area</td>\n",
       "      <td>Ready To Move</td>\n",
       "      <td>Da’an Dist., Taipei Ci</td>\n",
       "      <td>2 BHK</td>\n",
       "      <td>1200</td>\n",
       "      <td>2.0</td>\n",
       "      <td>1.0</td>\n",
       "      <td>265.200</td>\n",
       "    </tr>\n",
       "  </tbody>\n",
       "</table>\n",
       "</div>"
      ],
      "text/plain": [
       "              area_type   availability                       location  \\\n",
       "0  Super built-up  Area         19-Dec  Zhongzheng Dist., Taipei City   \n",
       "1            Plot  Area  Ready To Move      Datong Dist., Taipei City   \n",
       "2        Built-up  Area  Ready To Move   Zhongshan Dist., Taipei City   \n",
       "3  Super built-up  Area  Ready To Move    Songshan Dist., Taipei City   \n",
       "4  Super built-up  Area  Ready To Move         Da’an Dist., Taipei Ci   \n",
       "\n",
       "        size total_sqft  bath  balcony    price  \n",
       "0      2 BHK       1056   2.0      1.0  203.164  \n",
       "1  4 Bedroom       2600   5.0      3.0  624.000  \n",
       "2      3 BHK       1440   2.0      3.0  322.400  \n",
       "3      3 BHK       1521   3.0      1.0  494.000  \n",
       "4      2 BHK       1200   2.0      1.0  265.200  "
      ]
     },
     "execution_count": 2,
     "metadata": {},
     "output_type": "execute_result"
    }
   ],
   "source": [
    "df1 = pd.read_csv(\"tw_house_prices.csv\")\n",
    "df1.head()"
   ]
  },
  {
   "cell_type": "markdown",
   "id": "45dfd11a",
   "metadata": {},
   "source": [
    "### Data Cleansing\n",
    "- handle na values"
   ]
  },
  {
   "cell_type": "code",
   "execution_count": 3,
   "id": "3ec09aae",
   "metadata": {},
   "outputs": [
    {
     "data": {
      "text/plain": [
       "(13070, 8)"
      ]
     },
     "execution_count": 3,
     "metadata": {},
     "output_type": "execute_result"
    }
   ],
   "source": [
    "df1.shape"
   ]
  },
  {
   "cell_type": "code",
   "execution_count": 4,
   "id": "ab7c08ad",
   "metadata": {},
   "outputs": [
    {
     "data": {
      "text/plain": [
       "area_type\n",
       "Built-up  Area          2371\n",
       "Carpet  Area              87\n",
       "Plot  Area              1983\n",
       "Super built-up  Area    8629\n",
       "Name: area_type, dtype: int64"
      ]
     },
     "execution_count": 4,
     "metadata": {},
     "output_type": "execute_result"
    }
   ],
   "source": [
    "df1.groupby('area_type')['area_type'].agg('count')"
   ]
  },
  {
   "cell_type": "code",
   "execution_count": 5,
   "id": "831fad12",
   "metadata": {},
   "outputs": [
    {
     "data": {
      "text/html": [
       "<div>\n",
       "<style scoped>\n",
       "    .dataframe tbody tr th:only-of-type {\n",
       "        vertical-align: middle;\n",
       "    }\n",
       "\n",
       "    .dataframe tbody tr th {\n",
       "        vertical-align: top;\n",
       "    }\n",
       "\n",
       "    .dataframe thead th {\n",
       "        text-align: right;\n",
       "    }\n",
       "</style>\n",
       "<table border=\"1\" class=\"dataframe\">\n",
       "  <thead>\n",
       "    <tr style=\"text-align: right;\">\n",
       "      <th></th>\n",
       "      <th>location</th>\n",
       "      <th>size</th>\n",
       "      <th>total_sqft</th>\n",
       "      <th>bath</th>\n",
       "      <th>price</th>\n",
       "    </tr>\n",
       "  </thead>\n",
       "  <tbody>\n",
       "    <tr>\n",
       "      <th>0</th>\n",
       "      <td>Zhongzheng Dist., Taipei City</td>\n",
       "      <td>2 BHK</td>\n",
       "      <td>1056</td>\n",
       "      <td>2.0</td>\n",
       "      <td>203.164</td>\n",
       "    </tr>\n",
       "    <tr>\n",
       "      <th>1</th>\n",
       "      <td>Datong Dist., Taipei City</td>\n",
       "      <td>4 Bedroom</td>\n",
       "      <td>2600</td>\n",
       "      <td>5.0</td>\n",
       "      <td>624.000</td>\n",
       "    </tr>\n",
       "    <tr>\n",
       "      <th>2</th>\n",
       "      <td>Zhongshan Dist., Taipei City</td>\n",
       "      <td>3 BHK</td>\n",
       "      <td>1440</td>\n",
       "      <td>2.0</td>\n",
       "      <td>322.400</td>\n",
       "    </tr>\n",
       "    <tr>\n",
       "      <th>3</th>\n",
       "      <td>Songshan Dist., Taipei City</td>\n",
       "      <td>3 BHK</td>\n",
       "      <td>1521</td>\n",
       "      <td>3.0</td>\n",
       "      <td>494.000</td>\n",
       "    </tr>\n",
       "    <tr>\n",
       "      <th>4</th>\n",
       "      <td>Da’an Dist., Taipei Ci</td>\n",
       "      <td>2 BHK</td>\n",
       "      <td>1200</td>\n",
       "      <td>2.0</td>\n",
       "      <td>265.200</td>\n",
       "    </tr>\n",
       "  </tbody>\n",
       "</table>\n",
       "</div>"
      ],
      "text/plain": [
       "                        location       size total_sqft  bath    price\n",
       "0  Zhongzheng Dist., Taipei City      2 BHK       1056   2.0  203.164\n",
       "1      Datong Dist., Taipei City  4 Bedroom       2600   5.0  624.000\n",
       "2   Zhongshan Dist., Taipei City      3 BHK       1440   2.0  322.400\n",
       "3    Songshan Dist., Taipei City      3 BHK       1521   3.0  494.000\n",
       "4         Da’an Dist., Taipei Ci      2 BHK       1200   2.0  265.200"
      ]
     },
     "execution_count": 5,
     "metadata": {},
     "output_type": "execute_result"
    }
   ],
   "source": [
    "df2 = df1.drop(['area_type','balcony','availability'],axis='columns')\n",
    "df2.head()"
   ]
  },
  {
   "cell_type": "code",
   "execution_count": 6,
   "id": "c81ebdbd",
   "metadata": {},
   "outputs": [
    {
     "data": {
      "text/plain": [
       "location       0\n",
       "size          14\n",
       "total_sqft     0\n",
       "bath          71\n",
       "price          0\n",
       "dtype: int64"
      ]
     },
     "execution_count": 6,
     "metadata": {},
     "output_type": "execute_result"
    }
   ],
   "source": [
    "df2.isnull().sum()"
   ]
  },
  {
   "cell_type": "code",
   "execution_count": 7,
   "id": "62ff306d",
   "metadata": {},
   "outputs": [
    {
     "data": {
      "text/plain": [
       "location      0\n",
       "size          0\n",
       "total_sqft    0\n",
       "bath          0\n",
       "price         0\n",
       "dtype: int64"
      ]
     },
     "execution_count": 7,
     "metadata": {},
     "output_type": "execute_result"
    }
   ],
   "source": [
    "df3 = df2.dropna()\n",
    "df3.isnull().sum()"
   ]
  },
  {
   "cell_type": "code",
   "execution_count": 8,
   "id": "7e992a83",
   "metadata": {},
   "outputs": [
    {
     "data": {
      "text/plain": [
       "(12999, 5)"
      ]
     },
     "execution_count": 8,
     "metadata": {},
     "output_type": "execute_result"
    }
   ],
   "source": [
    "df3.shape"
   ]
  },
  {
   "cell_type": "code",
   "execution_count": 9,
   "id": "15d3a155",
   "metadata": {},
   "outputs": [
    {
     "data": {
      "text/plain": [
       "array(['2 BHK', '4 Bedroom', '3 BHK', '4 BHK', '6 Bedroom', '3 Bedroom',\n",
       "       '1 BHK', '1 RK', '1 Bedroom', '8 Bedroom', '2 Bedroom',\n",
       "       '7 Bedroom', '5 BHK', '7 BHK', '6 BHK', '5 Bedroom', '11 BHK',\n",
       "       '9 BHK', '9 Bedroom', '27 BHK', '10 Bedroom', '11 Bedroom',\n",
       "       '10 BHK', '19 BHK', '16 BHK', '43 Bedroom', '14 BHK', '8 BHK',\n",
       "       '12 Bedroom', '13 BHK', '18 Bedroom'], dtype=object)"
      ]
     },
     "execution_count": 9,
     "metadata": {},
     "output_type": "execute_result"
    }
   ],
   "source": [
    "df3['size'].unique()"
   ]
  },
  {
   "cell_type": "markdown",
   "id": "af884b51",
   "metadata": {},
   "source": [
    "### Feature Engineering\n",
    "**Add new feature(integer) for bhk (Bedrooms Hall Kitchen)** "
   ]
  },
  {
   "cell_type": "code",
   "execution_count": 10,
   "id": "2a36b0df",
   "metadata": {},
   "outputs": [],
   "source": [
    "df3['bhk']=df3['size'].apply(lambda x: int(x.split(' ')[0]))"
   ]
  },
  {
   "cell_type": "code",
   "execution_count": 11,
   "id": "8154671e",
   "metadata": {},
   "outputs": [
    {
     "data": {
      "text/html": [
       "<div>\n",
       "<style scoped>\n",
       "    .dataframe tbody tr th:only-of-type {\n",
       "        vertical-align: middle;\n",
       "    }\n",
       "\n",
       "    .dataframe tbody tr th {\n",
       "        vertical-align: top;\n",
       "    }\n",
       "\n",
       "    .dataframe thead th {\n",
       "        text-align: right;\n",
       "    }\n",
       "</style>\n",
       "<table border=\"1\" class=\"dataframe\">\n",
       "  <thead>\n",
       "    <tr style=\"text-align: right;\">\n",
       "      <th></th>\n",
       "      <th>location</th>\n",
       "      <th>size</th>\n",
       "      <th>total_sqft</th>\n",
       "      <th>bath</th>\n",
       "      <th>price</th>\n",
       "      <th>bhk</th>\n",
       "    </tr>\n",
       "  </thead>\n",
       "  <tbody>\n",
       "    <tr>\n",
       "      <th>0</th>\n",
       "      <td>Zhongzheng Dist., Taipei City</td>\n",
       "      <td>2 BHK</td>\n",
       "      <td>1056</td>\n",
       "      <td>2.0</td>\n",
       "      <td>203.164</td>\n",
       "      <td>2</td>\n",
       "    </tr>\n",
       "    <tr>\n",
       "      <th>1</th>\n",
       "      <td>Datong Dist., Taipei City</td>\n",
       "      <td>4 Bedroom</td>\n",
       "      <td>2600</td>\n",
       "      <td>5.0</td>\n",
       "      <td>624.000</td>\n",
       "      <td>4</td>\n",
       "    </tr>\n",
       "    <tr>\n",
       "      <th>2</th>\n",
       "      <td>Zhongshan Dist., Taipei City</td>\n",
       "      <td>3 BHK</td>\n",
       "      <td>1440</td>\n",
       "      <td>2.0</td>\n",
       "      <td>322.400</td>\n",
       "      <td>3</td>\n",
       "    </tr>\n",
       "    <tr>\n",
       "      <th>3</th>\n",
       "      <td>Songshan Dist., Taipei City</td>\n",
       "      <td>3 BHK</td>\n",
       "      <td>1521</td>\n",
       "      <td>3.0</td>\n",
       "      <td>494.000</td>\n",
       "      <td>3</td>\n",
       "    </tr>\n",
       "    <tr>\n",
       "      <th>4</th>\n",
       "      <td>Da’an Dist., Taipei Ci</td>\n",
       "      <td>2 BHK</td>\n",
       "      <td>1200</td>\n",
       "      <td>2.0</td>\n",
       "      <td>265.200</td>\n",
       "      <td>2</td>\n",
       "    </tr>\n",
       "  </tbody>\n",
       "</table>\n",
       "</div>"
      ],
      "text/plain": [
       "                        location       size total_sqft  bath    price  bhk\n",
       "0  Zhongzheng Dist., Taipei City      2 BHK       1056   2.0  203.164    2\n",
       "1      Datong Dist., Taipei City  4 Bedroom       2600   5.0  624.000    4\n",
       "2   Zhongshan Dist., Taipei City      3 BHK       1440   2.0  322.400    3\n",
       "3    Songshan Dist., Taipei City      3 BHK       1521   3.0  494.000    3\n",
       "4         Da’an Dist., Taipei Ci      2 BHK       1200   2.0  265.200    2"
      ]
     },
     "execution_count": 11,
     "metadata": {},
     "output_type": "execute_result"
    }
   ],
   "source": [
    "df3.head()"
   ]
  },
  {
   "cell_type": "code",
   "execution_count": 12,
   "id": "ebfd7fbb",
   "metadata": {},
   "outputs": [
    {
     "data": {
      "text/plain": [
       "array([ 2,  4,  3,  6,  1,  8,  7,  5, 11,  9, 27, 10, 19, 16, 43, 14, 12,\n",
       "       13, 18], dtype=int64)"
      ]
     },
     "execution_count": 12,
     "metadata": {},
     "output_type": "execute_result"
    }
   ],
   "source": [
    "df3['bhk'].unique()"
   ]
  },
  {
   "cell_type": "code",
   "execution_count": 13,
   "id": "7dccb89a",
   "metadata": {},
   "outputs": [
    {
     "data": {
      "text/html": [
       "<div>\n",
       "<style scoped>\n",
       "    .dataframe tbody tr th:only-of-type {\n",
       "        vertical-align: middle;\n",
       "    }\n",
       "\n",
       "    .dataframe tbody tr th {\n",
       "        vertical-align: top;\n",
       "    }\n",
       "\n",
       "    .dataframe thead th {\n",
       "        text-align: right;\n",
       "    }\n",
       "</style>\n",
       "<table border=\"1\" class=\"dataframe\">\n",
       "  <thead>\n",
       "    <tr style=\"text-align: right;\">\n",
       "      <th></th>\n",
       "      <th>location</th>\n",
       "      <th>size</th>\n",
       "      <th>total_sqft</th>\n",
       "      <th>bath</th>\n",
       "      <th>price</th>\n",
       "      <th>bhk</th>\n",
       "    </tr>\n",
       "  </thead>\n",
       "  <tbody>\n",
       "    <tr>\n",
       "      <th>1718</th>\n",
       "      <td>Guantian Dist., Tainan City</td>\n",
       "      <td>27 BHK</td>\n",
       "      <td>8000</td>\n",
       "      <td>27.0</td>\n",
       "      <td>1196.0</td>\n",
       "      <td>27</td>\n",
       "    </tr>\n",
       "    <tr>\n",
       "      <th>4666</th>\n",
       "      <td>Guanmiao Dist., Tainan City</td>\n",
       "      <td>43 Bedroom</td>\n",
       "      <td>2400</td>\n",
       "      <td>40.0</td>\n",
       "      <td>3432.0</td>\n",
       "      <td>43</td>\n",
       "    </tr>\n",
       "  </tbody>\n",
       "</table>\n",
       "</div>"
      ],
      "text/plain": [
       "                         location        size total_sqft  bath   price  bhk\n",
       "1718  Guantian Dist., Tainan City      27 BHK       8000  27.0  1196.0   27\n",
       "4666  Guanmiao Dist., Tainan City  43 Bedroom       2400  40.0  3432.0   43"
      ]
     },
     "execution_count": 13,
     "metadata": {},
     "output_type": "execute_result"
    }
   ],
   "source": [
    "df3[df3.bhk>20]"
   ]
  },
  {
   "cell_type": "code",
   "execution_count": 14,
   "id": "e4976240",
   "metadata": {},
   "outputs": [
    {
     "data": {
      "text/plain": [
       "array(['1056', '2600', '1440', ..., '1454', '774', '4689'], dtype=object)"
      ]
     },
     "execution_count": 14,
     "metadata": {},
     "output_type": "execute_result"
    }
   ],
   "source": [
    "df3.total_sqft.unique()"
   ]
  },
  {
   "cell_type": "markdown",
   "id": "87092959",
   "metadata": {},
   "source": [
    "**Explore total_sqft features**"
   ]
  },
  {
   "cell_type": "code",
   "execution_count": 15,
   "id": "baa649a3",
   "metadata": {},
   "outputs": [],
   "source": [
    "def is_float(x):\n",
    "    try:\n",
    "        float(x)\n",
    "    except:\n",
    "        return False\n",
    "    return True"
   ]
  },
  {
   "cell_type": "code",
   "execution_count": 16,
   "id": "91dc0a07",
   "metadata": {},
   "outputs": [
    {
     "data": {
      "text/html": [
       "<div>\n",
       "<style scoped>\n",
       "    .dataframe tbody tr th:only-of-type {\n",
       "        vertical-align: middle;\n",
       "    }\n",
       "\n",
       "    .dataframe tbody tr th {\n",
       "        vertical-align: top;\n",
       "    }\n",
       "\n",
       "    .dataframe thead th {\n",
       "        text-align: right;\n",
       "    }\n",
       "</style>\n",
       "<table border=\"1\" class=\"dataframe\">\n",
       "  <thead>\n",
       "    <tr style=\"text-align: right;\">\n",
       "      <th></th>\n",
       "      <th>location</th>\n",
       "      <th>size</th>\n",
       "      <th>total_sqft</th>\n",
       "      <th>bath</th>\n",
       "      <th>price</th>\n",
       "      <th>bhk</th>\n",
       "    </tr>\n",
       "  </thead>\n",
       "  <tbody>\n",
       "    <tr>\n",
       "      <th>30</th>\n",
       "      <td>Pingxi Dist., New Taipei City</td>\n",
       "      <td>4 BHK</td>\n",
       "      <td>2100 - 2850</td>\n",
       "      <td>4.0</td>\n",
       "      <td>967.200</td>\n",
       "      <td>4</td>\n",
       "    </tr>\n",
       "    <tr>\n",
       "      <th>122</th>\n",
       "      <td>Wuri Dist., Taichung City</td>\n",
       "      <td>4 BHK</td>\n",
       "      <td>3067 - 8156</td>\n",
       "      <td>4.0</td>\n",
       "      <td>2480.400</td>\n",
       "      <td>4</td>\n",
       "    </tr>\n",
       "    <tr>\n",
       "      <th>137</th>\n",
       "      <td>Dajia Dist., Taichung City</td>\n",
       "      <td>2 BHK</td>\n",
       "      <td>1042 - 1105</td>\n",
       "      <td>2.0</td>\n",
       "      <td>280.826</td>\n",
       "      <td>2</td>\n",
       "    </tr>\n",
       "    <tr>\n",
       "      <th>165</th>\n",
       "      <td>Nantou City, Nantou County</td>\n",
       "      <td>2 BHK</td>\n",
       "      <td>1145 - 1340</td>\n",
       "      <td>2.0</td>\n",
       "      <td>226.148</td>\n",
       "      <td>2</td>\n",
       "    </tr>\n",
       "    <tr>\n",
       "      <th>188</th>\n",
       "      <td>Taibao City, Chiayi County</td>\n",
       "      <td>2 BHK</td>\n",
       "      <td>1015 - 1540</td>\n",
       "      <td>2.0</td>\n",
       "      <td>295.360</td>\n",
       "      <td>2</td>\n",
       "    </tr>\n",
       "    <tr>\n",
       "      <th>410</th>\n",
       "      <td>Sanxia Dist., New Taipei City</td>\n",
       "      <td>1 BHK</td>\n",
       "      <td>34.46Sq. Meter</td>\n",
       "      <td>1.0</td>\n",
       "      <td>96.200</td>\n",
       "      <td>1</td>\n",
       "    </tr>\n",
       "    <tr>\n",
       "      <th>549</th>\n",
       "      <td>East Dist., Chiayi City</td>\n",
       "      <td>2 BHK</td>\n",
       "      <td>1195 - 1440</td>\n",
       "      <td>2.0</td>\n",
       "      <td>331.604</td>\n",
       "      <td>2</td>\n",
       "    </tr>\n",
       "    <tr>\n",
       "      <th>648</th>\n",
       "      <td>Mituo Dist., Kaohsiung City</td>\n",
       "      <td>9 Bedroom</td>\n",
       "      <td>4125Perch</td>\n",
       "      <td>9.0</td>\n",
       "      <td>1378.000</td>\n",
       "      <td>9</td>\n",
       "    </tr>\n",
       "    <tr>\n",
       "      <th>661</th>\n",
       "      <td>Jiaxian Dist., Kaohsiung City</td>\n",
       "      <td>2 BHK</td>\n",
       "      <td>1120 - 1145</td>\n",
       "      <td>2.0</td>\n",
       "      <td>250.276</td>\n",
       "      <td>2</td>\n",
       "    </tr>\n",
       "    <tr>\n",
       "      <th>672</th>\n",
       "      <td>Jinsha Township, Kinmen County</td>\n",
       "      <td>4 Bedroom</td>\n",
       "      <td>3090 - 5002</td>\n",
       "      <td>4.0</td>\n",
       "      <td>2314.000</td>\n",
       "      <td>4</td>\n",
       "    </tr>\n",
       "  </tbody>\n",
       "</table>\n",
       "</div>"
      ],
      "text/plain": [
       "                           location       size      total_sqft  bath  \\\n",
       "30    Pingxi Dist., New Taipei City      4 BHK     2100 - 2850   4.0   \n",
       "122       Wuri Dist., Taichung City      4 BHK     3067 - 8156   4.0   \n",
       "137      Dajia Dist., Taichung City      2 BHK     1042 - 1105   2.0   \n",
       "165      Nantou City, Nantou County      2 BHK     1145 - 1340   2.0   \n",
       "188      Taibao City, Chiayi County      2 BHK     1015 - 1540   2.0   \n",
       "410   Sanxia Dist., New Taipei City      1 BHK  34.46Sq. Meter   1.0   \n",
       "549         East Dist., Chiayi City      2 BHK     1195 - 1440   2.0   \n",
       "648     Mituo Dist., Kaohsiung City  9 Bedroom       4125Perch   9.0   \n",
       "661   Jiaxian Dist., Kaohsiung City      2 BHK     1120 - 1145   2.0   \n",
       "672  Jinsha Township, Kinmen County  4 Bedroom     3090 - 5002   4.0   \n",
       "\n",
       "        price  bhk  \n",
       "30    967.200    4  \n",
       "122  2480.400    4  \n",
       "137   280.826    2  \n",
       "165   226.148    2  \n",
       "188   295.360    2  \n",
       "410    96.200    1  \n",
       "549   331.604    2  \n",
       "648  1378.000    9  \n",
       "661   250.276    2  \n",
       "672  2314.000    4  "
      ]
     },
     "execution_count": 16,
     "metadata": {},
     "output_type": "execute_result"
    }
   ],
   "source": [
    "df3[~df3['total_sqft'].apply(is_float)].head(10)"
   ]
  },
  {
   "cell_type": "markdown",
   "id": "6ddaadb4",
   "metadata": {},
   "source": [
    "- Above shows that total_sqft can be a range. So I take the average of min and max value in the range. and the 34.46Sq.Meter can convert to square ft using unit conversion. But I decide to drop it because it is too small."
   ]
  },
  {
   "cell_type": "code",
   "execution_count": 17,
   "id": "9b4f8fca",
   "metadata": {},
   "outputs": [],
   "source": [
    "def convert_sqft_to_num(x):\n",
    "    tokens = x.split('-')\n",
    "    if len(tokens) == 2:\n",
    "        return (float(tokens[0])+float(tokens[1]))/2\n",
    "    try:\n",
    "        return float(x)\n",
    "    except:\n",
    "        return None"
   ]
  },
  {
   "cell_type": "code",
   "execution_count": 18,
   "id": "dcb83033",
   "metadata": {},
   "outputs": [
    {
     "data": {
      "text/plain": [
       "2166.0"
      ]
     },
     "execution_count": 18,
     "metadata": {},
     "output_type": "execute_result"
    }
   ],
   "source": [
    "convert_sqft_to_num('2166')"
   ]
  },
  {
   "cell_type": "code",
   "execution_count": 19,
   "id": "fffdacd8",
   "metadata": {},
   "outputs": [
    {
     "data": {
      "text/plain": [
       "2475.0"
      ]
     },
     "execution_count": 19,
     "metadata": {},
     "output_type": "execute_result"
    }
   ],
   "source": [
    "convert_sqft_to_num('2100 - 2850')"
   ]
  },
  {
   "cell_type": "code",
   "execution_count": 20,
   "id": "991d1ef4",
   "metadata": {},
   "outputs": [],
   "source": [
    "convert_sqft_to_num('34.46Sq. Meter')"
   ]
  },
  {
   "cell_type": "code",
   "execution_count": 21,
   "id": "c1c20a5b",
   "metadata": {},
   "outputs": [
    {
     "data": {
      "text/html": [
       "<div>\n",
       "<style scoped>\n",
       "    .dataframe tbody tr th:only-of-type {\n",
       "        vertical-align: middle;\n",
       "    }\n",
       "\n",
       "    .dataframe tbody tr th {\n",
       "        vertical-align: top;\n",
       "    }\n",
       "\n",
       "    .dataframe thead th {\n",
       "        text-align: right;\n",
       "    }\n",
       "</style>\n",
       "<table border=\"1\" class=\"dataframe\">\n",
       "  <thead>\n",
       "    <tr style=\"text-align: right;\">\n",
       "      <th></th>\n",
       "      <th>location</th>\n",
       "      <th>size</th>\n",
       "      <th>total_sqft</th>\n",
       "      <th>bath</th>\n",
       "      <th>price</th>\n",
       "      <th>bhk</th>\n",
       "    </tr>\n",
       "  </thead>\n",
       "  <tbody>\n",
       "    <tr>\n",
       "      <th>0</th>\n",
       "      <td>Zhongzheng Dist., Taipei City</td>\n",
       "      <td>2 BHK</td>\n",
       "      <td>1056.0</td>\n",
       "      <td>2.0</td>\n",
       "      <td>203.164</td>\n",
       "      <td>2</td>\n",
       "    </tr>\n",
       "    <tr>\n",
       "      <th>1</th>\n",
       "      <td>Datong Dist., Taipei City</td>\n",
       "      <td>4 Bedroom</td>\n",
       "      <td>2600.0</td>\n",
       "      <td>5.0</td>\n",
       "      <td>624.000</td>\n",
       "      <td>4</td>\n",
       "    </tr>\n",
       "    <tr>\n",
       "      <th>2</th>\n",
       "      <td>Zhongshan Dist., Taipei City</td>\n",
       "      <td>3 BHK</td>\n",
       "      <td>1440.0</td>\n",
       "      <td>2.0</td>\n",
       "      <td>322.400</td>\n",
       "      <td>3</td>\n",
       "    </tr>\n",
       "  </tbody>\n",
       "</table>\n",
       "</div>"
      ],
      "text/plain": [
       "                        location       size  total_sqft  bath    price  bhk\n",
       "0  Zhongzheng Dist., Taipei City      2 BHK      1056.0   2.0  203.164    2\n",
       "1      Datong Dist., Taipei City  4 Bedroom      2600.0   5.0  624.000    4\n",
       "2   Zhongshan Dist., Taipei City      3 BHK      1440.0   2.0  322.400    3"
      ]
     },
     "execution_count": 21,
     "metadata": {},
     "output_type": "execute_result"
    }
   ],
   "source": [
    "df4 = df3.copy()\n",
    "df4['total_sqft'] = df4['total_sqft'].apply(convert_sqft_to_num)\n",
    "df4.head(3)"
   ]
  },
  {
   "cell_type": "code",
   "execution_count": 22,
   "id": "cef85183",
   "metadata": {},
   "outputs": [
    {
     "data": {
      "text/plain": [
       "location      Pingxi Dist., New Taipei City\n",
       "size                                  4 BHK\n",
       "total_sqft                           2475.0\n",
       "bath                                    4.0\n",
       "price                                 967.2\n",
       "bhk                                       4\n",
       "Name: 30, dtype: object"
      ]
     },
     "execution_count": 22,
     "metadata": {},
     "output_type": "execute_result"
    }
   ],
   "source": [
    "df4.loc[30]"
   ]
  },
  {
   "cell_type": "markdown",
   "id": "bb2de972",
   "metadata": {},
   "source": [
    "- 2475 means average of range 2100-2850"
   ]
  },
  {
   "cell_type": "code",
   "execution_count": 23,
   "id": "ee6ac4c4",
   "metadata": {},
   "outputs": [
    {
     "data": {
      "text/plain": [
       "2475.0"
      ]
     },
     "execution_count": 23,
     "metadata": {},
     "output_type": "execute_result"
    }
   ],
   "source": [
    "(2100+2850)/2"
   ]
  },
  {
   "cell_type": "markdown",
   "id": "edefbfa4",
   "metadata": {},
   "source": [
    "### Feature Engineering\n",
    "**Add new features price per square feet**"
   ]
  },
  {
   "cell_type": "code",
   "execution_count": 24,
   "id": "7bb2e443",
   "metadata": {},
   "outputs": [
    {
     "data": {
      "text/html": [
       "<div>\n",
       "<style scoped>\n",
       "    .dataframe tbody tr th:only-of-type {\n",
       "        vertical-align: middle;\n",
       "    }\n",
       "\n",
       "    .dataframe tbody tr th {\n",
       "        vertical-align: top;\n",
       "    }\n",
       "\n",
       "    .dataframe thead th {\n",
       "        text-align: right;\n",
       "    }\n",
       "</style>\n",
       "<table border=\"1\" class=\"dataframe\">\n",
       "  <thead>\n",
       "    <tr style=\"text-align: right;\">\n",
       "      <th></th>\n",
       "      <th>location</th>\n",
       "      <th>size</th>\n",
       "      <th>total_sqft</th>\n",
       "      <th>bath</th>\n",
       "      <th>price</th>\n",
       "      <th>bhk</th>\n",
       "    </tr>\n",
       "  </thead>\n",
       "  <tbody>\n",
       "    <tr>\n",
       "      <th>0</th>\n",
       "      <td>Zhongzheng Dist., Taipei City</td>\n",
       "      <td>2 BHK</td>\n",
       "      <td>1056.0</td>\n",
       "      <td>2.0</td>\n",
       "      <td>203.164</td>\n",
       "      <td>2</td>\n",
       "    </tr>\n",
       "    <tr>\n",
       "      <th>1</th>\n",
       "      <td>Datong Dist., Taipei City</td>\n",
       "      <td>4 Bedroom</td>\n",
       "      <td>2600.0</td>\n",
       "      <td>5.0</td>\n",
       "      <td>624.000</td>\n",
       "      <td>4</td>\n",
       "    </tr>\n",
       "    <tr>\n",
       "      <th>2</th>\n",
       "      <td>Zhongshan Dist., Taipei City</td>\n",
       "      <td>3 BHK</td>\n",
       "      <td>1440.0</td>\n",
       "      <td>2.0</td>\n",
       "      <td>322.400</td>\n",
       "      <td>3</td>\n",
       "    </tr>\n",
       "  </tbody>\n",
       "</table>\n",
       "</div>"
      ],
      "text/plain": [
       "                        location       size  total_sqft  bath    price  bhk\n",
       "0  Zhongzheng Dist., Taipei City      2 BHK      1056.0   2.0  203.164    2\n",
       "1      Datong Dist., Taipei City  4 Bedroom      2600.0   5.0  624.000    4\n",
       "2   Zhongshan Dist., Taipei City      3 BHK      1440.0   2.0  322.400    3"
      ]
     },
     "execution_count": 24,
     "metadata": {},
     "output_type": "execute_result"
    }
   ],
   "source": [
    "df4.head(3)"
   ]
  },
  {
   "cell_type": "code",
   "execution_count": 25,
   "id": "1a216eb9",
   "metadata": {},
   "outputs": [
    {
     "data": {
      "text/html": [
       "<div>\n",
       "<style scoped>\n",
       "    .dataframe tbody tr th:only-of-type {\n",
       "        vertical-align: middle;\n",
       "    }\n",
       "\n",
       "    .dataframe tbody tr th {\n",
       "        vertical-align: top;\n",
       "    }\n",
       "\n",
       "    .dataframe thead th {\n",
       "        text-align: right;\n",
       "    }\n",
       "</style>\n",
       "<table border=\"1\" class=\"dataframe\">\n",
       "  <thead>\n",
       "    <tr style=\"text-align: right;\">\n",
       "      <th></th>\n",
       "      <th>location</th>\n",
       "      <th>size</th>\n",
       "      <th>total_sqft</th>\n",
       "      <th>bath</th>\n",
       "      <th>price</th>\n",
       "      <th>bhk</th>\n",
       "      <th>price_per_sqft</th>\n",
       "    </tr>\n",
       "  </thead>\n",
       "  <tbody>\n",
       "    <tr>\n",
       "      <th>0</th>\n",
       "      <td>Zhongzheng Dist., Taipei City</td>\n",
       "      <td>2 BHK</td>\n",
       "      <td>1056.0</td>\n",
       "      <td>2.0</td>\n",
       "      <td>203.164</td>\n",
       "      <td>2</td>\n",
       "      <td>19239.015152</td>\n",
       "    </tr>\n",
       "    <tr>\n",
       "      <th>1</th>\n",
       "      <td>Datong Dist., Taipei City</td>\n",
       "      <td>4 Bedroom</td>\n",
       "      <td>2600.0</td>\n",
       "      <td>5.0</td>\n",
       "      <td>624.000</td>\n",
       "      <td>4</td>\n",
       "      <td>24000.000000</td>\n",
       "    </tr>\n",
       "    <tr>\n",
       "      <th>2</th>\n",
       "      <td>Zhongshan Dist., Taipei City</td>\n",
       "      <td>3 BHK</td>\n",
       "      <td>1440.0</td>\n",
       "      <td>2.0</td>\n",
       "      <td>322.400</td>\n",
       "      <td>3</td>\n",
       "      <td>22388.888889</td>\n",
       "    </tr>\n",
       "    <tr>\n",
       "      <th>3</th>\n",
       "      <td>Songshan Dist., Taipei City</td>\n",
       "      <td>3 BHK</td>\n",
       "      <td>1521.0</td>\n",
       "      <td>3.0</td>\n",
       "      <td>494.000</td>\n",
       "      <td>3</td>\n",
       "      <td>32478.632479</td>\n",
       "    </tr>\n",
       "    <tr>\n",
       "      <th>4</th>\n",
       "      <td>Da’an Dist., Taipei Ci</td>\n",
       "      <td>2 BHK</td>\n",
       "      <td>1200.0</td>\n",
       "      <td>2.0</td>\n",
       "      <td>265.200</td>\n",
       "      <td>2</td>\n",
       "      <td>22100.000000</td>\n",
       "    </tr>\n",
       "  </tbody>\n",
       "</table>\n",
       "</div>"
      ],
      "text/plain": [
       "                        location       size  total_sqft  bath    price  bhk  \\\n",
       "0  Zhongzheng Dist., Taipei City      2 BHK      1056.0   2.0  203.164    2   \n",
       "1      Datong Dist., Taipei City  4 Bedroom      2600.0   5.0  624.000    4   \n",
       "2   Zhongshan Dist., Taipei City      3 BHK      1440.0   2.0  322.400    3   \n",
       "3    Songshan Dist., Taipei City      3 BHK      1521.0   3.0  494.000    3   \n",
       "4         Da’an Dist., Taipei Ci      2 BHK      1200.0   2.0  265.200    2   \n",
       "\n",
       "   price_per_sqft  \n",
       "0    19239.015152  \n",
       "1    24000.000000  \n",
       "2    22388.888889  \n",
       "3    32478.632479  \n",
       "4    22100.000000  "
      ]
     },
     "execution_count": 25,
     "metadata": {},
     "output_type": "execute_result"
    }
   ],
   "source": [
    "df5 = df4.copy()\n",
    "df5['price_per_sqft'] = df5['price']*100000/df5['total_sqft']\n",
    "df5.head()"
   ]
  },
  {
   "cell_type": "code",
   "execution_count": 26,
   "id": "7c738cf2",
   "metadata": {},
   "outputs": [
    {
     "data": {
      "text/plain": [
       "count    1.295300e+04\n",
       "mean     4.131195e+04\n",
       "std      5.602395e+05\n",
       "min      1.392715e+03\n",
       "25%      2.220457e+04\n",
       "50%      2.828800e+04\n",
       "75%      3.807874e+04\n",
       "max      6.240000e+07\n",
       "Name: price_per_sqft, dtype: float64"
      ]
     },
     "execution_count": 26,
     "metadata": {},
     "output_type": "execute_result"
    }
   ],
   "source": [
    "df5_stats = df5['price_per_sqft'].describe()\n",
    "df5_stats"
   ]
  },
  {
   "cell_type": "code",
   "execution_count": 27,
   "id": "226c5bd9",
   "metadata": {},
   "outputs": [
    {
     "data": {
      "text/plain": [
       "365"
      ]
     },
     "execution_count": 27,
     "metadata": {},
     "output_type": "execute_result"
    }
   ],
   "source": [
    "len(df5.location.unique())"
   ]
  },
  {
   "cell_type": "code",
   "execution_count": 28,
   "id": "f9e7bd2b",
   "metadata": {},
   "outputs": [],
   "source": [
    "df5.to_csv(\"thp.csv\",index=False)"
   ]
  },
  {
   "cell_type": "code",
   "execution_count": 29,
   "id": "1aedbcff",
   "metadata": {},
   "outputs": [
    {
     "data": {
      "text/plain": [
       "location\n",
       "Tamsui Dist., New Taipei City       71\n",
       "Wenshan Dist., Taipei City          40\n",
       "Bali Dist., New Taipei City         40\n",
       "Baoshan Township, Hsinchu County    39\n",
       "Ruifang Dist., New Taipei City      39\n",
       "                                    ..\n",
       "Da’an Dist., Taipei Ci               3\n",
       "Nan’ao Township, Yilan Coun          2\n",
       "Tai’an Township, Miaoli Coun         2\n",
       "Su’ao Township, Yilan Coun           2\n",
       "Ren’ai Dist., Keelung Ci             1\n",
       "Name: location, Length: 365, dtype: int64"
      ]
     },
     "execution_count": 29,
     "metadata": {},
     "output_type": "execute_result"
    }
   ],
   "source": [
    "df5.location = df5.location.apply(lambda x: x.strip())\n",
    "location_stats = df5.groupby('location')['location'].agg('count').sort_values(ascending=False)\n",
    "location_stats"
   ]
  },
  {
   "cell_type": "code",
   "execution_count": 30,
   "id": "62b1e0ca",
   "metadata": {},
   "outputs": [
    {
     "data": {
      "text/plain": [
       "12999"
      ]
     },
     "execution_count": 30,
     "metadata": {},
     "output_type": "execute_result"
    }
   ],
   "source": [
    "location_stats.values.sum()"
   ]
  },
  {
   "cell_type": "code",
   "execution_count": 31,
   "id": "1818221f",
   "metadata": {},
   "outputs": [
    {
     "data": {
      "text/plain": [
       "360"
      ]
     },
     "execution_count": 31,
     "metadata": {},
     "output_type": "execute_result"
    }
   ],
   "source": [
    "len(location_stats[location_stats>10])"
   ]
  },
  {
   "cell_type": "code",
   "execution_count": 32,
   "id": "4aae8ca2",
   "metadata": {},
   "outputs": [
    {
     "data": {
      "text/plain": [
       "365"
      ]
     },
     "execution_count": 32,
     "metadata": {},
     "output_type": "execute_result"
    }
   ],
   "source": [
    "len(location_stats)"
   ]
  },
  {
   "cell_type": "code",
   "execution_count": 33,
   "id": "5b3da80d",
   "metadata": {},
   "outputs": [
    {
     "data": {
      "text/plain": [
       "5"
      ]
     },
     "execution_count": 33,
     "metadata": {},
     "output_type": "execute_result"
    }
   ],
   "source": [
    "len(location_stats[location_stats<=10])"
   ]
  },
  {
   "cell_type": "markdown",
   "id": "e248da25",
   "metadata": {},
   "source": [
    "### Dimensionality Reduction\n",
    "**Any location having less than 10 data points should be tagged as \"other\" location. This way number of categories can be reduced by huge amount.**"
   ]
  },
  {
   "cell_type": "code",
   "execution_count": 34,
   "id": "dbb226f2",
   "metadata": {},
   "outputs": [
    {
     "data": {
      "text/plain": [
       "location\n",
       "Da’an Dist., Taipei Ci          3\n",
       "Nan’ao Township, Yilan Coun     2\n",
       "Tai’an Township, Miaoli Coun    2\n",
       "Su’ao Township, Yilan Coun      2\n",
       "Ren’ai Dist., Keelung Ci        1\n",
       "Name: location, dtype: int64"
      ]
     },
     "execution_count": 34,
     "metadata": {},
     "output_type": "execute_result"
    }
   ],
   "source": [
    "location_stats_less_than_10 = location_stats[location_stats<=10]\n",
    "location_stats_less_than_10"
   ]
  },
  {
   "cell_type": "code",
   "execution_count": 35,
   "id": "8ae7b734",
   "metadata": {},
   "outputs": [
    {
     "data": {
      "text/plain": [
       "365"
      ]
     },
     "execution_count": 35,
     "metadata": {},
     "output_type": "execute_result"
    }
   ],
   "source": [
    "len(df5.location.unique())"
   ]
  },
  {
   "cell_type": "code",
   "execution_count": 36,
   "id": "37cccb4d",
   "metadata": {},
   "outputs": [
    {
     "data": {
      "text/plain": [
       "361"
      ]
     },
     "execution_count": 36,
     "metadata": {},
     "output_type": "execute_result"
    }
   ],
   "source": [
    "df5.location = df5.location.apply(lambda x: 'other' if x in location_stats_less_than_10 else x)\n",
    "len(df5.location.unique())"
   ]
  },
  {
   "cell_type": "code",
   "execution_count": 37,
   "id": "e87790e3",
   "metadata": {},
   "outputs": [
    {
     "data": {
      "text/html": [
       "<div>\n",
       "<style scoped>\n",
       "    .dataframe tbody tr th:only-of-type {\n",
       "        vertical-align: middle;\n",
       "    }\n",
       "\n",
       "    .dataframe tbody tr th {\n",
       "        vertical-align: top;\n",
       "    }\n",
       "\n",
       "    .dataframe thead th {\n",
       "        text-align: right;\n",
       "    }\n",
       "</style>\n",
       "<table border=\"1\" class=\"dataframe\">\n",
       "  <thead>\n",
       "    <tr style=\"text-align: right;\">\n",
       "      <th></th>\n",
       "      <th>location</th>\n",
       "      <th>size</th>\n",
       "      <th>total_sqft</th>\n",
       "      <th>bath</th>\n",
       "      <th>price</th>\n",
       "      <th>bhk</th>\n",
       "      <th>price_per_sqft</th>\n",
       "    </tr>\n",
       "  </thead>\n",
       "  <tbody>\n",
       "    <tr>\n",
       "      <th>0</th>\n",
       "      <td>Zhongzheng Dist., Taipei City</td>\n",
       "      <td>2 BHK</td>\n",
       "      <td>1056.0</td>\n",
       "      <td>2.0</td>\n",
       "      <td>203.164</td>\n",
       "      <td>2</td>\n",
       "      <td>19239.015152</td>\n",
       "    </tr>\n",
       "    <tr>\n",
       "      <th>1</th>\n",
       "      <td>Datong Dist., Taipei City</td>\n",
       "      <td>4 Bedroom</td>\n",
       "      <td>2600.0</td>\n",
       "      <td>5.0</td>\n",
       "      <td>624.000</td>\n",
       "      <td>4</td>\n",
       "      <td>24000.000000</td>\n",
       "    </tr>\n",
       "    <tr>\n",
       "      <th>2</th>\n",
       "      <td>Zhongshan Dist., Taipei City</td>\n",
       "      <td>3 BHK</td>\n",
       "      <td>1440.0</td>\n",
       "      <td>2.0</td>\n",
       "      <td>322.400</td>\n",
       "      <td>3</td>\n",
       "      <td>22388.888889</td>\n",
       "    </tr>\n",
       "    <tr>\n",
       "      <th>3</th>\n",
       "      <td>Songshan Dist., Taipei City</td>\n",
       "      <td>3 BHK</td>\n",
       "      <td>1521.0</td>\n",
       "      <td>3.0</td>\n",
       "      <td>494.000</td>\n",
       "      <td>3</td>\n",
       "      <td>32478.632479</td>\n",
       "    </tr>\n",
       "    <tr>\n",
       "      <th>4</th>\n",
       "      <td>other</td>\n",
       "      <td>2 BHK</td>\n",
       "      <td>1200.0</td>\n",
       "      <td>2.0</td>\n",
       "      <td>265.200</td>\n",
       "      <td>2</td>\n",
       "      <td>22100.000000</td>\n",
       "    </tr>\n",
       "    <tr>\n",
       "      <th>5</th>\n",
       "      <td>Wanhua Dist., Taipei City</td>\n",
       "      <td>2 BHK</td>\n",
       "      <td>1170.0</td>\n",
       "      <td>2.0</td>\n",
       "      <td>197.600</td>\n",
       "      <td>2</td>\n",
       "      <td>16888.888889</td>\n",
       "    </tr>\n",
       "    <tr>\n",
       "      <th>6</th>\n",
       "      <td>Xinyi Dist., Taipei City</td>\n",
       "      <td>4 BHK</td>\n",
       "      <td>2732.0</td>\n",
       "      <td>4.0</td>\n",
       "      <td>1060.800</td>\n",
       "      <td>4</td>\n",
       "      <td>38828.696925</td>\n",
       "    </tr>\n",
       "    <tr>\n",
       "      <th>7</th>\n",
       "      <td>Shilin Dist., Taipei City</td>\n",
       "      <td>4 BHK</td>\n",
       "      <td>3300.0</td>\n",
       "      <td>4.0</td>\n",
       "      <td>3120.000</td>\n",
       "      <td>4</td>\n",
       "      <td>94545.454545</td>\n",
       "    </tr>\n",
       "    <tr>\n",
       "      <th>8</th>\n",
       "      <td>Beitou Dist., Taipei City</td>\n",
       "      <td>3 BHK</td>\n",
       "      <td>1310.0</td>\n",
       "      <td>3.0</td>\n",
       "      <td>328.900</td>\n",
       "      <td>3</td>\n",
       "      <td>25106.870229</td>\n",
       "    </tr>\n",
       "    <tr>\n",
       "      <th>9</th>\n",
       "      <td>Neihu Dist., Taipei City</td>\n",
       "      <td>6 Bedroom</td>\n",
       "      <td>1020.0</td>\n",
       "      <td>6.0</td>\n",
       "      <td>1924.000</td>\n",
       "      <td>6</td>\n",
       "      <td>188627.450980</td>\n",
       "    </tr>\n",
       "  </tbody>\n",
       "</table>\n",
       "</div>"
      ],
      "text/plain": [
       "                        location       size  total_sqft  bath     price  bhk  \\\n",
       "0  Zhongzheng Dist., Taipei City      2 BHK      1056.0   2.0   203.164    2   \n",
       "1      Datong Dist., Taipei City  4 Bedroom      2600.0   5.0   624.000    4   \n",
       "2   Zhongshan Dist., Taipei City      3 BHK      1440.0   2.0   322.400    3   \n",
       "3    Songshan Dist., Taipei City      3 BHK      1521.0   3.0   494.000    3   \n",
       "4                          other      2 BHK      1200.0   2.0   265.200    2   \n",
       "5      Wanhua Dist., Taipei City      2 BHK      1170.0   2.0   197.600    2   \n",
       "6       Xinyi Dist., Taipei City      4 BHK      2732.0   4.0  1060.800    4   \n",
       "7      Shilin Dist., Taipei City      4 BHK      3300.0   4.0  3120.000    4   \n",
       "8      Beitou Dist., Taipei City      3 BHK      1310.0   3.0   328.900    3   \n",
       "9       Neihu Dist., Taipei City  6 Bedroom      1020.0   6.0  1924.000    6   \n",
       "\n",
       "   price_per_sqft  \n",
       "0    19239.015152  \n",
       "1    24000.000000  \n",
       "2    22388.888889  \n",
       "3    32478.632479  \n",
       "4    22100.000000  \n",
       "5    16888.888889  \n",
       "6    38828.696925  \n",
       "7    94545.454545  \n",
       "8    25106.870229  \n",
       "9   188627.450980  "
      ]
     },
     "execution_count": 37,
     "metadata": {},
     "output_type": "execute_result"
    }
   ],
   "source": [
    "df5.head(10)"
   ]
  },
  {
   "cell_type": "markdown",
   "id": "49a45c0f",
   "metadata": {},
   "source": [
    "### Outlier Removal Using Business Logic\n",
    "**normally square ft per bedroom is 110 (i.e. 2 bhk apartment is minimum 220 sqft. If you have for example 150 sqft apartment with 2 bhk than that seems suspicious and can be removed as an outlier. We will remove such outliers by keeping our minimum thresold per bhk to be 110 sqft"
   ]
  },
  {
   "cell_type": "code",
   "execution_count": 38,
   "id": "a6e1a330",
   "metadata": {},
   "outputs": [
    {
     "data": {
      "text/html": [
       "<div>\n",
       "<style scoped>\n",
       "    .dataframe tbody tr th:only-of-type {\n",
       "        vertical-align: middle;\n",
       "    }\n",
       "\n",
       "    .dataframe tbody tr th {\n",
       "        vertical-align: top;\n",
       "    }\n",
       "\n",
       "    .dataframe thead th {\n",
       "        text-align: right;\n",
       "    }\n",
       "</style>\n",
       "<table border=\"1\" class=\"dataframe\">\n",
       "  <thead>\n",
       "    <tr style=\"text-align: right;\">\n",
       "      <th></th>\n",
       "      <th>location</th>\n",
       "      <th>size</th>\n",
       "      <th>total_sqft</th>\n",
       "      <th>bath</th>\n",
       "      <th>price</th>\n",
       "      <th>bhk</th>\n",
       "      <th>price_per_sqft</th>\n",
       "    </tr>\n",
       "  </thead>\n",
       "  <tbody>\n",
       "    <tr>\n",
       "      <th>45</th>\n",
       "      <td>Linkou Dist., New Taipei City</td>\n",
       "      <td>8 Bedroom</td>\n",
       "      <td>600.0</td>\n",
       "      <td>9.0</td>\n",
       "      <td>1040.0</td>\n",
       "      <td>8</td>\n",
       "      <td>1.733333e+05</td>\n",
       "    </tr>\n",
       "    <tr>\n",
       "      <th>349</th>\n",
       "      <td>Donghe Township, Taitung County</td>\n",
       "      <td>3 Bedroom</td>\n",
       "      <td>11.0</td>\n",
       "      <td>3.0</td>\n",
       "      <td>384.8</td>\n",
       "      <td>3</td>\n",
       "      <td>3.498182e+06</td>\n",
       "    </tr>\n",
       "    <tr>\n",
       "      <th>482</th>\n",
       "      <td>Central Dist., Taichung City</td>\n",
       "      <td>5 Bedroom</td>\n",
       "      <td>500.0</td>\n",
       "      <td>3.0</td>\n",
       "      <td>338.0</td>\n",
       "      <td>5</td>\n",
       "      <td>6.760000e+04</td>\n",
       "    </tr>\n",
       "    <tr>\n",
       "      <th>770</th>\n",
       "      <td>Shiding Dist., New Taipei City</td>\n",
       "      <td>9 Bedroom</td>\n",
       "      <td>600.0</td>\n",
       "      <td>9.0</td>\n",
       "      <td>988.0</td>\n",
       "      <td>9</td>\n",
       "      <td>1.646667e+05</td>\n",
       "    </tr>\n",
       "    <tr>\n",
       "      <th>789</th>\n",
       "      <td>Wugu Dist., New Taipei City</td>\n",
       "      <td>6 Bedroom</td>\n",
       "      <td>600.0</td>\n",
       "      <td>4.0</td>\n",
       "      <td>338.0</td>\n",
       "      <td>6</td>\n",
       "      <td>5.633333e+04</td>\n",
       "    </tr>\n",
       "  </tbody>\n",
       "</table>\n",
       "</div>"
      ],
      "text/plain": [
       "                            location       size  total_sqft  bath   price  \\\n",
       "45     Linkou Dist., New Taipei City  8 Bedroom       600.0   9.0  1040.0   \n",
       "349  Donghe Township, Taitung County  3 Bedroom        11.0   3.0   384.8   \n",
       "482     Central Dist., Taichung City  5 Bedroom       500.0   3.0   338.0   \n",
       "770   Shiding Dist., New Taipei City  9 Bedroom       600.0   9.0   988.0   \n",
       "789      Wugu Dist., New Taipei City  6 Bedroom       600.0   4.0   338.0   \n",
       "\n",
       "     bhk  price_per_sqft  \n",
       "45     8    1.733333e+05  \n",
       "349    3    3.498182e+06  \n",
       "482    5    6.760000e+04  \n",
       "770    9    1.646667e+05  \n",
       "789    6    5.633333e+04  "
      ]
     },
     "execution_count": 38,
     "metadata": {},
     "output_type": "execute_result"
    }
   ],
   "source": [
    "df5[df5.total_sqft/df5.bhk<110].head()"
   ]
  },
  {
   "cell_type": "code",
   "execution_count": 39,
   "id": "bd59a6d2",
   "metadata": {},
   "outputs": [
    {
     "data": {
      "text/plain": [
       "(12999, 7)"
      ]
     },
     "execution_count": 39,
     "metadata": {},
     "output_type": "execute_result"
    }
   ],
   "source": [
    "df5.shape"
   ]
  },
  {
   "cell_type": "code",
   "execution_count": 40,
   "id": "70873343",
   "metadata": {},
   "outputs": [
    {
     "data": {
      "text/plain": [
       "(12933, 7)"
      ]
     },
     "execution_count": 40,
     "metadata": {},
     "output_type": "execute_result"
    }
   ],
   "source": [
    "df6 = df5[~(df5.total_sqft/df5.bhk<110)]\n",
    "df6.shape"
   ]
  },
  {
   "cell_type": "markdown",
   "id": "d530eb90",
   "metadata": {},
   "source": [
    "### Outlier Removal Using Standard Deviation and Mean"
   ]
  },
  {
   "cell_type": "code",
   "execution_count": 41,
   "id": "56b84bb3",
   "metadata": {},
   "outputs": [
    {
     "data": {
      "text/plain": [
       "count     12887.000000\n",
       "mean      34576.610644\n",
       "std       23379.729485\n",
       "min        1392.715029\n",
       "25%       22165.632552\n",
       "50%       28172.323760\n",
       "75%       37818.181818\n",
       "max      917647.058824\n",
       "Name: price_per_sqft, dtype: float64"
      ]
     },
     "execution_count": 41,
     "metadata": {},
     "output_type": "execute_result"
    }
   ],
   "source": [
    "df6.price_per_sqft.describe()"
   ]
  },
  {
   "cell_type": "markdown",
   "id": "d2b7ca5d",
   "metadata": {},
   "source": [
    "**Here we find that min price per sqft is 1044 twd/sqft whereas max is 688235, this shows a wide variation in property prices. We should remove outliers per location using mean and one standard deviation**"
   ]
  },
  {
   "cell_type": "code",
   "execution_count": 42,
   "id": "2f240b7e",
   "metadata": {},
   "outputs": [
    {
     "data": {
      "text/plain": [
       "(10802, 7)"
      ]
     },
     "execution_count": 42,
     "metadata": {},
     "output_type": "execute_result"
    }
   ],
   "source": [
    "def remove_pps_outliers(df):\n",
    "    df_out = pd.DataFrame()\n",
    "    for key, subdf in df.groupby('location'):\n",
    "        m = np.mean(subdf.price_per_sqft)\n",
    "        st = np.std(subdf.price_per_sqft)\n",
    "        reduced_df = subdf[(subdf.price_per_sqft>(m-st)) & (subdf.price_per_sqft<=(m+st))]\n",
    "        df_out = pd.concat([df_out,reduced_df],ignore_index=True)\n",
    "    return df_out\n",
    "df7 = remove_pps_outliers(df6)\n",
    "df7.shape"
   ]
  },
  {
   "cell_type": "code",
   "execution_count": 43,
   "id": "03519113",
   "metadata": {},
   "outputs": [
    {
     "data": {
      "text/html": [
       "<div>\n",
       "<style scoped>\n",
       "    .dataframe tbody tr th:only-of-type {\n",
       "        vertical-align: middle;\n",
       "    }\n",
       "\n",
       "    .dataframe tbody tr th {\n",
       "        vertical-align: top;\n",
       "    }\n",
       "\n",
       "    .dataframe thead th {\n",
       "        text-align: right;\n",
       "    }\n",
       "</style>\n",
       "<table border=\"1\" class=\"dataframe\">\n",
       "  <thead>\n",
       "    <tr style=\"text-align: right;\">\n",
       "      <th></th>\n",
       "      <th>location</th>\n",
       "      <th>size</th>\n",
       "      <th>total_sqft</th>\n",
       "      <th>bath</th>\n",
       "      <th>price</th>\n",
       "      <th>bhk</th>\n",
       "      <th>price_per_sqft</th>\n",
       "    </tr>\n",
       "  </thead>\n",
       "  <tbody>\n",
       "    <tr>\n",
       "      <th>0</th>\n",
       "      <td>Alian Dist., Kaohsiung City</td>\n",
       "      <td>2 BHK</td>\n",
       "      <td>883.0</td>\n",
       "      <td>2.0</td>\n",
       "      <td>234.00</td>\n",
       "      <td>2</td>\n",
       "      <td>26500.566251</td>\n",
       "    </tr>\n",
       "    <tr>\n",
       "      <th>1</th>\n",
       "      <td>Alian Dist., Kaohsiung City</td>\n",
       "      <td>1 BHK</td>\n",
       "      <td>750.0</td>\n",
       "      <td>1.0</td>\n",
       "      <td>208.00</td>\n",
       "      <td>1</td>\n",
       "      <td>27733.333333</td>\n",
       "    </tr>\n",
       "    <tr>\n",
       "      <th>2</th>\n",
       "      <td>Alian Dist., Kaohsiung City</td>\n",
       "      <td>3 BHK</td>\n",
       "      <td>1100.0</td>\n",
       "      <td>3.0</td>\n",
       "      <td>275.60</td>\n",
       "      <td>3</td>\n",
       "      <td>25054.545455</td>\n",
       "    </tr>\n",
       "    <tr>\n",
       "      <th>3</th>\n",
       "      <td>Alian Dist., Kaohsiung City</td>\n",
       "      <td>4 Bedroom</td>\n",
       "      <td>4000.0</td>\n",
       "      <td>4.0</td>\n",
       "      <td>1716.00</td>\n",
       "      <td>4</td>\n",
       "      <td>42900.000000</td>\n",
       "    </tr>\n",
       "    <tr>\n",
       "      <th>4</th>\n",
       "      <td>Alian Dist., Kaohsiung City</td>\n",
       "      <td>2 BHK</td>\n",
       "      <td>985.0</td>\n",
       "      <td>2.0</td>\n",
       "      <td>301.60</td>\n",
       "      <td>2</td>\n",
       "      <td>30619.289340</td>\n",
       "    </tr>\n",
       "    <tr>\n",
       "      <th>...</th>\n",
       "      <td>...</td>\n",
       "      <td>...</td>\n",
       "      <td>...</td>\n",
       "      <td>...</td>\n",
       "      <td>...</td>\n",
       "      <td>...</td>\n",
       "      <td>...</td>\n",
       "    </tr>\n",
       "    <tr>\n",
       "      <th>10797</th>\n",
       "      <td>other</td>\n",
       "      <td>3 BHK</td>\n",
       "      <td>1630.0</td>\n",
       "      <td>2.0</td>\n",
       "      <td>509.60</td>\n",
       "      <td>3</td>\n",
       "      <td>31263.803681</td>\n",
       "    </tr>\n",
       "    <tr>\n",
       "      <th>10798</th>\n",
       "      <td>other</td>\n",
       "      <td>3 BHK</td>\n",
       "      <td>1260.0</td>\n",
       "      <td>2.0</td>\n",
       "      <td>442.26</td>\n",
       "      <td>3</td>\n",
       "      <td>35100.000000</td>\n",
       "    </tr>\n",
       "    <tr>\n",
       "      <th>10799</th>\n",
       "      <td>other</td>\n",
       "      <td>2 BHK</td>\n",
       "      <td>1160.0</td>\n",
       "      <td>2.0</td>\n",
       "      <td>228.80</td>\n",
       "      <td>2</td>\n",
       "      <td>19724.137931</td>\n",
       "    </tr>\n",
       "    <tr>\n",
       "      <th>10800</th>\n",
       "      <td>other</td>\n",
       "      <td>3 BHK</td>\n",
       "      <td>1150.0</td>\n",
       "      <td>2.0</td>\n",
       "      <td>403.00</td>\n",
       "      <td>3</td>\n",
       "      <td>35043.478261</td>\n",
       "    </tr>\n",
       "    <tr>\n",
       "      <th>10801</th>\n",
       "      <td>other</td>\n",
       "      <td>2 BHK</td>\n",
       "      <td>1340.0</td>\n",
       "      <td>2.0</td>\n",
       "      <td>390.00</td>\n",
       "      <td>2</td>\n",
       "      <td>29104.477612</td>\n",
       "    </tr>\n",
       "  </tbody>\n",
       "</table>\n",
       "<p>10802 rows × 7 columns</p>\n",
       "</div>"
      ],
      "text/plain": [
       "                          location       size  total_sqft  bath    price  bhk  \\\n",
       "0      Alian Dist., Kaohsiung City      2 BHK       883.0   2.0   234.00    2   \n",
       "1      Alian Dist., Kaohsiung City      1 BHK       750.0   1.0   208.00    1   \n",
       "2      Alian Dist., Kaohsiung City      3 BHK      1100.0   3.0   275.60    3   \n",
       "3      Alian Dist., Kaohsiung City  4 Bedroom      4000.0   4.0  1716.00    4   \n",
       "4      Alian Dist., Kaohsiung City      2 BHK       985.0   2.0   301.60    2   \n",
       "...                            ...        ...         ...   ...      ...  ...   \n",
       "10797                        other      3 BHK      1630.0   2.0   509.60    3   \n",
       "10798                        other      3 BHK      1260.0   2.0   442.26    3   \n",
       "10799                        other      2 BHK      1160.0   2.0   228.80    2   \n",
       "10800                        other      3 BHK      1150.0   2.0   403.00    3   \n",
       "10801                        other      2 BHK      1340.0   2.0   390.00    2   \n",
       "\n",
       "       price_per_sqft  \n",
       "0        26500.566251  \n",
       "1        27733.333333  \n",
       "2        25054.545455  \n",
       "3        42900.000000  \n",
       "4        30619.289340  \n",
       "...               ...  \n",
       "10797    31263.803681  \n",
       "10798    35100.000000  \n",
       "10799    19724.137931  \n",
       "10800    35043.478261  \n",
       "10801    29104.477612  \n",
       "\n",
       "[10802 rows x 7 columns]"
      ]
     },
     "execution_count": 43,
     "metadata": {},
     "output_type": "execute_result"
    }
   ],
   "source": [
    "df7"
   ]
  },
  {
   "cell_type": "code",
   "execution_count": 44,
   "id": "74c96eb6",
   "metadata": {},
   "outputs": [
    {
     "data": {
      "image/png": "[encoded data removed]",
      "text/plain": [
       "<Figure size 1080x720 with 1 Axes>"
      ]
     },
     "metadata": {
      "needs_background": "light"
     },
     "output_type": "display_data"
    }
   ],
   "source": [
    "def plot_scatter_chart(df,location):\n",
    "    bhk2 = df[(df.location==location) & (df.bhk==2)]\n",
    "    bhk3 = df[(df.location==location) & (df.bhk==3)]\n",
    "    matplotlib.rcParams['figure.figsize'] = (15,10)\n",
    "    plt.scatter(bhk2.total_sqft,bhk2.price, color='blue', label='2 BHK', s=50)\n",
    "    plt.scatter(bhk3.total_sqft,bhk3.price, marker='+', color = 'green', label='3 BHK', s=50)\n",
    "    plt.xlabel(\"Total Square Feet Area\")\n",
    "    plt.ylabel(\"Price Per Square Feet\")\n",
    "    plt.title(location)\n",
    "    plt.legend()\n",
    "    \n",
    "plot_scatter_chart(df7, \"Zhongshan Dist., Taipei City\")"
   ]
  },
  {
   "cell_type": "markdown",
   "id": "c6a5ef15",
   "metadata": {},
   "source": [
    "**We should also remove properties where for same location, the price of (for example) 3 bedroom apartment(with same square ft area). What we will do so is for a given location, we will build a dictionary of stats per bhk. Now we can remove those 2 BHK apartments whose price_per_sqft is less than mean price_per_sqft of 1 BHK apartment**"
   ]
  },
  {
   "cell_type": "code",
   "execution_count": 45,
   "id": "09420d17",
   "metadata": {},
   "outputs": [
    {
     "data": {
      "text/plain": [
       "(8930, 7)"
      ]
     },
     "execution_count": 45,
     "metadata": {},
     "output_type": "execute_result"
    }
   ],
   "source": [
    "def remove_bhk_outliers(df):\n",
    "    exclude_indices = np.array([])\n",
    "    for location, location_df in df.groupby('location'):\n",
    "        bhk_stats = {}\n",
    "        for bhk, bhk_df in location_df.groupby('bhk'):\n",
    "            bhk_stats[bhk] = {\n",
    "                'mean':np.mean(bhk_df.price_per_sqft),\n",
    "                'std': np.std(bhk_df.price_per_sqft),\n",
    "                'count': bhk_df.shape[0]\n",
    "            }\n",
    "        for bhk, bhk_df in location_df.groupby('bhk'):\n",
    "            stats =bhk_stats.get(bhk-1)\n",
    "            if stats and stats['count'] > 5:\n",
    "                exclude_indices = np.append(exclude_indices, bhk_df[bhk_df.price_per_sqft<(stats['mean'])].index.values\n",
    "            )\n",
    "    return df.drop(exclude_indices,axis='index')\n",
    "\n",
    "df8 = remove_bhk_outliers(df7)\n",
    "df8.shape"
   ]
  },
  {
   "cell_type": "code",
   "execution_count": 46,
   "id": "2d06d99e",
   "metadata": {},
   "outputs": [
    {
     "data": {
      "image/png": "[encoded data removed]",
      "text/plain": [
       "<Figure size 1080x720 with 1 Axes>"
      ]
     },
     "metadata": {
      "needs_background": "light"
     },
     "output_type": "display_data"
    }
   ],
   "source": [
    "plot_scatter_chart(df8, \"Zhongshan Dist., Taipei City\")"
   ]
  },
  {
   "cell_type": "code",
   "execution_count": 47,
   "id": "6aa40278",
   "metadata": {},
   "outputs": [
    {
     "data": {
      "text/plain": [
       "Text(0, 0.5, 'Count')"
      ]
     },
     "execution_count": 47,
     "metadata": {},
     "output_type": "execute_result"
    },
    {
     "data": {
      "image/png": "[encoded data removed]",
      "text/plain": [
       "<Figure size 1440x720 with 1 Axes>"
      ]
     },
     "metadata": {
      "needs_background": "light"
     },
     "output_type": "display_data"
    }
   ],
   "source": [
    "import matplotlib\n",
    "matplotlib.rcParams[\"figure.figsize\"] = (20,10)\n",
    "plt.hist(df8.price_per_sqft, rwidth=0.8)\n",
    "plt.xlabel(\"Price Per Square Feet\")\n",
    "plt.ylabel(\"Count\")"
   ]
  },
  {
   "cell_type": "markdown",
   "id": "7b925a6d",
   "metadata": {},
   "source": [
    "### Outlier Removal Using Bathrooms Feature"
   ]
  },
  {
   "cell_type": "code",
   "execution_count": 48,
   "id": "4d283b4d",
   "metadata": {},
   "outputs": [
    {
     "data": {
      "text/plain": [
       "array([ 2.,  1.,  4.,  3.,  6.,  5.,  7.,  9.,  8., 16., 12., 10., 13.,\n",
       "       11.])"
      ]
     },
     "execution_count": 48,
     "metadata": {},
     "output_type": "execute_result"
    }
   ],
   "source": [
    "df8.bath.unique()"
   ]
  },
  {
   "cell_type": "code",
   "execution_count": 49,
   "id": "a60cab7c",
   "metadata": {},
   "outputs": [
    {
     "data": {
      "text/html": [
       "<div>\n",
       "<style scoped>\n",
       "    .dataframe tbody tr th:only-of-type {\n",
       "        vertical-align: middle;\n",
       "    }\n",
       "\n",
       "    .dataframe tbody tr th {\n",
       "        vertical-align: top;\n",
       "    }\n",
       "\n",
       "    .dataframe thead th {\n",
       "        text-align: right;\n",
       "    }\n",
       "</style>\n",
       "<table border=\"1\" class=\"dataframe\">\n",
       "  <thead>\n",
       "    <tr style=\"text-align: right;\">\n",
       "      <th></th>\n",
       "      <th>location</th>\n",
       "      <th>size</th>\n",
       "      <th>total_sqft</th>\n",
       "      <th>bath</th>\n",
       "      <th>price</th>\n",
       "      <th>bhk</th>\n",
       "      <th>price_per_sqft</th>\n",
       "    </tr>\n",
       "  </thead>\n",
       "  <tbody>\n",
       "    <tr>\n",
       "      <th>2471</th>\n",
       "      <td>Gangshan Dist., Kaohsiung City</td>\n",
       "      <td>16 BHK</td>\n",
       "      <td>10000.0</td>\n",
       "      <td>16.0</td>\n",
       "      <td>2860.0</td>\n",
       "      <td>16</td>\n",
       "      <td>28600.000000</td>\n",
       "    </tr>\n",
       "    <tr>\n",
       "      <th>3102</th>\n",
       "      <td>Houlong Township, Miaoli County</td>\n",
       "      <td>8 Bedroom</td>\n",
       "      <td>1200.0</td>\n",
       "      <td>12.0</td>\n",
       "      <td>572.0</td>\n",
       "      <td>8</td>\n",
       "      <td>47666.666667</td>\n",
       "    </tr>\n",
       "    <tr>\n",
       "      <th>5688</th>\n",
       "      <td>Pingtung City, Pingtung County</td>\n",
       "      <td>9 Bedroom</td>\n",
       "      <td>1200.0</td>\n",
       "      <td>13.0</td>\n",
       "      <td>780.0</td>\n",
       "      <td>9</td>\n",
       "      <td>65000.000000</td>\n",
       "    </tr>\n",
       "    <tr>\n",
       "      <th>6672</th>\n",
       "      <td>Shanlin Dist., Kaohsiung City</td>\n",
       "      <td>13 BHK</td>\n",
       "      <td>5425.0</td>\n",
       "      <td>13.0</td>\n",
       "      <td>1430.0</td>\n",
       "      <td>13</td>\n",
       "      <td>26359.447005</td>\n",
       "    </tr>\n",
       "    <tr>\n",
       "      <th>7325</th>\n",
       "      <td>Taibao City, Chiayi County</td>\n",
       "      <td>11 BHK</td>\n",
       "      <td>6000.0</td>\n",
       "      <td>12.0</td>\n",
       "      <td>780.0</td>\n",
       "      <td>11</td>\n",
       "      <td>13000.000000</td>\n",
       "    </tr>\n",
       "    <tr>\n",
       "      <th>7863</th>\n",
       "      <td>Toufen City, Miaoli County</td>\n",
       "      <td>10 Bedroom</td>\n",
       "      <td>1200.0</td>\n",
       "      <td>11.0</td>\n",
       "      <td>546.0</td>\n",
       "      <td>10</td>\n",
       "      <td>45500.000000</td>\n",
       "    </tr>\n",
       "    <tr>\n",
       "      <th>7889</th>\n",
       "      <td>Touwu Township, Miaoli County</td>\n",
       "      <td>10 BHK</td>\n",
       "      <td>4000.0</td>\n",
       "      <td>12.0</td>\n",
       "      <td>832.0</td>\n",
       "      <td>10</td>\n",
       "      <td>20800.000000</td>\n",
       "    </tr>\n",
       "    <tr>\n",
       "      <th>9039</th>\n",
       "      <td>Xinshe Dist., Taichung City</td>\n",
       "      <td>10 BHK</td>\n",
       "      <td>12000.0</td>\n",
       "      <td>12.0</td>\n",
       "      <td>2730.0</td>\n",
       "      <td>10</td>\n",
       "      <td>22750.000000</td>\n",
       "    </tr>\n",
       "  </tbody>\n",
       "</table>\n",
       "</div>"
      ],
      "text/plain": [
       "                             location        size  total_sqft  bath   price  \\\n",
       "2471   Gangshan Dist., Kaohsiung City      16 BHK     10000.0  16.0  2860.0   \n",
       "3102  Houlong Township, Miaoli County   8 Bedroom      1200.0  12.0   572.0   \n",
       "5688   Pingtung City, Pingtung County   9 Bedroom      1200.0  13.0   780.0   \n",
       "6672    Shanlin Dist., Kaohsiung City      13 BHK      5425.0  13.0  1430.0   \n",
       "7325       Taibao City, Chiayi County      11 BHK      6000.0  12.0   780.0   \n",
       "7863       Toufen City, Miaoli County  10 Bedroom      1200.0  11.0   546.0   \n",
       "7889    Touwu Township, Miaoli County      10 BHK      4000.0  12.0   832.0   \n",
       "9039      Xinshe Dist., Taichung City      10 BHK     12000.0  12.0  2730.0   \n",
       "\n",
       "      bhk  price_per_sqft  \n",
       "2471   16    28600.000000  \n",
       "3102    8    47666.666667  \n",
       "5688    9    65000.000000  \n",
       "6672   13    26359.447005  \n",
       "7325   11    13000.000000  \n",
       "7863   10    45500.000000  \n",
       "7889   10    20800.000000  \n",
       "9039   10    22750.000000  "
      ]
     },
     "execution_count": 49,
     "metadata": {},
     "output_type": "execute_result"
    }
   ],
   "source": [
    "df8[df8.bath>10]"
   ]
  },
  {
   "cell_type": "markdown",
   "id": "3541e696",
   "metadata": {},
   "source": [
    "**It is unusual to have 2 more bathrooms than number of bedrooms in a home**"
   ]
  },
  {
   "cell_type": "code",
   "execution_count": 50,
   "id": "85695c7a",
   "metadata": {},
   "outputs": [
    {
     "data": {
      "text/plain": [
       "Text(0, 0.5, 'Count')"
      ]
     },
     "execution_count": 50,
     "metadata": {},
     "output_type": "execute_result"
    },
    {
     "data": {
      "image/png": "[encoded data removed]",
      "text/plain": [
       "<Figure size 1440x720 with 1 Axes>"
      ]
     },
     "metadata": {
      "needs_background": "light"
     },
     "output_type": "display_data"
    }
   ],
   "source": [
    "plt.hist(df8.bath, rwidth=0.8)\n",
    "plt.xlabel(\"Number of bathrooms\")\n",
    "plt.ylabel(\"Count\")"
   ]
  },
  {
   "cell_type": "code",
   "execution_count": 51,
   "id": "abd57e29",
   "metadata": {},
   "outputs": [
    {
     "data": {
      "text/html": [
       "<div>\n",
       "<style scoped>\n",
       "    .dataframe tbody tr th:only-of-type {\n",
       "        vertical-align: middle;\n",
       "    }\n",
       "\n",
       "    .dataframe tbody tr th {\n",
       "        vertical-align: top;\n",
       "    }\n",
       "\n",
       "    .dataframe thead th {\n",
       "        text-align: right;\n",
       "    }\n",
       "</style>\n",
       "<table border=\"1\" class=\"dataframe\">\n",
       "  <thead>\n",
       "    <tr style=\"text-align: right;\">\n",
       "      <th></th>\n",
       "      <th>location</th>\n",
       "      <th>size</th>\n",
       "      <th>total_sqft</th>\n",
       "      <th>bath</th>\n",
       "      <th>price</th>\n",
       "      <th>bhk</th>\n",
       "      <th>price_per_sqft</th>\n",
       "    </tr>\n",
       "  </thead>\n",
       "  <tbody>\n",
       "    <tr>\n",
       "      <th>539</th>\n",
       "      <td>Beinan Township, Taitung County</td>\n",
       "      <td>6 Bedroom</td>\n",
       "      <td>1200.0</td>\n",
       "      <td>9.0</td>\n",
       "      <td>634.4</td>\n",
       "      <td>6</td>\n",
       "      <td>52866.666667</td>\n",
       "    </tr>\n",
       "    <tr>\n",
       "      <th>3102</th>\n",
       "      <td>Houlong Township, Miaoli County</td>\n",
       "      <td>8 Bedroom</td>\n",
       "      <td>1200.0</td>\n",
       "      <td>12.0</td>\n",
       "      <td>572.0</td>\n",
       "      <td>8</td>\n",
       "      <td>47666.666667</td>\n",
       "    </tr>\n",
       "    <tr>\n",
       "      <th>3372</th>\n",
       "      <td>Jiali Dist., Tainan City</td>\n",
       "      <td>4 Bedroom</td>\n",
       "      <td>7000.0</td>\n",
       "      <td>8.0</td>\n",
       "      <td>2340.0</td>\n",
       "      <td>4</td>\n",
       "      <td>33428.571429</td>\n",
       "    </tr>\n",
       "    <tr>\n",
       "      <th>5688</th>\n",
       "      <td>Pingtung City, Pingtung County</td>\n",
       "      <td>9 Bedroom</td>\n",
       "      <td>1200.0</td>\n",
       "      <td>13.0</td>\n",
       "      <td>780.0</td>\n",
       "      <td>9</td>\n",
       "      <td>65000.000000</td>\n",
       "    </tr>\n",
       "    <tr>\n",
       "      <th>6244</th>\n",
       "      <td>Rende Dist., Tainan City</td>\n",
       "      <td>3 BHK</td>\n",
       "      <td>1806.0</td>\n",
       "      <td>6.0</td>\n",
       "      <td>603.2</td>\n",
       "      <td>3</td>\n",
       "      <td>33399.778516</td>\n",
       "    </tr>\n",
       "  </tbody>\n",
       "</table>\n",
       "</div>"
      ],
      "text/plain": [
       "                             location       size  total_sqft  bath   price  \\\n",
       "539   Beinan Township, Taitung County  6 Bedroom      1200.0   9.0   634.4   \n",
       "3102  Houlong Township, Miaoli County  8 Bedroom      1200.0  12.0   572.0   \n",
       "3372         Jiali Dist., Tainan City  4 Bedroom      7000.0   8.0  2340.0   \n",
       "5688   Pingtung City, Pingtung County  9 Bedroom      1200.0  13.0   780.0   \n",
       "6244         Rende Dist., Tainan City      3 BHK      1806.0   6.0   603.2   \n",
       "\n",
       "      bhk  price_per_sqft  \n",
       "539     6    52866.666667  \n",
       "3102    8    47666.666667  \n",
       "3372    4    33428.571429  \n",
       "5688    9    65000.000000  \n",
       "6244    3    33399.778516  "
      ]
     },
     "execution_count": 51,
     "metadata": {},
     "output_type": "execute_result"
    }
   ],
   "source": [
    "df8[df8.bath>df8.bhk+2]"
   ]
  },
  {
   "cell_type": "code",
   "execution_count": 52,
   "id": "1168bcc4",
   "metadata": {},
   "outputs": [
    {
     "data": {
      "text/plain": [
       "(8845, 7)"
      ]
     },
     "execution_count": 52,
     "metadata": {},
     "output_type": "execute_result"
    }
   ],
   "source": [
    "df9 = df8[df8.bath<df8.bhk+2]\n",
    "df9.shape"
   ]
  },
  {
   "cell_type": "code",
   "execution_count": 53,
   "id": "244ae01b",
   "metadata": {},
   "outputs": [
    {
     "data": {
      "text/html": [
       "<div>\n",
       "<style scoped>\n",
       "    .dataframe tbody tr th:only-of-type {\n",
       "        vertical-align: middle;\n",
       "    }\n",
       "\n",
       "    .dataframe tbody tr th {\n",
       "        vertical-align: top;\n",
       "    }\n",
       "\n",
       "    .dataframe thead th {\n",
       "        text-align: right;\n",
       "    }\n",
       "</style>\n",
       "<table border=\"1\" class=\"dataframe\">\n",
       "  <thead>\n",
       "    <tr style=\"text-align: right;\">\n",
       "      <th></th>\n",
       "      <th>location</th>\n",
       "      <th>size</th>\n",
       "      <th>total_sqft</th>\n",
       "      <th>bath</th>\n",
       "      <th>price</th>\n",
       "      <th>bhk</th>\n",
       "      <th>price_per_sqft</th>\n",
       "    </tr>\n",
       "  </thead>\n",
       "  <tbody>\n",
       "    <tr>\n",
       "      <th>0</th>\n",
       "      <td>Alian Dist., Kaohsiung City</td>\n",
       "      <td>2 BHK</td>\n",
       "      <td>883.0</td>\n",
       "      <td>2.0</td>\n",
       "      <td>234.0</td>\n",
       "      <td>2</td>\n",
       "      <td>26500.566251</td>\n",
       "    </tr>\n",
       "    <tr>\n",
       "      <th>1</th>\n",
       "      <td>Alian Dist., Kaohsiung City</td>\n",
       "      <td>1 BHK</td>\n",
       "      <td>750.0</td>\n",
       "      <td>1.0</td>\n",
       "      <td>208.0</td>\n",
       "      <td>1</td>\n",
       "      <td>27733.333333</td>\n",
       "    </tr>\n",
       "    <tr>\n",
       "      <th>3</th>\n",
       "      <td>Alian Dist., Kaohsiung City</td>\n",
       "      <td>4 Bedroom</td>\n",
       "      <td>4000.0</td>\n",
       "      <td>4.0</td>\n",
       "      <td>1716.0</td>\n",
       "      <td>4</td>\n",
       "      <td>42900.000000</td>\n",
       "    </tr>\n",
       "    <tr>\n",
       "      <th>4</th>\n",
       "      <td>Alian Dist., Kaohsiung City</td>\n",
       "      <td>2 BHK</td>\n",
       "      <td>985.0</td>\n",
       "      <td>2.0</td>\n",
       "      <td>301.6</td>\n",
       "      <td>2</td>\n",
       "      <td>30619.289340</td>\n",
       "    </tr>\n",
       "    <tr>\n",
       "      <th>5</th>\n",
       "      <td>Alian Dist., Kaohsiung City</td>\n",
       "      <td>4 BHK</td>\n",
       "      <td>3250.0</td>\n",
       "      <td>4.0</td>\n",
       "      <td>1196.0</td>\n",
       "      <td>4</td>\n",
       "      <td>36800.000000</td>\n",
       "    </tr>\n",
       "  </tbody>\n",
       "</table>\n",
       "</div>"
      ],
      "text/plain": [
       "                      location       size  total_sqft  bath   price  bhk  \\\n",
       "0  Alian Dist., Kaohsiung City      2 BHK       883.0   2.0   234.0    2   \n",
       "1  Alian Dist., Kaohsiung City      1 BHK       750.0   1.0   208.0    1   \n",
       "3  Alian Dist., Kaohsiung City  4 Bedroom      4000.0   4.0  1716.0    4   \n",
       "4  Alian Dist., Kaohsiung City      2 BHK       985.0   2.0   301.6    2   \n",
       "5  Alian Dist., Kaohsiung City      4 BHK      3250.0   4.0  1196.0    4   \n",
       "\n",
       "   price_per_sqft  \n",
       "0    26500.566251  \n",
       "1    27733.333333  \n",
       "3    42900.000000  \n",
       "4    30619.289340  \n",
       "5    36800.000000  "
      ]
     },
     "execution_count": 53,
     "metadata": {},
     "output_type": "execute_result"
    }
   ],
   "source": [
    "df9.head()"
   ]
  },
  {
   "cell_type": "code",
   "execution_count": 54,
   "id": "17b650b2",
   "metadata": {},
   "outputs": [
    {
     "data": {
      "text/html": [
       "<div>\n",
       "<style scoped>\n",
       "    .dataframe tbody tr th:only-of-type {\n",
       "        vertical-align: middle;\n",
       "    }\n",
       "\n",
       "    .dataframe tbody tr th {\n",
       "        vertical-align: top;\n",
       "    }\n",
       "\n",
       "    .dataframe thead th {\n",
       "        text-align: right;\n",
       "    }\n",
       "</style>\n",
       "<table border=\"1\" class=\"dataframe\">\n",
       "  <thead>\n",
       "    <tr style=\"text-align: right;\">\n",
       "      <th></th>\n",
       "      <th>location</th>\n",
       "      <th>total_sqft</th>\n",
       "      <th>bath</th>\n",
       "      <th>price</th>\n",
       "      <th>bhk</th>\n",
       "    </tr>\n",
       "  </thead>\n",
       "  <tbody>\n",
       "    <tr>\n",
       "      <th>0</th>\n",
       "      <td>Alian Dist., Kaohsiung City</td>\n",
       "      <td>883.0</td>\n",
       "      <td>2.0</td>\n",
       "      <td>234.0</td>\n",
       "      <td>2</td>\n",
       "    </tr>\n",
       "    <tr>\n",
       "      <th>1</th>\n",
       "      <td>Alian Dist., Kaohsiung City</td>\n",
       "      <td>750.0</td>\n",
       "      <td>1.0</td>\n",
       "      <td>208.0</td>\n",
       "      <td>1</td>\n",
       "    </tr>\n",
       "    <tr>\n",
       "      <th>3</th>\n",
       "      <td>Alian Dist., Kaohsiung City</td>\n",
       "      <td>4000.0</td>\n",
       "      <td>4.0</td>\n",
       "      <td>1716.0</td>\n",
       "      <td>4</td>\n",
       "    </tr>\n",
       "    <tr>\n",
       "      <th>4</th>\n",
       "      <td>Alian Dist., Kaohsiung City</td>\n",
       "      <td>985.0</td>\n",
       "      <td>2.0</td>\n",
       "      <td>301.6</td>\n",
       "      <td>2</td>\n",
       "    </tr>\n",
       "    <tr>\n",
       "      <th>5</th>\n",
       "      <td>Alian Dist., Kaohsiung City</td>\n",
       "      <td>3250.0</td>\n",
       "      <td>4.0</td>\n",
       "      <td>1196.0</td>\n",
       "      <td>4</td>\n",
       "    </tr>\n",
       "  </tbody>\n",
       "</table>\n",
       "</div>"
      ],
      "text/plain": [
       "                      location  total_sqft  bath   price  bhk\n",
       "0  Alian Dist., Kaohsiung City       883.0   2.0   234.0    2\n",
       "1  Alian Dist., Kaohsiung City       750.0   1.0   208.0    1\n",
       "3  Alian Dist., Kaohsiung City      4000.0   4.0  1716.0    4\n",
       "4  Alian Dist., Kaohsiung City       985.0   2.0   301.6    2\n",
       "5  Alian Dist., Kaohsiung City      3250.0   4.0  1196.0    4"
      ]
     },
     "execution_count": 54,
     "metadata": {},
     "output_type": "execute_result"
    }
   ],
   "source": [
    "df10 = df9.drop(['size','price_per_sqft'],axis='columns')   # ML cannot read text data\n",
    "df10.head()"
   ]
  },
  {
   "cell_type": "markdown",
   "id": "693a0575",
   "metadata": {},
   "source": [
    "### Use One Hot Encoding For Location"
   ]
  },
  {
   "cell_type": "code",
   "execution_count": 55,
   "id": "96170765",
   "metadata": {},
   "outputs": [
    {
     "data": {
      "text/html": [
       "<div>\n",
       "<style scoped>\n",
       "    .dataframe tbody tr th:only-of-type {\n",
       "        vertical-align: middle;\n",
       "    }\n",
       "\n",
       "    .dataframe tbody tr th {\n",
       "        vertical-align: top;\n",
       "    }\n",
       "\n",
       "    .dataframe thead th {\n",
       "        text-align: right;\n",
       "    }\n",
       "</style>\n",
       "<table border=\"1\" class=\"dataframe\">\n",
       "  <thead>\n",
       "    <tr style=\"text-align: right;\">\n",
       "      <th></th>\n",
       "      <th>Alian Dist., Kaohsiung City</th>\n",
       "      <th>Alishan Township, Chiayi County</th>\n",
       "      <th>Anding Dist., Tainan City</th>\n",
       "      <th>Anle Dist., Keelung City</th>\n",
       "      <th>Annan Dist., Tainan City</th>\n",
       "      <th>Anping Dist., Tainan City</th>\n",
       "      <th>Bade Dist., Taoyuan City</th>\n",
       "      <th>Baihe Dist., Tainan City</th>\n",
       "      <th>Baisha Township, Penghu County</th>\n",
       "      <th>Bali Dist., New Taipei City</th>\n",
       "      <th>...</th>\n",
       "      <th>Zhuolan Township, Miaoli County</th>\n",
       "      <th>Zhuoxi Township, Hualien County</th>\n",
       "      <th>Zhuqi Township, Chiayi County</th>\n",
       "      <th>Zhushan Township, Nantou County</th>\n",
       "      <th>Zhutang Township, Changhua County</th>\n",
       "      <th>Zhutian Township, Pingtung County</th>\n",
       "      <th>Ziguan Dist., Kaohsiung City</th>\n",
       "      <th>Zuoying Dist., Kaohsiung City</th>\n",
       "      <th>Zuozhen Dist., Tainan City</th>\n",
       "      <th>other</th>\n",
       "    </tr>\n",
       "  </thead>\n",
       "  <tbody>\n",
       "    <tr>\n",
       "      <th>0</th>\n",
       "      <td>1</td>\n",
       "      <td>0</td>\n",
       "      <td>0</td>\n",
       "      <td>0</td>\n",
       "      <td>0</td>\n",
       "      <td>0</td>\n",
       "      <td>0</td>\n",
       "      <td>0</td>\n",
       "      <td>0</td>\n",
       "      <td>0</td>\n",
       "      <td>...</td>\n",
       "      <td>0</td>\n",
       "      <td>0</td>\n",
       "      <td>0</td>\n",
       "      <td>0</td>\n",
       "      <td>0</td>\n",
       "      <td>0</td>\n",
       "      <td>0</td>\n",
       "      <td>0</td>\n",
       "      <td>0</td>\n",
       "      <td>0</td>\n",
       "    </tr>\n",
       "    <tr>\n",
       "      <th>1</th>\n",
       "      <td>1</td>\n",
       "      <td>0</td>\n",
       "      <td>0</td>\n",
       "      <td>0</td>\n",
       "      <td>0</td>\n",
       "      <td>0</td>\n",
       "      <td>0</td>\n",
       "      <td>0</td>\n",
       "      <td>0</td>\n",
       "      <td>0</td>\n",
       "      <td>...</td>\n",
       "      <td>0</td>\n",
       "      <td>0</td>\n",
       "      <td>0</td>\n",
       "      <td>0</td>\n",
       "      <td>0</td>\n",
       "      <td>0</td>\n",
       "      <td>0</td>\n",
       "      <td>0</td>\n",
       "      <td>0</td>\n",
       "      <td>0</td>\n",
       "    </tr>\n",
       "    <tr>\n",
       "      <th>3</th>\n",
       "      <td>1</td>\n",
       "      <td>0</td>\n",
       "      <td>0</td>\n",
       "      <td>0</td>\n",
       "      <td>0</td>\n",
       "      <td>0</td>\n",
       "      <td>0</td>\n",
       "      <td>0</td>\n",
       "      <td>0</td>\n",
       "      <td>0</td>\n",
       "      <td>...</td>\n",
       "      <td>0</td>\n",
       "      <td>0</td>\n",
       "      <td>0</td>\n",
       "      <td>0</td>\n",
       "      <td>0</td>\n",
       "      <td>0</td>\n",
       "      <td>0</td>\n",
       "      <td>0</td>\n",
       "      <td>0</td>\n",
       "      <td>0</td>\n",
       "    </tr>\n",
       "  </tbody>\n",
       "</table>\n",
       "<p>3 rows × 361 columns</p>\n",
       "</div>"
      ],
      "text/plain": [
       "   Alian Dist., Kaohsiung City  Alishan Township, Chiayi County  \\\n",
       "0                            1                                0   \n",
       "1                            1                                0   \n",
       "3                            1                                0   \n",
       "\n",
       "   Anding Dist., Tainan City  Anle Dist., Keelung City  \\\n",
       "0                          0                         0   \n",
       "1                          0                         0   \n",
       "3                          0                         0   \n",
       "\n",
       "   Annan Dist., Tainan City  Anping Dist., Tainan City  \\\n",
       "0                         0                          0   \n",
       "1                         0                          0   \n",
       "3                         0                          0   \n",
       "\n",
       "   Bade Dist., Taoyuan City  Baihe Dist., Tainan City  \\\n",
       "0                         0                         0   \n",
       "1                         0                         0   \n",
       "3                         0                         0   \n",
       "\n",
       "   Baisha Township, Penghu County  Bali Dist., New Taipei City  ...  \\\n",
       "0                               0                            0  ...   \n",
       "1                               0                            0  ...   \n",
       "3                               0                            0  ...   \n",
       "\n",
       "   Zhuolan Township, Miaoli County  Zhuoxi Township, Hualien County  \\\n",
       "0                                0                                0   \n",
       "1                                0                                0   \n",
       "3                                0                                0   \n",
       "\n",
       "   Zhuqi Township, Chiayi County  Zhushan Township, Nantou County  \\\n",
       "0                              0                                0   \n",
       "1                              0                                0   \n",
       "3                              0                                0   \n",
       "\n",
       "   Zhutang Township, Changhua County  Zhutian Township, Pingtung County  \\\n",
       "0                                  0                                  0   \n",
       "1                                  0                                  0   \n",
       "3                                  0                                  0   \n",
       "\n",
       "   Ziguan Dist., Kaohsiung City  Zuoying Dist., Kaohsiung City  \\\n",
       "0                             0                              0   \n",
       "1                             0                              0   \n",
       "3                             0                              0   \n",
       "\n",
       "   Zuozhen Dist., Tainan City  other  \n",
       "0                           0      0  \n",
       "1                           0      0  \n",
       "3                           0      0  \n",
       "\n",
       "[3 rows x 361 columns]"
      ]
     },
     "execution_count": 55,
     "metadata": {},
     "output_type": "execute_result"
    }
   ],
   "source": [
    "# transform text data which is a categorial information\n",
    "dummies = pd.get_dummies(df10.location)\n",
    "dummies.head(3)"
   ]
  },
  {
   "cell_type": "code",
   "execution_count": 56,
   "id": "6c9d6173",
   "metadata": {},
   "outputs": [
    {
     "data": {
      "text/html": [
       "<div>\n",
       "<style scoped>\n",
       "    .dataframe tbody tr th:only-of-type {\n",
       "        vertical-align: middle;\n",
       "    }\n",
       "\n",
       "    .dataframe tbody tr th {\n",
       "        vertical-align: top;\n",
       "    }\n",
       "\n",
       "    .dataframe thead th {\n",
       "        text-align: right;\n",
       "    }\n",
       "</style>\n",
       "<table border=\"1\" class=\"dataframe\">\n",
       "  <thead>\n",
       "    <tr style=\"text-align: right;\">\n",
       "      <th></th>\n",
       "      <th>location</th>\n",
       "      <th>total_sqft</th>\n",
       "      <th>bath</th>\n",
       "      <th>price</th>\n",
       "      <th>bhk</th>\n",
       "      <th>Alian Dist., Kaohsiung City</th>\n",
       "      <th>Alishan Township, Chiayi County</th>\n",
       "      <th>Anding Dist., Tainan City</th>\n",
       "      <th>Anle Dist., Keelung City</th>\n",
       "      <th>Annan Dist., Tainan City</th>\n",
       "      <th>...</th>\n",
       "      <th>Zhuolan Township, Miaoli County</th>\n",
       "      <th>Zhuoxi Township, Hualien County</th>\n",
       "      <th>Zhuqi Township, Chiayi County</th>\n",
       "      <th>Zhushan Township, Nantou County</th>\n",
       "      <th>Zhutang Township, Changhua County</th>\n",
       "      <th>Zhutian Township, Pingtung County</th>\n",
       "      <th>Ziguan Dist., Kaohsiung City</th>\n",
       "      <th>Zuoying Dist., Kaohsiung City</th>\n",
       "      <th>Zuozhen Dist., Tainan City</th>\n",
       "      <th>other</th>\n",
       "    </tr>\n",
       "  </thead>\n",
       "  <tbody>\n",
       "    <tr>\n",
       "      <th>0</th>\n",
       "      <td>Alian Dist., Kaohsiung City</td>\n",
       "      <td>883.0</td>\n",
       "      <td>2.0</td>\n",
       "      <td>234.0</td>\n",
       "      <td>2</td>\n",
       "      <td>1</td>\n",
       "      <td>0</td>\n",
       "      <td>0</td>\n",
       "      <td>0</td>\n",
       "      <td>0</td>\n",
       "      <td>...</td>\n",
       "      <td>0</td>\n",
       "      <td>0</td>\n",
       "      <td>0</td>\n",
       "      <td>0</td>\n",
       "      <td>0</td>\n",
       "      <td>0</td>\n",
       "      <td>0</td>\n",
       "      <td>0</td>\n",
       "      <td>0</td>\n",
       "      <td>0</td>\n",
       "    </tr>\n",
       "    <tr>\n",
       "      <th>1</th>\n",
       "      <td>Alian Dist., Kaohsiung City</td>\n",
       "      <td>750.0</td>\n",
       "      <td>1.0</td>\n",
       "      <td>208.0</td>\n",
       "      <td>1</td>\n",
       "      <td>1</td>\n",
       "      <td>0</td>\n",
       "      <td>0</td>\n",
       "      <td>0</td>\n",
       "      <td>0</td>\n",
       "      <td>...</td>\n",
       "      <td>0</td>\n",
       "      <td>0</td>\n",
       "      <td>0</td>\n",
       "      <td>0</td>\n",
       "      <td>0</td>\n",
       "      <td>0</td>\n",
       "      <td>0</td>\n",
       "      <td>0</td>\n",
       "      <td>0</td>\n",
       "      <td>0</td>\n",
       "    </tr>\n",
       "    <tr>\n",
       "      <th>3</th>\n",
       "      <td>Alian Dist., Kaohsiung City</td>\n",
       "      <td>4000.0</td>\n",
       "      <td>4.0</td>\n",
       "      <td>1716.0</td>\n",
       "      <td>4</td>\n",
       "      <td>1</td>\n",
       "      <td>0</td>\n",
       "      <td>0</td>\n",
       "      <td>0</td>\n",
       "      <td>0</td>\n",
       "      <td>...</td>\n",
       "      <td>0</td>\n",
       "      <td>0</td>\n",
       "      <td>0</td>\n",
       "      <td>0</td>\n",
       "      <td>0</td>\n",
       "      <td>0</td>\n",
       "      <td>0</td>\n",
       "      <td>0</td>\n",
       "      <td>0</td>\n",
       "      <td>0</td>\n",
       "    </tr>\n",
       "    <tr>\n",
       "      <th>4</th>\n",
       "      <td>Alian Dist., Kaohsiung City</td>\n",
       "      <td>985.0</td>\n",
       "      <td>2.0</td>\n",
       "      <td>301.6</td>\n",
       "      <td>2</td>\n",
       "      <td>1</td>\n",
       "      <td>0</td>\n",
       "      <td>0</td>\n",
       "      <td>0</td>\n",
       "      <td>0</td>\n",
       "      <td>...</td>\n",
       "      <td>0</td>\n",
       "      <td>0</td>\n",
       "      <td>0</td>\n",
       "      <td>0</td>\n",
       "      <td>0</td>\n",
       "      <td>0</td>\n",
       "      <td>0</td>\n",
       "      <td>0</td>\n",
       "      <td>0</td>\n",
       "      <td>0</td>\n",
       "    </tr>\n",
       "    <tr>\n",
       "      <th>5</th>\n",
       "      <td>Alian Dist., Kaohsiung City</td>\n",
       "      <td>3250.0</td>\n",
       "      <td>4.0</td>\n",
       "      <td>1196.0</td>\n",
       "      <td>4</td>\n",
       "      <td>1</td>\n",
       "      <td>0</td>\n",
       "      <td>0</td>\n",
       "      <td>0</td>\n",
       "      <td>0</td>\n",
       "      <td>...</td>\n",
       "      <td>0</td>\n",
       "      <td>0</td>\n",
       "      <td>0</td>\n",
       "      <td>0</td>\n",
       "      <td>0</td>\n",
       "      <td>0</td>\n",
       "      <td>0</td>\n",
       "      <td>0</td>\n",
       "      <td>0</td>\n",
       "      <td>0</td>\n",
       "    </tr>\n",
       "  </tbody>\n",
       "</table>\n",
       "<p>5 rows × 366 columns</p>\n",
       "</div>"
      ],
      "text/plain": [
       "                      location  total_sqft  bath   price  bhk  \\\n",
       "0  Alian Dist., Kaohsiung City       883.0   2.0   234.0    2   \n",
       "1  Alian Dist., Kaohsiung City       750.0   1.0   208.0    1   \n",
       "3  Alian Dist., Kaohsiung City      4000.0   4.0  1716.0    4   \n",
       "4  Alian Dist., Kaohsiung City       985.0   2.0   301.6    2   \n",
       "5  Alian Dist., Kaohsiung City      3250.0   4.0  1196.0    4   \n",
       "\n",
       "   Alian Dist., Kaohsiung City  Alishan Township, Chiayi County  \\\n",
       "0                            1                                0   \n",
       "1                            1                                0   \n",
       "3                            1                                0   \n",
       "4                            1                                0   \n",
       "5                            1                                0   \n",
       "\n",
       "   Anding Dist., Tainan City  Anle Dist., Keelung City  \\\n",
       "0                          0                         0   \n",
       "1                          0                         0   \n",
       "3                          0                         0   \n",
       "4                          0                         0   \n",
       "5                          0                         0   \n",
       "\n",
       "   Annan Dist., Tainan City  ...  Zhuolan Township, Miaoli County  \\\n",
       "0                         0  ...                                0   \n",
       "1                         0  ...                                0   \n",
       "3                         0  ...                                0   \n",
       "4                         0  ...                                0   \n",
       "5                         0  ...                                0   \n",
       "\n",
       "   Zhuoxi Township, Hualien County  Zhuqi Township, Chiayi County  \\\n",
       "0                                0                              0   \n",
       "1                                0                              0   \n",
       "3                                0                              0   \n",
       "4                                0                              0   \n",
       "5                                0                              0   \n",
       "\n",
       "   Zhushan Township, Nantou County  Zhutang Township, Changhua County  \\\n",
       "0                                0                                  0   \n",
       "1                                0                                  0   \n",
       "3                                0                                  0   \n",
       "4                                0                                  0   \n",
       "5                                0                                  0   \n",
       "\n",
       "   Zhutian Township, Pingtung County  Ziguan Dist., Kaohsiung City  \\\n",
       "0                                  0                             0   \n",
       "1                                  0                             0   \n",
       "3                                  0                             0   \n",
       "4                                  0                             0   \n",
       "5                                  0                             0   \n",
       "\n",
       "   Zuoying Dist., Kaohsiung City  Zuozhen Dist., Tainan City  other  \n",
       "0                              0                           0      0  \n",
       "1                              0                           0      0  \n",
       "3                              0                           0      0  \n",
       "4                              0                           0      0  \n",
       "5                              0                           0      0  \n",
       "\n",
       "[5 rows x 366 columns]"
      ]
     },
     "execution_count": 56,
     "metadata": {},
     "output_type": "execute_result"
    }
   ],
   "source": [
    "df11 = pd.concat([df10,dummies],axis='columns')\n",
    "df11.head()"
   ]
  },
  {
   "cell_type": "code",
   "execution_count": 57,
   "id": "4c1ac128",
   "metadata": {},
   "outputs": [
    {
     "data": {
      "text/html": [
       "<div>\n",
       "<style scoped>\n",
       "    .dataframe tbody tr th:only-of-type {\n",
       "        vertical-align: middle;\n",
       "    }\n",
       "\n",
       "    .dataframe tbody tr th {\n",
       "        vertical-align: top;\n",
       "    }\n",
       "\n",
       "    .dataframe thead th {\n",
       "        text-align: right;\n",
       "    }\n",
       "</style>\n",
       "<table border=\"1\" class=\"dataframe\">\n",
       "  <thead>\n",
       "    <tr style=\"text-align: right;\">\n",
       "      <th></th>\n",
       "      <th>total_sqft</th>\n",
       "      <th>bath</th>\n",
       "      <th>price</th>\n",
       "      <th>bhk</th>\n",
       "      <th>Alian Dist., Kaohsiung City</th>\n",
       "      <th>Alishan Township, Chiayi County</th>\n",
       "      <th>Anding Dist., Tainan City</th>\n",
       "      <th>Anle Dist., Keelung City</th>\n",
       "      <th>Annan Dist., Tainan City</th>\n",
       "      <th>Anping Dist., Tainan City</th>\n",
       "      <th>...</th>\n",
       "      <th>Zhuolan Township, Miaoli County</th>\n",
       "      <th>Zhuoxi Township, Hualien County</th>\n",
       "      <th>Zhuqi Township, Chiayi County</th>\n",
       "      <th>Zhushan Township, Nantou County</th>\n",
       "      <th>Zhutang Township, Changhua County</th>\n",
       "      <th>Zhutian Township, Pingtung County</th>\n",
       "      <th>Ziguan Dist., Kaohsiung City</th>\n",
       "      <th>Zuoying Dist., Kaohsiung City</th>\n",
       "      <th>Zuozhen Dist., Tainan City</th>\n",
       "      <th>other</th>\n",
       "    </tr>\n",
       "  </thead>\n",
       "  <tbody>\n",
       "    <tr>\n",
       "      <th>0</th>\n",
       "      <td>883.0</td>\n",
       "      <td>2.0</td>\n",
       "      <td>234.0</td>\n",
       "      <td>2</td>\n",
       "      <td>1</td>\n",
       "      <td>0</td>\n",
       "      <td>0</td>\n",
       "      <td>0</td>\n",
       "      <td>0</td>\n",
       "      <td>0</td>\n",
       "      <td>...</td>\n",
       "      <td>0</td>\n",
       "      <td>0</td>\n",
       "      <td>0</td>\n",
       "      <td>0</td>\n",
       "      <td>0</td>\n",
       "      <td>0</td>\n",
       "      <td>0</td>\n",
       "      <td>0</td>\n",
       "      <td>0</td>\n",
       "      <td>0</td>\n",
       "    </tr>\n",
       "    <tr>\n",
       "      <th>1</th>\n",
       "      <td>750.0</td>\n",
       "      <td>1.0</td>\n",
       "      <td>208.0</td>\n",
       "      <td>1</td>\n",
       "      <td>1</td>\n",
       "      <td>0</td>\n",
       "      <td>0</td>\n",
       "      <td>0</td>\n",
       "      <td>0</td>\n",
       "      <td>0</td>\n",
       "      <td>...</td>\n",
       "      <td>0</td>\n",
       "      <td>0</td>\n",
       "      <td>0</td>\n",
       "      <td>0</td>\n",
       "      <td>0</td>\n",
       "      <td>0</td>\n",
       "      <td>0</td>\n",
       "      <td>0</td>\n",
       "      <td>0</td>\n",
       "      <td>0</td>\n",
       "    </tr>\n",
       "    <tr>\n",
       "      <th>3</th>\n",
       "      <td>4000.0</td>\n",
       "      <td>4.0</td>\n",
       "      <td>1716.0</td>\n",
       "      <td>4</td>\n",
       "      <td>1</td>\n",
       "      <td>0</td>\n",
       "      <td>0</td>\n",
       "      <td>0</td>\n",
       "      <td>0</td>\n",
       "      <td>0</td>\n",
       "      <td>...</td>\n",
       "      <td>0</td>\n",
       "      <td>0</td>\n",
       "      <td>0</td>\n",
       "      <td>0</td>\n",
       "      <td>0</td>\n",
       "      <td>0</td>\n",
       "      <td>0</td>\n",
       "      <td>0</td>\n",
       "      <td>0</td>\n",
       "      <td>0</td>\n",
       "    </tr>\n",
       "    <tr>\n",
       "      <th>4</th>\n",
       "      <td>985.0</td>\n",
       "      <td>2.0</td>\n",
       "      <td>301.6</td>\n",
       "      <td>2</td>\n",
       "      <td>1</td>\n",
       "      <td>0</td>\n",
       "      <td>0</td>\n",
       "      <td>0</td>\n",
       "      <td>0</td>\n",
       "      <td>0</td>\n",
       "      <td>...</td>\n",
       "      <td>0</td>\n",
       "      <td>0</td>\n",
       "      <td>0</td>\n",
       "      <td>0</td>\n",
       "      <td>0</td>\n",
       "      <td>0</td>\n",
       "      <td>0</td>\n",
       "      <td>0</td>\n",
       "      <td>0</td>\n",
       "      <td>0</td>\n",
       "    </tr>\n",
       "    <tr>\n",
       "      <th>5</th>\n",
       "      <td>3250.0</td>\n",
       "      <td>4.0</td>\n",
       "      <td>1196.0</td>\n",
       "      <td>4</td>\n",
       "      <td>1</td>\n",
       "      <td>0</td>\n",
       "      <td>0</td>\n",
       "      <td>0</td>\n",
       "      <td>0</td>\n",
       "      <td>0</td>\n",
       "      <td>...</td>\n",
       "      <td>0</td>\n",
       "      <td>0</td>\n",
       "      <td>0</td>\n",
       "      <td>0</td>\n",
       "      <td>0</td>\n",
       "      <td>0</td>\n",
       "      <td>0</td>\n",
       "      <td>0</td>\n",
       "      <td>0</td>\n",
       "      <td>0</td>\n",
       "    </tr>\n",
       "  </tbody>\n",
       "</table>\n",
       "<p>5 rows × 365 columns</p>\n",
       "</div>"
      ],
      "text/plain": [
       "   total_sqft  bath   price  bhk  Alian Dist., Kaohsiung City  \\\n",
       "0       883.0   2.0   234.0    2                            1   \n",
       "1       750.0   1.0   208.0    1                            1   \n",
       "3      4000.0   4.0  1716.0    4                            1   \n",
       "4       985.0   2.0   301.6    2                            1   \n",
       "5      3250.0   4.0  1196.0    4                            1   \n",
       "\n",
       "   Alishan Township, Chiayi County  Anding Dist., Tainan City  \\\n",
       "0                                0                          0   \n",
       "1                                0                          0   \n",
       "3                                0                          0   \n",
       "4                                0                          0   \n",
       "5                                0                          0   \n",
       "\n",
       "   Anle Dist., Keelung City  Annan Dist., Tainan City  \\\n",
       "0                         0                         0   \n",
       "1                         0                         0   \n",
       "3                         0                         0   \n",
       "4                         0                         0   \n",
       "5                         0                         0   \n",
       "\n",
       "   Anping Dist., Tainan City  ...  Zhuolan Township, Miaoli County  \\\n",
       "0                          0  ...                                0   \n",
       "1                          0  ...                                0   \n",
       "3                          0  ...                                0   \n",
       "4                          0  ...                                0   \n",
       "5                          0  ...                                0   \n",
       "\n",
       "   Zhuoxi Township, Hualien County  Zhuqi Township, Chiayi County  \\\n",
       "0                                0                              0   \n",
       "1                                0                              0   \n",
       "3                                0                              0   \n",
       "4                                0                              0   \n",
       "5                                0                              0   \n",
       "\n",
       "   Zhushan Township, Nantou County  Zhutang Township, Changhua County  \\\n",
       "0                                0                                  0   \n",
       "1                                0                                  0   \n",
       "3                                0                                  0   \n",
       "4                                0                                  0   \n",
       "5                                0                                  0   \n",
       "\n",
       "   Zhutian Township, Pingtung County  Ziguan Dist., Kaohsiung City  \\\n",
       "0                                  0                             0   \n",
       "1                                  0                             0   \n",
       "3                                  0                             0   \n",
       "4                                  0                             0   \n",
       "5                                  0                             0   \n",
       "\n",
       "   Zuoying Dist., Kaohsiung City  Zuozhen Dist., Tainan City  other  \n",
       "0                              0                           0      0  \n",
       "1                              0                           0      0  \n",
       "3                              0                           0      0  \n",
       "4                              0                           0      0  \n",
       "5                              0                           0      0  \n",
       "\n",
       "[5 rows x 365 columns]"
      ]
     },
     "execution_count": 57,
     "metadata": {},
     "output_type": "execute_result"
    }
   ],
   "source": [
    "df12 = df11.drop('location', axis='columns')\n",
    "df12.head()"
   ]
  },
  {
   "cell_type": "markdown",
   "id": "06f9c89a",
   "metadata": {},
   "source": [
    "### Build Model"
   ]
  },
  {
   "cell_type": "code",
   "execution_count": 58,
   "id": "d04acb40",
   "metadata": {},
   "outputs": [
    {
     "data": {
      "text/plain": [
       "(8845, 365)"
      ]
     },
     "execution_count": 58,
     "metadata": {},
     "output_type": "execute_result"
    }
   ],
   "source": [
    "df12.shape"
   ]
  },
  {
   "cell_type": "code",
   "execution_count": 59,
   "id": "b3965e8d",
   "metadata": {},
   "outputs": [
    {
     "data": {
      "text/html": [
       "<div>\n",
       "<style scoped>\n",
       "    .dataframe tbody tr th:only-of-type {\n",
       "        vertical-align: middle;\n",
       "    }\n",
       "\n",
       "    .dataframe tbody tr th {\n",
       "        vertical-align: top;\n",
       "    }\n",
       "\n",
       "    .dataframe thead th {\n",
       "        text-align: right;\n",
       "    }\n",
       "</style>\n",
       "<table border=\"1\" class=\"dataframe\">\n",
       "  <thead>\n",
       "    <tr style=\"text-align: right;\">\n",
       "      <th></th>\n",
       "      <th>total_sqft</th>\n",
       "      <th>bath</th>\n",
       "      <th>bhk</th>\n",
       "      <th>Alian Dist., Kaohsiung City</th>\n",
       "      <th>Alishan Township, Chiayi County</th>\n",
       "      <th>Anding Dist., Tainan City</th>\n",
       "      <th>Anle Dist., Keelung City</th>\n",
       "      <th>Annan Dist., Tainan City</th>\n",
       "      <th>Anping Dist., Tainan City</th>\n",
       "      <th>Bade Dist., Taoyuan City</th>\n",
       "      <th>...</th>\n",
       "      <th>Zhuolan Township, Miaoli County</th>\n",
       "      <th>Zhuoxi Township, Hualien County</th>\n",
       "      <th>Zhuqi Township, Chiayi County</th>\n",
       "      <th>Zhushan Township, Nantou County</th>\n",
       "      <th>Zhutang Township, Changhua County</th>\n",
       "      <th>Zhutian Township, Pingtung County</th>\n",
       "      <th>Ziguan Dist., Kaohsiung City</th>\n",
       "      <th>Zuoying Dist., Kaohsiung City</th>\n",
       "      <th>Zuozhen Dist., Tainan City</th>\n",
       "      <th>other</th>\n",
       "    </tr>\n",
       "  </thead>\n",
       "  <tbody>\n",
       "    <tr>\n",
       "      <th>0</th>\n",
       "      <td>883.0</td>\n",
       "      <td>2.0</td>\n",
       "      <td>2</td>\n",
       "      <td>1</td>\n",
       "      <td>0</td>\n",
       "      <td>0</td>\n",
       "      <td>0</td>\n",
       "      <td>0</td>\n",
       "      <td>0</td>\n",
       "      <td>0</td>\n",
       "      <td>...</td>\n",
       "      <td>0</td>\n",
       "      <td>0</td>\n",
       "      <td>0</td>\n",
       "      <td>0</td>\n",
       "      <td>0</td>\n",
       "      <td>0</td>\n",
       "      <td>0</td>\n",
       "      <td>0</td>\n",
       "      <td>0</td>\n",
       "      <td>0</td>\n",
       "    </tr>\n",
       "    <tr>\n",
       "      <th>1</th>\n",
       "      <td>750.0</td>\n",
       "      <td>1.0</td>\n",
       "      <td>1</td>\n",
       "      <td>1</td>\n",
       "      <td>0</td>\n",
       "      <td>0</td>\n",
       "      <td>0</td>\n",
       "      <td>0</td>\n",
       "      <td>0</td>\n",
       "      <td>0</td>\n",
       "      <td>...</td>\n",
       "      <td>0</td>\n",
       "      <td>0</td>\n",
       "      <td>0</td>\n",
       "      <td>0</td>\n",
       "      <td>0</td>\n",
       "      <td>0</td>\n",
       "      <td>0</td>\n",
       "      <td>0</td>\n",
       "      <td>0</td>\n",
       "      <td>0</td>\n",
       "    </tr>\n",
       "    <tr>\n",
       "      <th>3</th>\n",
       "      <td>4000.0</td>\n",
       "      <td>4.0</td>\n",
       "      <td>4</td>\n",
       "      <td>1</td>\n",
       "      <td>0</td>\n",
       "      <td>0</td>\n",
       "      <td>0</td>\n",
       "      <td>0</td>\n",
       "      <td>0</td>\n",
       "      <td>0</td>\n",
       "      <td>...</td>\n",
       "      <td>0</td>\n",
       "      <td>0</td>\n",
       "      <td>0</td>\n",
       "      <td>0</td>\n",
       "      <td>0</td>\n",
       "      <td>0</td>\n",
       "      <td>0</td>\n",
       "      <td>0</td>\n",
       "      <td>0</td>\n",
       "      <td>0</td>\n",
       "    </tr>\n",
       "    <tr>\n",
       "      <th>4</th>\n",
       "      <td>985.0</td>\n",
       "      <td>2.0</td>\n",
       "      <td>2</td>\n",
       "      <td>1</td>\n",
       "      <td>0</td>\n",
       "      <td>0</td>\n",
       "      <td>0</td>\n",
       "      <td>0</td>\n",
       "      <td>0</td>\n",
       "      <td>0</td>\n",
       "      <td>...</td>\n",
       "      <td>0</td>\n",
       "      <td>0</td>\n",
       "      <td>0</td>\n",
       "      <td>0</td>\n",
       "      <td>0</td>\n",
       "      <td>0</td>\n",
       "      <td>0</td>\n",
       "      <td>0</td>\n",
       "      <td>0</td>\n",
       "      <td>0</td>\n",
       "    </tr>\n",
       "    <tr>\n",
       "      <th>5</th>\n",
       "      <td>3250.0</td>\n",
       "      <td>4.0</td>\n",
       "      <td>4</td>\n",
       "      <td>1</td>\n",
       "      <td>0</td>\n",
       "      <td>0</td>\n",
       "      <td>0</td>\n",
       "      <td>0</td>\n",
       "      <td>0</td>\n",
       "      <td>0</td>\n",
       "      <td>...</td>\n",
       "      <td>0</td>\n",
       "      <td>0</td>\n",
       "      <td>0</td>\n",
       "      <td>0</td>\n",
       "      <td>0</td>\n",
       "      <td>0</td>\n",
       "      <td>0</td>\n",
       "      <td>0</td>\n",
       "      <td>0</td>\n",
       "      <td>0</td>\n",
       "    </tr>\n",
       "  </tbody>\n",
       "</table>\n",
       "<p>5 rows × 364 columns</p>\n",
       "</div>"
      ],
      "text/plain": [
       "   total_sqft  bath  bhk  Alian Dist., Kaohsiung City  \\\n",
       "0       883.0   2.0    2                            1   \n",
       "1       750.0   1.0    1                            1   \n",
       "3      4000.0   4.0    4                            1   \n",
       "4       985.0   2.0    2                            1   \n",
       "5      3250.0   4.0    4                            1   \n",
       "\n",
       "   Alishan Township, Chiayi County  Anding Dist., Tainan City  \\\n",
       "0                                0                          0   \n",
       "1                                0                          0   \n",
       "3                                0                          0   \n",
       "4                                0                          0   \n",
       "5                                0                          0   \n",
       "\n",
       "   Anle Dist., Keelung City  Annan Dist., Tainan City  \\\n",
       "0                         0                         0   \n",
       "1                         0                         0   \n",
       "3                         0                         0   \n",
       "4                         0                         0   \n",
       "5                         0                         0   \n",
       "\n",
       "   Anping Dist., Tainan City  Bade Dist., Taoyuan City  ...  \\\n",
       "0                          0                         0  ...   \n",
       "1                          0                         0  ...   \n",
       "3                          0                         0  ...   \n",
       "4                          0                         0  ...   \n",
       "5                          0                         0  ...   \n",
       "\n",
       "   Zhuolan Township, Miaoli County  Zhuoxi Township, Hualien County  \\\n",
       "0                                0                                0   \n",
       "1                                0                                0   \n",
       "3                                0                                0   \n",
       "4                                0                                0   \n",
       "5                                0                                0   \n",
       "\n",
       "   Zhuqi Township, Chiayi County  Zhushan Township, Nantou County  \\\n",
       "0                              0                                0   \n",
       "1                              0                                0   \n",
       "3                              0                                0   \n",
       "4                              0                                0   \n",
       "5                              0                                0   \n",
       "\n",
       "   Zhutang Township, Changhua County  Zhutian Township, Pingtung County  \\\n",
       "0                                  0                                  0   \n",
       "1                                  0                                  0   \n",
       "3                                  0                                  0   \n",
       "4                                  0                                  0   \n",
       "5                                  0                                  0   \n",
       "\n",
       "   Ziguan Dist., Kaohsiung City  Zuoying Dist., Kaohsiung City  \\\n",
       "0                             0                              0   \n",
       "1                             0                              0   \n",
       "3                             0                              0   \n",
       "4                             0                              0   \n",
       "5                             0                              0   \n",
       "\n",
       "   Zuozhen Dist., Tainan City  other  \n",
       "0                           0      0  \n",
       "1                           0      0  \n",
       "3                           0      0  \n",
       "4                           0      0  \n",
       "5                           0      0  \n",
       "\n",
       "[5 rows x 364 columns]"
      ]
     },
     "execution_count": 59,
     "metadata": {},
     "output_type": "execute_result"
    }
   ],
   "source": [
    "X =df12.drop('price', axis='columns')\n",
    "X.head()"
   ]
  },
  {
   "cell_type": "code",
   "execution_count": 60,
   "id": "43ada970",
   "metadata": {},
   "outputs": [
    {
     "data": {
      "text/plain": [
       "(8845, 364)"
      ]
     },
     "execution_count": 60,
     "metadata": {},
     "output_type": "execute_result"
    }
   ],
   "source": [
    "X.shape"
   ]
  },
  {
   "cell_type": "code",
   "execution_count": 61,
   "id": "c6e246de",
   "metadata": {},
   "outputs": [
    {
     "data": {
      "text/plain": [
       "0     234.0\n",
       "1     208.0\n",
       "3    1716.0\n",
       "4     301.6\n",
       "5    1196.0\n",
       "Name: price, dtype: float64"
      ]
     },
     "execution_count": 61,
     "metadata": {},
     "output_type": "execute_result"
    }
   ],
   "source": [
    "y = df12.price\n",
    "y.head()"
   ]
  },
  {
   "cell_type": "code",
   "execution_count": 62,
   "id": "b9043ee3",
   "metadata": {},
   "outputs": [
    {
     "data": {
      "text/plain": [
       "8845"
      ]
     },
     "execution_count": 62,
     "metadata": {},
     "output_type": "execute_result"
    }
   ],
   "source": [
    "len(y)"
   ]
  },
  {
   "cell_type": "code",
   "execution_count": 63,
   "id": "a658c0f4",
   "metadata": {},
   "outputs": [],
   "source": [
    "from sklearn.model_selection import train_test_split\n",
    "X_train, X_test, y_train, y_test = train_test_split(X,y,test_size=0.2,random_state=10)"
   ]
  },
  {
   "cell_type": "code",
   "execution_count": 64,
   "id": "a40e1d1f",
   "metadata": {},
   "outputs": [
    {
     "data": {
      "text/plain": [
       "0.789540392051417"
      ]
     },
     "execution_count": 64,
     "metadata": {},
     "output_type": "execute_result"
    }
   ],
   "source": [
    "from sklearn.linear_model import LinearRegression\n",
    "lr_clf = LinearRegression()\n",
    "lr_clf.fit(X_train,y_train)\n",
    "lr_clf.score(X_test,y_test)"
   ]
  },
  {
   "cell_type": "markdown",
   "id": "0c9c3a58",
   "metadata": {},
   "source": [
    "### Use K Fold cross validation to measure accuracy of LinearRegression Model"
   ]
  },
  {
   "cell_type": "code",
   "execution_count": 65,
   "id": "9f69afcf",
   "metadata": {},
   "outputs": [
    {
     "data": {
      "text/plain": [
       "array([0.78498465, 0.7713712 , 0.78919569, 0.86371301, 0.75441404])"
      ]
     },
     "execution_count": 65,
     "metadata": {},
     "output_type": "execute_result"
    }
   ],
   "source": [
    "from sklearn.model_selection import ShuffleSplit\n",
    "from sklearn.model_selection import cross_val_score\n",
    "\n",
    "cv = ShuffleSplit(n_splits=5, test_size=0.2, random_state=0)\n",
    "cross_val_score(LinearRegression(), X, y, cv=cv)"
   ]
  },
  {
   "cell_type": "markdown",
   "id": "92648810",
   "metadata": {},
   "source": [
    "We can see that in 5 iterations we get s score above 75%. This is pretty good but we want to test GridSearch to see if we can get even better score."
   ]
  },
  {
   "cell_type": "markdown",
   "id": "67e8f304",
   "metadata": {},
   "source": [
    "### Find the best model using GridSearchCV"
   ]
  },
  {
   "cell_type": "code",
   "execution_count": 66,
   "id": "210a8cb4",
   "metadata": {},
   "outputs": [
    {
     "data": {
      "text/html": [
       "<div>\n",
       "<style scoped>\n",
       "    .dataframe tbody tr th:only-of-type {\n",
       "        vertical-align: middle;\n",
       "    }\n",
       "\n",
       "    .dataframe tbody tr th {\n",
       "        vertical-align: top;\n",
       "    }\n",
       "\n",
       "    .dataframe thead th {\n",
       "        text-align: right;\n",
       "    }\n",
       "</style>\n",
       "<table border=\"1\" class=\"dataframe\">\n",
       "  <thead>\n",
       "    <tr style=\"text-align: right;\">\n",
       "      <th></th>\n",
       "      <th>model</th>\n",
       "      <th>best_score</th>\n",
       "      <th>best_params</th>\n",
       "    </tr>\n",
       "  </thead>\n",
       "  <tbody>\n",
       "    <tr>\n",
       "      <th>0</th>\n",
       "      <td>linear_regression</td>\n",
       "      <td>0.792736</td>\n",
       "      <td>{'normalize': False}</td>\n",
       "    </tr>\n",
       "    <tr>\n",
       "      <th>1</th>\n",
       "      <td>lasso</td>\n",
       "      <td>0.796283</td>\n",
       "      <td>{'alpha': 2, 'selection': 'random'}</td>\n",
       "    </tr>\n",
       "    <tr>\n",
       "      <th>2</th>\n",
       "      <td>decision_tree</td>\n",
       "      <td>0.773499</td>\n",
       "      <td>{'criterion': 'friedman_mse', 'splitter': 'best'}</td>\n",
       "    </tr>\n",
       "  </tbody>\n",
       "</table>\n",
       "</div>"
      ],
      "text/plain": [
       "               model  best_score  \\\n",
       "0  linear_regression    0.792736   \n",
       "1              lasso    0.796283   \n",
       "2      decision_tree    0.773499   \n",
       "\n",
       "                                         best_params  \n",
       "0                               {'normalize': False}  \n",
       "1                {'alpha': 2, 'selection': 'random'}  \n",
       "2  {'criterion': 'friedman_mse', 'splitter': 'best'}  "
      ]
     },
     "execution_count": 66,
     "metadata": {},
     "output_type": "execute_result"
    }
   ],
   "source": [
    "from sklearn.model_selection import GridSearchCV   # Hyperparameter Tuning\n",
    "\n",
    "from sklearn.linear_model import Lasso\n",
    "from sklearn.tree import DecisionTreeRegressor\n",
    "\n",
    "def find_best_model_using_gridsearchcv(X,y):\n",
    "    algos = {\n",
    "        'linear_regression':{\n",
    "            'model': LinearRegression(),\n",
    "            'params': {\n",
    "                'normalize': [True, False]\n",
    "            }\n",
    "        },\n",
    "        'lasso':{\n",
    "            'model': Lasso(),\n",
    "            'params':{\n",
    "                'alpha':[1,2],\n",
    "                'selection':['random', 'cyclic']\n",
    "            }\n",
    "        },\n",
    "        'decision_tree':{\n",
    "            'model': DecisionTreeRegressor(),\n",
    "            'params': {\n",
    "                'criterion':['mse','friedman_mse'],\n",
    "                'splitter':['best','random']\n",
    "            }\n",
    "        }\n",
    "    }\n",
    "    scores = []\n",
    "    cv = ShuffleSplit(n_splits=5, test_size=0.2, random_state=0)\n",
    "    for algo_name, config in algos.items():\n",
    "        gs = GridSearchCV(config['model'], config['params'], cv=cv, return_train_score=False)\n",
    "        gs.fit(X,y)\n",
    "        scores.append({\n",
    "            'model': algo_name,\n",
    "            'best_score': gs.best_score_,\n",
    "            'best_params': gs.best_params_\n",
    "        })\n",
    "    return pd.DataFrame(scores, columns=['model','best_score','best_params'])\n",
    "\n",
    "find_best_model_using_gridsearchcv(X,y)"
   ]
  },
  {
   "cell_type": "markdown",
   "id": "756cbc9e",
   "metadata": {},
   "source": [
    "We can say that the Lasso gives the best score. But very close to the LinearRegression. Hence we will use that."
   ]
  },
  {
   "cell_type": "code",
   "execution_count": 67,
   "id": "346e7676",
   "metadata": {},
   "outputs": [
    {
     "data": {
      "text/plain": [
       "Index(['total_sqft', 'bath', 'bhk', 'Alian Dist., Kaohsiung City',\n",
       "       'Alishan Township, Chiayi County', 'Anding Dist., Tainan City',\n",
       "       'Anle Dist., Keelung City', 'Annan Dist., Tainan City',\n",
       "       'Anping Dist., Tainan City', 'Bade Dist., Taoyuan City',\n",
       "       ...\n",
       "       'Zhuolan Township, Miaoli County', 'Zhuoxi Township, Hualien County',\n",
       "       'Zhuqi Township, Chiayi County', 'Zhushan Township, Nantou County',\n",
       "       'Zhutang Township, Changhua County',\n",
       "       'Zhutian Township, Pingtung County', 'Ziguan Dist., Kaohsiung City',\n",
       "       'Zuoying Dist., Kaohsiung City', 'Zuozhen Dist., Tainan City', 'other'],\n",
       "      dtype='object', length=364)"
      ]
     },
     "execution_count": 67,
     "metadata": {},
     "output_type": "execute_result"
    }
   ],
   "source": [
    "X.columns"
   ]
  },
  {
   "cell_type": "markdown",
   "id": "523bdeeb",
   "metadata": {},
   "source": [
    "### Test the model for some properties"
   ]
  },
  {
   "cell_type": "code",
   "execution_count": 68,
   "id": "32b357dc",
   "metadata": {},
   "outputs": [],
   "source": [
    "def predict_price(location,sqft,bath,bhk):\n",
    "    loc_index = np.where(X.columns==location)[0][0]\n",
    "    \n",
    "    x = np.zeros(len(X.columns))\n",
    "    x[0] = sqft\n",
    "    x[1] = bath\n",
    "    x[2] = bhk\n",
    "    if loc_index >= 0:\n",
    "        x[loc_index] = 1\n",
    "        \n",
    "    return lr_clf.predict([x])[0]"
   ]
  },
  {
   "cell_type": "code",
   "execution_count": 69,
   "id": "e87fb08b",
   "metadata": {},
   "outputs": [
    {
     "data": {
      "text/plain": [
       "263.75174686057704"
      ]
     },
     "execution_count": 69,
     "metadata": {},
     "output_type": "execute_result"
    }
   ],
   "source": [
    "predict_price('Zuoying Dist., Kaohsiung City',1000, 2, 2)"
   ]
  },
  {
   "cell_type": "code",
   "execution_count": 70,
   "id": "26217f2c",
   "metadata": {},
   "outputs": [
    {
     "data": {
      "text/plain": [
       "288.9596939169783"
      ]
     },
     "execution_count": 70,
     "metadata": {},
     "output_type": "execute_result"
    }
   ],
   "source": [
    "predict_price('Zuoying Dist., Kaohsiung City',1000, 3, 3)"
   ]
  },
  {
   "cell_type": "code",
   "execution_count": 71,
   "id": "123c84d8",
   "metadata": {},
   "outputs": [
    {
     "data": {
      "text/plain": [
       "248.07293063039242"
      ]
     },
     "execution_count": 71,
     "metadata": {},
     "output_type": "execute_result"
    }
   ],
   "source": [
    "predict_price('Songshan Dist., Taipei City',1000, 2, 2)"
   ]
  },
  {
   "cell_type": "code",
   "execution_count": 72,
   "id": "34655fe7",
   "metadata": {},
   "outputs": [
    {
     "data": {
      "text/plain": [
       "273.2808776867937"
      ]
     },
     "execution_count": 72,
     "metadata": {},
     "output_type": "execute_result"
    }
   ],
   "source": [
    "predict_price('Songshan Dist., Taipei City',1000, 3, 3) #--> go to A/B testing and ready for Flask API"
   ]
  },
  {
   "cell_type": "code",
   "execution_count": 73,
   "id": "8300c327",
   "metadata": {},
   "outputs": [],
   "source": [
    "import pickle\n",
    "with open('tw_home_prices_model.pickle', 'wb') as f:\n",
    "    pickle.dump(lr_clf,f)"
   ]
  },
  {
   "cell_type": "code",
   "execution_count": 74,
   "id": "dea34556",
   "metadata": {},
   "outputs": [],
   "source": [
    "import json\n",
    "columns = {\n",
    "    'data_columns':[col.lower() for col in X.columns]\n",
    "}\n",
    "with open(\"columns.json\",\"w\") as f:\n",
    "    f.write(json.dumps(columns))"
   ]
  },
  {
   "cell_type": "code",
   "execution_count": null,
   "id": "108c064a",
   "metadata": {},
   "outputs": [],
   "source": []
  },
  {
   "cell_type": "code",
   "execution_count": null,
   "id": "fe6eaffd",
   "metadata": {},
   "outputs": [],
   "source": []
  }
 ],
 "metadata": {
  "kernelspec": {
   "display_name": "Python 3 (ipykernel)",
   "language": "python",
   "name": "python3"
  },
  "language_info": {
   "codemirror_mode": {
    "name": "ipython",
    "version": 3
   },
   "file_extension": ".py",
   "mimetype": "text/x-python",
   "name": "python",
   "nbconvert_exporter": "python",
   "pygments_lexer": "ipython3",
   "version": "3.9.12"
  },
  "latex_envs": {
   "LaTeX_envs_menu_present": true,
   "autoclose": false,
   "autocomplete": true,
   "bibliofile": "biblio.bib",
   "cite_by": "apalike",
   "current_citInitial": 1,
   "eqLabelWithNumbers": true,
   "eqNumInitial": 1,
   "hotkeys": {
    "equation": "Ctrl-E",
    "itemize": "Ctrl-I"
   },
   "labels_anchors": false,
   "latex_user_defs": false,
   "report_style_numbering": false,
   "user_envs_cfg": false
  }
 },
 "nbformat": 4,
 "nbformat_minor": 5
}
