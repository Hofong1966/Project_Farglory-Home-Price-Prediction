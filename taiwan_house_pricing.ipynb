{
 "cells": [
  {
   "cell_type": "markdown",
   "id": "b1b6cfaa",
   "metadata": {},
   "source": [
    "## Home Price Prediction for Farglory Group with Python\n",
    " I started this mission by focusing on getting a good understanding of the dataset. So I conduct the price prediction based on the features of area_type, location, size, bath and closed price provided by the client survey report.\n",
    "- Home buyers in Taiwan prefer to use the total \"ping\" instead of total_sqft instead, I have transformed it as sqft for easier to compare and read.(1 ping = 35.584 sqft)\n",
    "- We build a machine learning model based on these information with skills of data cleansing with Python, feature engineering, dimensionality reduction, outliers detection with Pandas and Gridsearch CV with Scikit-learn.\n",
    "- Once we completed the modeling, then we export it to a pickle file then write a flask server which consumes this pickle file to do prediction on the web page. "
   ]
  },
  {
   "cell_type": "markdown",
   "id": "2bc4946b",
   "metadata": {},
   "source": [
    "### Loding libraries required and reading the data into Python"
   ]
  },
  {
   "cell_type": "code",
   "execution_count": 421,
   "id": "9618c0d4",
   "metadata": {
    "run_control": {
     "marked": true
    }
   },
   "outputs": [
    {
     "data": {
      "text/html": [
       "<div>\n",
       "<style scoped>\n",
       "    .dataframe tbody tr th:only-of-type {\n",
       "        vertical-align: middle;\n",
       "    }\n",
       "\n",
       "    .dataframe tbody tr th {\n",
       "        vertical-align: top;\n",
       "    }\n",
       "\n",
       "    .dataframe thead th {\n",
       "        text-align: right;\n",
       "    }\n",
       "</style>\n",
       "<table border=\"1\" class=\"dataframe\">\n",
       "  <thead>\n",
       "    <tr style=\"text-align: right;\">\n",
       "      <th></th>\n",
       "      <th>area_type</th>\n",
       "      <th>availability</th>\n",
       "      <th>location</th>\n",
       "      <th>size</th>\n",
       "      <th>total_sqft</th>\n",
       "      <th>bath</th>\n",
       "      <th>balcony</th>\n",
       "      <th>price</th>\n",
       "    </tr>\n",
       "  </thead>\n",
       "  <tbody>\n",
       "    <tr>\n",
       "      <th>0</th>\n",
       "      <td>Super built-up  Area</td>\n",
       "      <td>19-Dec</td>\n",
       "      <td>Zhongzheng Dist., Taipei City</td>\n",
       "      <td>2 BHK</td>\n",
       "      <td>1056</td>\n",
       "      <td>1.0</td>\n",
       "      <td>1.0</td>\n",
       "      <td>1015.82</td>\n",
       "    </tr>\n",
       "    <tr>\n",
       "      <th>1</th>\n",
       "      <td>Plot  Area</td>\n",
       "      <td>Ready To Move</td>\n",
       "      <td>Datong Dist., Taipei City</td>\n",
       "      <td>4 Bedroom</td>\n",
       "      <td>2600</td>\n",
       "      <td>2.0</td>\n",
       "      <td>3.0</td>\n",
       "      <td>3120.00</td>\n",
       "    </tr>\n",
       "    <tr>\n",
       "      <th>2</th>\n",
       "      <td>Built-up  Area</td>\n",
       "      <td>Ready To Move</td>\n",
       "      <td>Zhongshan Dist., Taipei City</td>\n",
       "      <td>3 BHK</td>\n",
       "      <td>1440</td>\n",
       "      <td>1.0</td>\n",
       "      <td>3.0</td>\n",
       "      <td>1612.00</td>\n",
       "    </tr>\n",
       "    <tr>\n",
       "      <th>3</th>\n",
       "      <td>Super built-up  Area</td>\n",
       "      <td>Ready To Move</td>\n",
       "      <td>Songshan Dist., Taipei City</td>\n",
       "      <td>3 BHK</td>\n",
       "      <td>1521</td>\n",
       "      <td>2.0</td>\n",
       "      <td>1.0</td>\n",
       "      <td>2470.00</td>\n",
       "    </tr>\n",
       "    <tr>\n",
       "      <th>4</th>\n",
       "      <td>Super built-up  Area</td>\n",
       "      <td>Ready To Move</td>\n",
       "      <td>Da’an Dist., Taipei Ci</td>\n",
       "      <td>2 BHK</td>\n",
       "      <td>1200</td>\n",
       "      <td>1.0</td>\n",
       "      <td>1.0</td>\n",
       "      <td>1326.00</td>\n",
       "    </tr>\n",
       "  </tbody>\n",
       "</table>\n",
       "</div>"
      ],
      "text/plain": [
       "              area_type   availability                       location  \\\n",
       "0  Super built-up  Area         19-Dec  Zhongzheng Dist., Taipei City   \n",
       "1            Plot  Area  Ready To Move      Datong Dist., Taipei City   \n",
       "2        Built-up  Area  Ready To Move   Zhongshan Dist., Taipei City   \n",
       "3  Super built-up  Area  Ready To Move    Songshan Dist., Taipei City   \n",
       "4  Super built-up  Area  Ready To Move         Da’an Dist., Taipei Ci   \n",
       "\n",
       "        size total_sqft  bath  balcony    price  \n",
       "0      2 BHK       1056   1.0      1.0  1015.82  \n",
       "1  4 Bedroom       2600   2.0      3.0  3120.00  \n",
       "2      3 BHK       1440   1.0      3.0  1612.00  \n",
       "3      3 BHK       1521   2.0      1.0  2470.00  \n",
       "4      2 BHK       1200   1.0      1.0  1326.00  "
      ]
     },
     "execution_count": 421,
     "metadata": {},
     "output_type": "execute_result"
    }
   ],
   "source": [
    "import pandas as pd\n",
    "import numpy as np\n",
    "from matplotlib import pyplot as plt\n",
    "%matplotlib inline\n",
    "import matplotlib\n",
    "matplotlib.rcParams[\"figure.figsize\"] = (20,10)\n",
    "import warnings\n",
    "warnings.filterwarnings('ignore') # setting ignore as a parameter\n",
    "df1 = pd.read_csv(\"tw_house_prices.csv\")\n",
    "df1.head()"
   ]
  },
  {
   "cell_type": "markdown",
   "id": "f025deb2",
   "metadata": {
    "run_control": {
     "marked": true
    }
   },
   "source": [
    "### Check the features\n",
    "- we are using supervised learning here so we need tag all label dataset before modeling"
   ]
  },
  {
   "cell_type": "code",
   "execution_count": 422,
   "id": "0f505908",
   "metadata": {
    "run_control": {
     "marked": true
    }
   },
   "outputs": [
    {
     "data": {
      "text/plain": [
       "Index(['area_type', 'availability', 'location', 'size', 'total_sqft', 'bath',\n",
       "       'balcony', 'price'],\n",
       "      dtype='object')"
      ]
     },
     "execution_count": 422,
     "metadata": {},
     "output_type": "execute_result"
    }
   ],
   "source": [
    "df1.columns"
   ]
  },
  {
   "cell_type": "code",
   "execution_count": 423,
   "id": "f8047606",
   "metadata": {
    "run_control": {
     "marked": true
    }
   },
   "outputs": [
    {
     "data": {
      "text/plain": [
       "array(['Super built-up  Area', 'Plot  Area', 'Built-up  Area',\n",
       "       'Carpet  Area'], dtype=object)"
      ]
     },
     "execution_count": 423,
     "metadata": {},
     "output_type": "execute_result"
    }
   ],
   "source": [
    "df1['area_type'].unique()"
   ]
  },
  {
   "cell_type": "code",
   "execution_count": 424,
   "id": "df7e0212",
   "metadata": {
    "run_control": {
     "marked": true
    }
   },
   "outputs": [
    {
     "data": {
      "text/plain": [
       "Super built-up  Area    8629\n",
       "Built-up  Area          2371\n",
       "Plot  Area              1983\n",
       "Carpet  Area              87\n",
       "Name: area_type, dtype: int64"
      ]
     },
     "execution_count": 424,
     "metadata": {},
     "output_type": "execute_result"
    }
   ],
   "source": [
    "df1['area_type'].value_counts()"
   ]
  },
  {
   "cell_type": "markdown",
   "id": "45dfd11a",
   "metadata": {},
   "source": [
    "### Data Cleansing\n",
    "- handle N/A values and missing data\n",
    "- drop the unnecessary features after internal discussions"
   ]
  },
  {
   "cell_type": "code",
   "execution_count": 425,
   "id": "3ec09aae",
   "metadata": {
    "run_control": {
     "marked": true
    }
   },
   "outputs": [
    {
     "data": {
      "text/plain": [
       "(13070, 8)"
      ]
     },
     "execution_count": 425,
     "metadata": {},
     "output_type": "execute_result"
    }
   ],
   "source": [
    "df1.shape # shows the number of rows and columns of data"
   ]
  },
  {
   "cell_type": "code",
   "execution_count": 426,
   "id": "ab7c08ad",
   "metadata": {
    "run_control": {
     "marked": true
    }
   },
   "outputs": [
    {
     "data": {
      "text/plain": [
       "area_type\n",
       "Built-up  Area          2371\n",
       "Carpet  Area              87\n",
       "Plot  Area              1983\n",
       "Super built-up  Area    8629\n",
       "Name: area_type, dtype: int64"
      ]
     },
     "execution_count": 426,
     "metadata": {},
     "output_type": "execute_result"
    }
   ],
   "source": [
    "df1.groupby('area_type')['area_type'].agg('count')  # check the area type feature"
   ]
  },
  {
   "cell_type": "code",
   "execution_count": 427,
   "id": "831fad12",
   "metadata": {
    "run_control": {
     "marked": true
    }
   },
   "outputs": [
    {
     "data": {
      "text/html": [
       "<div>\n",
       "<style scoped>\n",
       "    .dataframe tbody tr th:only-of-type {\n",
       "        vertical-align: middle;\n",
       "    }\n",
       "\n",
       "    .dataframe tbody tr th {\n",
       "        vertical-align: top;\n",
       "    }\n",
       "\n",
       "    .dataframe thead th {\n",
       "        text-align: right;\n",
       "    }\n",
       "</style>\n",
       "<table border=\"1\" class=\"dataframe\">\n",
       "  <thead>\n",
       "    <tr style=\"text-align: right;\">\n",
       "      <th></th>\n",
       "      <th>location</th>\n",
       "      <th>size</th>\n",
       "      <th>total_sqft</th>\n",
       "      <th>bath</th>\n",
       "      <th>price</th>\n",
       "    </tr>\n",
       "  </thead>\n",
       "  <tbody>\n",
       "    <tr>\n",
       "      <th>0</th>\n",
       "      <td>Zhongzheng Dist., Taipei City</td>\n",
       "      <td>2 BHK</td>\n",
       "      <td>1056</td>\n",
       "      <td>1.0</td>\n",
       "      <td>1015.82</td>\n",
       "    </tr>\n",
       "    <tr>\n",
       "      <th>1</th>\n",
       "      <td>Datong Dist., Taipei City</td>\n",
       "      <td>4 Bedroom</td>\n",
       "      <td>2600</td>\n",
       "      <td>2.0</td>\n",
       "      <td>3120.00</td>\n",
       "    </tr>\n",
       "    <tr>\n",
       "      <th>2</th>\n",
       "      <td>Zhongshan Dist., Taipei City</td>\n",
       "      <td>3 BHK</td>\n",
       "      <td>1440</td>\n",
       "      <td>1.0</td>\n",
       "      <td>1612.00</td>\n",
       "    </tr>\n",
       "    <tr>\n",
       "      <th>3</th>\n",
       "      <td>Songshan Dist., Taipei City</td>\n",
       "      <td>3 BHK</td>\n",
       "      <td>1521</td>\n",
       "      <td>2.0</td>\n",
       "      <td>2470.00</td>\n",
       "    </tr>\n",
       "    <tr>\n",
       "      <th>4</th>\n",
       "      <td>Da’an Dist., Taipei Ci</td>\n",
       "      <td>2 BHK</td>\n",
       "      <td>1200</td>\n",
       "      <td>1.0</td>\n",
       "      <td>1326.00</td>\n",
       "    </tr>\n",
       "    <tr>\n",
       "      <th>...</th>\n",
       "      <td>...</td>\n",
       "      <td>...</td>\n",
       "      <td>...</td>\n",
       "      <td>...</td>\n",
       "      <td>...</td>\n",
       "    </tr>\n",
       "    <tr>\n",
       "      <th>13065</th>\n",
       "      <td>Jiadong Township, Pingtung County</td>\n",
       "      <td>5 Bedroom</td>\n",
       "      <td>3453</td>\n",
       "      <td>2.0</td>\n",
       "      <td>6006.00</td>\n",
       "    </tr>\n",
       "    <tr>\n",
       "      <th>13066</th>\n",
       "      <td>Xinyuan Township, Pingtung County</td>\n",
       "      <td>4 BHK</td>\n",
       "      <td>3600</td>\n",
       "      <td>2.0</td>\n",
       "      <td>10400.00</td>\n",
       "    </tr>\n",
       "    <tr>\n",
       "      <th>13067</th>\n",
       "      <td>Fangliao Township, Pingtung County</td>\n",
       "      <td>2 BHK</td>\n",
       "      <td>1141</td>\n",
       "      <td>1.0</td>\n",
       "      <td>1560.00</td>\n",
       "    </tr>\n",
       "    <tr>\n",
       "      <th>13068</th>\n",
       "      <td>Fangshan Township, Pingtung County</td>\n",
       "      <td>4 BHK</td>\n",
       "      <td>4689</td>\n",
       "      <td>2.0</td>\n",
       "      <td>12688.00</td>\n",
       "    </tr>\n",
       "    <tr>\n",
       "      <th>13069</th>\n",
       "      <td>Chunri Township, Pingtung County</td>\n",
       "      <td>1 BHK</td>\n",
       "      <td>550</td>\n",
       "      <td>1.0</td>\n",
       "      <td>442.00</td>\n",
       "    </tr>\n",
       "  </tbody>\n",
       "</table>\n",
       "<p>13070 rows × 5 columns</p>\n",
       "</div>"
      ],
      "text/plain": [
       "                                 location       size total_sqft  bath  \\\n",
       "0           Zhongzheng Dist., Taipei City      2 BHK       1056   1.0   \n",
       "1               Datong Dist., Taipei City  4 Bedroom       2600   2.0   \n",
       "2            Zhongshan Dist., Taipei City      3 BHK       1440   1.0   \n",
       "3             Songshan Dist., Taipei City      3 BHK       1521   2.0   \n",
       "4                  Da’an Dist., Taipei Ci      2 BHK       1200   1.0   \n",
       "...                                   ...        ...        ...   ...   \n",
       "13065   Jiadong Township, Pingtung County  5 Bedroom       3453   2.0   \n",
       "13066   Xinyuan Township, Pingtung County      4 BHK       3600   2.0   \n",
       "13067  Fangliao Township, Pingtung County      2 BHK       1141   1.0   \n",
       "13068  Fangshan Township, Pingtung County      4 BHK       4689   2.0   \n",
       "13069    Chunri Township, Pingtung County      1 BHK        550   1.0   \n",
       "\n",
       "          price  \n",
       "0       1015.82  \n",
       "1       3120.00  \n",
       "2       1612.00  \n",
       "3       2470.00  \n",
       "4       1326.00  \n",
       "...         ...  \n",
       "13065   6006.00  \n",
       "13066  10400.00  \n",
       "13067   1560.00  \n",
       "13068  12688.00  \n",
       "13069    442.00  \n",
       "\n",
       "[13070 rows x 5 columns]"
      ]
     },
     "execution_count": 427,
     "metadata": {},
     "output_type": "execute_result"
    }
   ],
   "source": [
    "df2 = df1.drop(['area_type','balcony','availability'],axis='columns')\n",
    "df2"
   ]
  },
  {
   "cell_type": "code",
   "execution_count": 428,
   "id": "c81ebdbd",
   "metadata": {
    "run_control": {
     "marked": true
    }
   },
   "outputs": [
    {
     "data": {
      "text/plain": [
       "location       0\n",
       "size          14\n",
       "total_sqft     0\n",
       "bath          71\n",
       "price          0\n",
       "dtype: int64"
      ]
     },
     "execution_count": 428,
     "metadata": {},
     "output_type": "execute_result"
    }
   ],
   "source": [
    "# start data  cleaning\n",
    "df2.isnull().sum()"
   ]
  },
  {
   "cell_type": "markdown",
   "id": "f608438f",
   "metadata": {},
   "source": [
    "71 rows where the value of bathroom is not available"
   ]
  },
  {
   "cell_type": "code",
   "execution_count": 429,
   "id": "62ff306d",
   "metadata": {
    "run_control": {
     "marked": true
    }
   },
   "outputs": [
    {
     "data": {
      "text/plain": [
       "location      0\n",
       "size          0\n",
       "total_sqft    0\n",
       "bath          0\n",
       "price         0\n",
       "dtype: int64"
      ]
     },
     "execution_count": 429,
     "metadata": {},
     "output_type": "execute_result"
    }
   ],
   "source": [
    "df3 = df2.dropna()   # because we have 13070 rows so we can drop them\n",
    "df3.isnull().sum()"
   ]
  },
  {
   "cell_type": "code",
   "execution_count": 430,
   "id": "7e992a83",
   "metadata": {
    "run_control": {
     "marked": true
    }
   },
   "outputs": [
    {
     "data": {
      "text/plain": [
       "(12999, 5)"
      ]
     },
     "execution_count": 430,
     "metadata": {},
     "output_type": "execute_result"
    }
   ],
   "source": [
    "df3.shape"
   ]
  },
  {
   "cell_type": "code",
   "execution_count": 431,
   "id": "15d3a155",
   "metadata": {
    "run_control": {
     "marked": true
    }
   },
   "outputs": [
    {
     "data": {
      "text/plain": [
       "array(['2 BHK', '4 Bedroom', '3 BHK', '4 BHK', '6 Bedroom', '3 Bedroom',\n",
       "       '1 BHK', '1 RK', '1 Bedroom', '8 Bedroom', '2 Bedroom',\n",
       "       '7 Bedroom', '5 BHK', '7 BHK', '6 BHK', '5 Bedroom', '11 BHK',\n",
       "       '9 BHK', '9 Bedroom', '27 BHK', '10 Bedroom', '11 Bedroom',\n",
       "       '10 BHK', '19 BHK', '16 BHK', '43 Bedroom', '14 BHK', '8 BHK',\n",
       "       '12 Bedroom', '13 BHK', '18 Bedroom'], dtype=object)"
      ]
     },
     "execution_count": 431,
     "metadata": {},
     "output_type": "execute_result"
    }
   ],
   "source": [
    "df3['size'].unique() #we can see there are 2 kinds of size, BHK and Bedroon"
   ]
  },
  {
   "cell_type": "markdown",
   "id": "af884b51",
   "metadata": {},
   "source": [
    "### Feature Engineering -1\n",
    "**Add new feature(integer) for bhk (Bedrooms Hall Kitchen)** "
   ]
  },
  {
   "cell_type": "code",
   "execution_count": 432,
   "id": "2a36b0df",
   "metadata": {
    "run_control": {
     "marked": true
    }
   },
   "outputs": [],
   "source": [
    "df3['bhk']=df3['size'].apply(lambda x: int(x.split(' ')[0]))"
   ]
  },
  {
   "cell_type": "code",
   "execution_count": 433,
   "id": "8154671e",
   "metadata": {
    "run_control": {
     "marked": true
    }
   },
   "outputs": [
    {
     "data": {
      "text/html": [
       "<div>\n",
       "<style scoped>\n",
       "    .dataframe tbody tr th:only-of-type {\n",
       "        vertical-align: middle;\n",
       "    }\n",
       "\n",
       "    .dataframe tbody tr th {\n",
       "        vertical-align: top;\n",
       "    }\n",
       "\n",
       "    .dataframe thead th {\n",
       "        text-align: right;\n",
       "    }\n",
       "</style>\n",
       "<table border=\"1\" class=\"dataframe\">\n",
       "  <thead>\n",
       "    <tr style=\"text-align: right;\">\n",
       "      <th></th>\n",
       "      <th>location</th>\n",
       "      <th>size</th>\n",
       "      <th>total_sqft</th>\n",
       "      <th>bath</th>\n",
       "      <th>price</th>\n",
       "      <th>bhk</th>\n",
       "    </tr>\n",
       "  </thead>\n",
       "  <tbody>\n",
       "    <tr>\n",
       "      <th>0</th>\n",
       "      <td>Zhongzheng Dist., Taipei City</td>\n",
       "      <td>2 BHK</td>\n",
       "      <td>1056</td>\n",
       "      <td>1.0</td>\n",
       "      <td>1015.82</td>\n",
       "      <td>2</td>\n",
       "    </tr>\n",
       "    <tr>\n",
       "      <th>1</th>\n",
       "      <td>Datong Dist., Taipei City</td>\n",
       "      <td>4 Bedroom</td>\n",
       "      <td>2600</td>\n",
       "      <td>2.0</td>\n",
       "      <td>3120.00</td>\n",
       "      <td>4</td>\n",
       "    </tr>\n",
       "    <tr>\n",
       "      <th>2</th>\n",
       "      <td>Zhongshan Dist., Taipei City</td>\n",
       "      <td>3 BHK</td>\n",
       "      <td>1440</td>\n",
       "      <td>1.0</td>\n",
       "      <td>1612.00</td>\n",
       "      <td>3</td>\n",
       "    </tr>\n",
       "    <tr>\n",
       "      <th>3</th>\n",
       "      <td>Songshan Dist., Taipei City</td>\n",
       "      <td>3 BHK</td>\n",
       "      <td>1521</td>\n",
       "      <td>2.0</td>\n",
       "      <td>2470.00</td>\n",
       "      <td>3</td>\n",
       "    </tr>\n",
       "    <tr>\n",
       "      <th>4</th>\n",
       "      <td>Da’an Dist., Taipei Ci</td>\n",
       "      <td>2 BHK</td>\n",
       "      <td>1200</td>\n",
       "      <td>1.0</td>\n",
       "      <td>1326.00</td>\n",
       "      <td>2</td>\n",
       "    </tr>\n",
       "  </tbody>\n",
       "</table>\n",
       "</div>"
      ],
      "text/plain": [
       "                        location       size total_sqft  bath    price  bhk\n",
       "0  Zhongzheng Dist., Taipei City      2 BHK       1056   1.0  1015.82    2\n",
       "1      Datong Dist., Taipei City  4 Bedroom       2600   2.0  3120.00    4\n",
       "2   Zhongshan Dist., Taipei City      3 BHK       1440   1.0  1612.00    3\n",
       "3    Songshan Dist., Taipei City      3 BHK       1521   2.0  2470.00    3\n",
       "4         Da’an Dist., Taipei Ci      2 BHK       1200   1.0  1326.00    2"
      ]
     },
     "execution_count": 433,
     "metadata": {},
     "output_type": "execute_result"
    }
   ],
   "source": [
    "df3.head()"
   ]
  },
  {
   "cell_type": "code",
   "execution_count": 434,
   "id": "ebfd7fbb",
   "metadata": {
    "run_control": {
     "marked": true
    }
   },
   "outputs": [
    {
     "data": {
      "text/plain": [
       "array([ 2,  4,  3,  6,  1,  8,  7,  5, 11,  9, 27, 10, 19, 16, 43, 14, 12,\n",
       "       13, 18], dtype=int64)"
      ]
     },
     "execution_count": 434,
     "metadata": {},
     "output_type": "execute_result"
    }
   ],
   "source": [
    "df3['bhk'].unique()"
   ]
  },
  {
   "cell_type": "code",
   "execution_count": 435,
   "id": "e4976240",
   "metadata": {
    "run_control": {
     "marked": true
    }
   },
   "outputs": [
    {
     "data": {
      "text/plain": [
       "array(['1056', '2600', '1440', ..., '1454', '774', '4689'], dtype=object)"
      ]
     },
     "execution_count": 435,
     "metadata": {},
     "output_type": "execute_result"
    }
   ],
   "source": [
    "df3.total_sqft.unique()"
   ]
  },
  {
   "cell_type": "markdown",
   "id": "87092959",
   "metadata": {},
   "source": [
    "**Explore total_sqft features**"
   ]
  },
  {
   "cell_type": "code",
   "execution_count": 436,
   "id": "baa649a3",
   "metadata": {
    "run_control": {
     "marked": true
    }
   },
   "outputs": [],
   "source": [
    "def is_float(x):              # to detect if a given value in total square foot column is a single number or not,\n",
    "                              # we transform it as float\n",
    "    try:\n",
    "        float(x)\n",
    "    except:\n",
    "        return False\n",
    "    return True"
   ]
  },
  {
   "cell_type": "code",
   "execution_count": 437,
   "id": "91dc0a07",
   "metadata": {
    "run_control": {
     "marked": true
    }
   },
   "outputs": [
    {
     "data": {
      "text/html": [
       "<div>\n",
       "<style scoped>\n",
       "    .dataframe tbody tr th:only-of-type {\n",
       "        vertical-align: middle;\n",
       "    }\n",
       "\n",
       "    .dataframe tbody tr th {\n",
       "        vertical-align: top;\n",
       "    }\n",
       "\n",
       "    .dataframe thead th {\n",
       "        text-align: right;\n",
       "    }\n",
       "</style>\n",
       "<table border=\"1\" class=\"dataframe\">\n",
       "  <thead>\n",
       "    <tr style=\"text-align: right;\">\n",
       "      <th></th>\n",
       "      <th>location</th>\n",
       "      <th>size</th>\n",
       "      <th>total_sqft</th>\n",
       "      <th>bath</th>\n",
       "      <th>price</th>\n",
       "      <th>bhk</th>\n",
       "    </tr>\n",
       "  </thead>\n",
       "  <tbody>\n",
       "    <tr>\n",
       "      <th>30</th>\n",
       "      <td>Pingxi Dist., New Taipei City</td>\n",
       "      <td>4 BHK</td>\n",
       "      <td>2100 - 2850</td>\n",
       "      <td>2.0</td>\n",
       "      <td>4836.00</td>\n",
       "      <td>4</td>\n",
       "    </tr>\n",
       "    <tr>\n",
       "      <th>122</th>\n",
       "      <td>Wuri Dist., Taichung City</td>\n",
       "      <td>4 BHK</td>\n",
       "      <td>3067 - 8156</td>\n",
       "      <td>2.0</td>\n",
       "      <td>12402.00</td>\n",
       "      <td>4</td>\n",
       "    </tr>\n",
       "    <tr>\n",
       "      <th>137</th>\n",
       "      <td>Dajia Dist., Taichung City</td>\n",
       "      <td>2 BHK</td>\n",
       "      <td>1042 - 1105</td>\n",
       "      <td>1.0</td>\n",
       "      <td>1404.13</td>\n",
       "      <td>2</td>\n",
       "    </tr>\n",
       "    <tr>\n",
       "      <th>165</th>\n",
       "      <td>Nantou City, Nantou County</td>\n",
       "      <td>2 BHK</td>\n",
       "      <td>1145 - 1340</td>\n",
       "      <td>1.0</td>\n",
       "      <td>1130.74</td>\n",
       "      <td>2</td>\n",
       "    </tr>\n",
       "    <tr>\n",
       "      <th>188</th>\n",
       "      <td>Taibao City, Chiayi County</td>\n",
       "      <td>2 BHK</td>\n",
       "      <td>1015 - 1540</td>\n",
       "      <td>1.0</td>\n",
       "      <td>1476.80</td>\n",
       "      <td>2</td>\n",
       "    </tr>\n",
       "    <tr>\n",
       "      <th>410</th>\n",
       "      <td>Sanxia Dist., New Taipei City</td>\n",
       "      <td>1 BHK</td>\n",
       "      <td>34.46Sqt.Meter</td>\n",
       "      <td>1.0</td>\n",
       "      <td>481.00</td>\n",
       "      <td>1</td>\n",
       "    </tr>\n",
       "    <tr>\n",
       "      <th>549</th>\n",
       "      <td>East Dist., Chiayi City</td>\n",
       "      <td>2 BHK</td>\n",
       "      <td>1195 - 1440</td>\n",
       "      <td>1.0</td>\n",
       "      <td>1658.02</td>\n",
       "      <td>2</td>\n",
       "    </tr>\n",
       "    <tr>\n",
       "      <th>648</th>\n",
       "      <td>Mituo Dist., Kaohsiung City</td>\n",
       "      <td>9 Bedroom</td>\n",
       "      <td>4125ping</td>\n",
       "      <td>6.0</td>\n",
       "      <td>6890.00</td>\n",
       "      <td>9</td>\n",
       "    </tr>\n",
       "    <tr>\n",
       "      <th>661</th>\n",
       "      <td>Jiaxian Dist., Kaohsiung City</td>\n",
       "      <td>2 BHK</td>\n",
       "      <td>1120 - 1145</td>\n",
       "      <td>1.0</td>\n",
       "      <td>1251.38</td>\n",
       "      <td>2</td>\n",
       "    </tr>\n",
       "    <tr>\n",
       "      <th>672</th>\n",
       "      <td>Jinsha Township, Kinmen County</td>\n",
       "      <td>4 Bedroom</td>\n",
       "      <td>3090 - 5002</td>\n",
       "      <td>2.0</td>\n",
       "      <td>11570.00</td>\n",
       "      <td>4</td>\n",
       "    </tr>\n",
       "  </tbody>\n",
       "</table>\n",
       "</div>"
      ],
      "text/plain": [
       "                           location       size      total_sqft  bath  \\\n",
       "30    Pingxi Dist., New Taipei City      4 BHK     2100 - 2850   2.0   \n",
       "122       Wuri Dist., Taichung City      4 BHK     3067 - 8156   2.0   \n",
       "137      Dajia Dist., Taichung City      2 BHK     1042 - 1105   1.0   \n",
       "165      Nantou City, Nantou County      2 BHK     1145 - 1340   1.0   \n",
       "188      Taibao City, Chiayi County      2 BHK     1015 - 1540   1.0   \n",
       "410   Sanxia Dist., New Taipei City      1 BHK  34.46Sqt.Meter   1.0   \n",
       "549         East Dist., Chiayi City      2 BHK     1195 - 1440   1.0   \n",
       "648     Mituo Dist., Kaohsiung City  9 Bedroom        4125ping   6.0   \n",
       "661   Jiaxian Dist., Kaohsiung City      2 BHK     1120 - 1145   1.0   \n",
       "672  Jinsha Township, Kinmen County  4 Bedroom     3090 - 5002   2.0   \n",
       "\n",
       "        price  bhk  \n",
       "30    4836.00    4  \n",
       "122  12402.00    4  \n",
       "137   1404.13    2  \n",
       "165   1130.74    2  \n",
       "188   1476.80    2  \n",
       "410    481.00    1  \n",
       "549   1658.02    2  \n",
       "648   6890.00    9  \n",
       "661   1251.38    2  \n",
       "672  11570.00    4  "
      ]
     },
     "execution_count": 437,
     "metadata": {},
     "output_type": "execute_result"
    }
   ],
   "source": [
    "df3[~df3['total_sqft'].apply(is_float)].head(10)"
   ]
  },
  {
   "cell_type": "markdown",
   "id": "6ddaadb4",
   "metadata": {},
   "source": [
    "- Above shows that total_sqft can be a range. So I take the average of min and max value in the range. and the 34.46Sq.Meter, 4125ping can convert to square ft using unit conversion. But I decide to drop them because they could be ignored."
   ]
  },
  {
   "cell_type": "code",
   "execution_count": 438,
   "id": "9b4f8fca",
   "metadata": {
    "run_control": {
     "marked": true
    }
   },
   "outputs": [],
   "source": [
    "def convert_sqft_to_num(x):\n",
    "    tokens = x.split('-')\n",
    "    if len(tokens) == 2:\n",
    "        return (float(tokens[0])+float(tokens[1]))/2  #we take the ranges avergae\n",
    "    try:\n",
    "        return float(x)\n",
    "    except:\n",
    "        return None"
   ]
  },
  {
   "cell_type": "code",
   "execution_count": 439,
   "id": "dcb83033",
   "metadata": {
    "run_control": {
     "marked": true
    }
   },
   "outputs": [
    {
     "data": {
      "text/plain": [
       "2166.0"
      ]
     },
     "execution_count": 439,
     "metadata": {},
     "output_type": "execute_result"
    }
   ],
   "source": [
    "convert_sqft_to_num('2166') # test: give this function a string (transform to float)"
   ]
  },
  {
   "cell_type": "code",
   "execution_count": 440,
   "id": "fffdacd8",
   "metadata": {
    "run_control": {
     "marked": true
    }
   },
   "outputs": [
    {
     "data": {
      "text/plain": [
       "2475.0"
      ]
     },
     "execution_count": 440,
     "metadata": {},
     "output_type": "execute_result"
    }
   ],
   "source": [
    "convert_sqft_to_num('2100 - 2850') # test: give this function a range (transform to float, returns as averge)"
   ]
  },
  {
   "cell_type": "code",
   "execution_count": 441,
   "id": "c1c20a5b",
   "metadata": {
    "run_control": {
     "marked": true
    }
   },
   "outputs": [
    {
     "data": {
      "text/html": [
       "<div>\n",
       "<style scoped>\n",
       "    .dataframe tbody tr th:only-of-type {\n",
       "        vertical-align: middle;\n",
       "    }\n",
       "\n",
       "    .dataframe tbody tr th {\n",
       "        vertical-align: top;\n",
       "    }\n",
       "\n",
       "    .dataframe thead th {\n",
       "        text-align: right;\n",
       "    }\n",
       "</style>\n",
       "<table border=\"1\" class=\"dataframe\">\n",
       "  <thead>\n",
       "    <tr style=\"text-align: right;\">\n",
       "      <th></th>\n",
       "      <th>location</th>\n",
       "      <th>size</th>\n",
       "      <th>total_sqft</th>\n",
       "      <th>bath</th>\n",
       "      <th>price</th>\n",
       "      <th>bhk</th>\n",
       "    </tr>\n",
       "  </thead>\n",
       "  <tbody>\n",
       "    <tr>\n",
       "      <th>0</th>\n",
       "      <td>Zhongzheng Dist., Taipei City</td>\n",
       "      <td>2 BHK</td>\n",
       "      <td>1056.0</td>\n",
       "      <td>1.0</td>\n",
       "      <td>1015.82</td>\n",
       "      <td>2</td>\n",
       "    </tr>\n",
       "    <tr>\n",
       "      <th>1</th>\n",
       "      <td>Datong Dist., Taipei City</td>\n",
       "      <td>4 Bedroom</td>\n",
       "      <td>2600.0</td>\n",
       "      <td>2.0</td>\n",
       "      <td>3120.00</td>\n",
       "      <td>4</td>\n",
       "    </tr>\n",
       "    <tr>\n",
       "      <th>2</th>\n",
       "      <td>Zhongshan Dist., Taipei City</td>\n",
       "      <td>3 BHK</td>\n",
       "      <td>1440.0</td>\n",
       "      <td>1.0</td>\n",
       "      <td>1612.00</td>\n",
       "      <td>3</td>\n",
       "    </tr>\n",
       "  </tbody>\n",
       "</table>\n",
       "</div>"
      ],
      "text/plain": [
       "                        location       size  total_sqft  bath    price  bhk\n",
       "0  Zhongzheng Dist., Taipei City      2 BHK      1056.0   1.0  1015.82    2\n",
       "1      Datong Dist., Taipei City  4 Bedroom      2600.0   2.0  3120.00    4\n",
       "2   Zhongshan Dist., Taipei City      3 BHK      1440.0   1.0  1612.00    3"
      ]
     },
     "execution_count": 441,
     "metadata": {},
     "output_type": "execute_result"
    }
   ],
   "source": [
    "df4 = df3.copy()\n",
    "df4['total_sqft'] = df4['total_sqft'].apply(convert_sqft_to_num)\n",
    "df4.head(3)"
   ]
  },
  {
   "cell_type": "code",
   "execution_count": 442,
   "id": "cef85183",
   "metadata": {
    "run_control": {
     "marked": true
    }
   },
   "outputs": [
    {
     "data": {
      "text/plain": [
       "location      Pingxi Dist., New Taipei City\n",
       "size                                  4 BHK\n",
       "total_sqft                           2475.0\n",
       "bath                                    2.0\n",
       "price                                4836.0\n",
       "bhk                                       4\n",
       "Name: 30, dtype: object"
      ]
     },
     "execution_count": 442,
     "metadata": {},
     "output_type": "execute_result"
    }
   ],
   "source": [
    "df4.loc[30]"
   ]
  },
  {
   "cell_type": "markdown",
   "id": "bb2de972",
   "metadata": {},
   "source": [
    "- 2475 means average of range 2100-2850"
   ]
  },
  {
   "cell_type": "code",
   "execution_count": 443,
   "id": "ee6ac4c4",
   "metadata": {
    "run_control": {
     "marked": true
    }
   },
   "outputs": [
    {
     "data": {
      "text/plain": [
       "2475.0"
      ]
     },
     "execution_count": 443,
     "metadata": {},
     "output_type": "execute_result"
    }
   ],
   "source": [
    "(2100+2850)/2"
   ]
  },
  {
   "cell_type": "markdown",
   "id": "edefbfa4",
   "metadata": {},
   "source": [
    "### Feature Engineering - 2\n",
    "**Add new features price per square feet**"
   ]
  },
  {
   "cell_type": "code",
   "execution_count": 444,
   "id": "7bb2e443",
   "metadata": {
    "run_control": {
     "marked": true
    }
   },
   "outputs": [
    {
     "data": {
      "text/html": [
       "<div>\n",
       "<style scoped>\n",
       "    .dataframe tbody tr th:only-of-type {\n",
       "        vertical-align: middle;\n",
       "    }\n",
       "\n",
       "    .dataframe tbody tr th {\n",
       "        vertical-align: top;\n",
       "    }\n",
       "\n",
       "    .dataframe thead th {\n",
       "        text-align: right;\n",
       "    }\n",
       "</style>\n",
       "<table border=\"1\" class=\"dataframe\">\n",
       "  <thead>\n",
       "    <tr style=\"text-align: right;\">\n",
       "      <th></th>\n",
       "      <th>location</th>\n",
       "      <th>size</th>\n",
       "      <th>total_sqft</th>\n",
       "      <th>bath</th>\n",
       "      <th>price</th>\n",
       "      <th>bhk</th>\n",
       "    </tr>\n",
       "  </thead>\n",
       "  <tbody>\n",
       "    <tr>\n",
       "      <th>0</th>\n",
       "      <td>Zhongzheng Dist., Taipei City</td>\n",
       "      <td>2 BHK</td>\n",
       "      <td>1056.0</td>\n",
       "      <td>1.0</td>\n",
       "      <td>1015.82</td>\n",
       "      <td>2</td>\n",
       "    </tr>\n",
       "    <tr>\n",
       "      <th>1</th>\n",
       "      <td>Datong Dist., Taipei City</td>\n",
       "      <td>4 Bedroom</td>\n",
       "      <td>2600.0</td>\n",
       "      <td>2.0</td>\n",
       "      <td>3120.00</td>\n",
       "      <td>4</td>\n",
       "    </tr>\n",
       "    <tr>\n",
       "      <th>2</th>\n",
       "      <td>Zhongshan Dist., Taipei City</td>\n",
       "      <td>3 BHK</td>\n",
       "      <td>1440.0</td>\n",
       "      <td>1.0</td>\n",
       "      <td>1612.00</td>\n",
       "      <td>3</td>\n",
       "    </tr>\n",
       "  </tbody>\n",
       "</table>\n",
       "</div>"
      ],
      "text/plain": [
       "                        location       size  total_sqft  bath    price  bhk\n",
       "0  Zhongzheng Dist., Taipei City      2 BHK      1056.0   1.0  1015.82    2\n",
       "1      Datong Dist., Taipei City  4 Bedroom      2600.0   2.0  3120.00    4\n",
       "2   Zhongshan Dist., Taipei City      3 BHK      1440.0   1.0  1612.00    3"
      ]
     },
     "execution_count": 444,
     "metadata": {},
     "output_type": "execute_result"
    }
   ],
   "source": [
    "df4.head(3)"
   ]
  },
  {
   "cell_type": "code",
   "execution_count": 446,
   "id": "1a216eb9",
   "metadata": {
    "run_control": {
     "marked": true
    }
   },
   "outputs": [
    {
     "data": {
      "text/html": [
       "<div>\n",
       "<style scoped>\n",
       "    .dataframe tbody tr th:only-of-type {\n",
       "        vertical-align: middle;\n",
       "    }\n",
       "\n",
       "    .dataframe tbody tr th {\n",
       "        vertical-align: top;\n",
       "    }\n",
       "\n",
       "    .dataframe thead th {\n",
       "        text-align: right;\n",
       "    }\n",
       "</style>\n",
       "<table border=\"1\" class=\"dataframe\">\n",
       "  <thead>\n",
       "    <tr style=\"text-align: right;\">\n",
       "      <th></th>\n",
       "      <th>location</th>\n",
       "      <th>size</th>\n",
       "      <th>total_sqft</th>\n",
       "      <th>bath</th>\n",
       "      <th>price</th>\n",
       "      <th>bhk</th>\n",
       "      <th>price_per_sqft</th>\n",
       "    </tr>\n",
       "  </thead>\n",
       "  <tbody>\n",
       "    <tr>\n",
       "      <th>0</th>\n",
       "      <td>Zhongzheng Dist., Taipei City</td>\n",
       "      <td>2 BHK</td>\n",
       "      <td>1056.0</td>\n",
       "      <td>1.0</td>\n",
       "      <td>1015.82</td>\n",
       "      <td>2</td>\n",
       "      <td>9619.507576</td>\n",
       "    </tr>\n",
       "    <tr>\n",
       "      <th>1</th>\n",
       "      <td>Datong Dist., Taipei City</td>\n",
       "      <td>4 Bedroom</td>\n",
       "      <td>2600.0</td>\n",
       "      <td>2.0</td>\n",
       "      <td>3120.00</td>\n",
       "      <td>4</td>\n",
       "      <td>12000.000000</td>\n",
       "    </tr>\n",
       "    <tr>\n",
       "      <th>2</th>\n",
       "      <td>Zhongshan Dist., Taipei City</td>\n",
       "      <td>3 BHK</td>\n",
       "      <td>1440.0</td>\n",
       "      <td>1.0</td>\n",
       "      <td>1612.00</td>\n",
       "      <td>3</td>\n",
       "      <td>11194.444444</td>\n",
       "    </tr>\n",
       "    <tr>\n",
       "      <th>3</th>\n",
       "      <td>Songshan Dist., Taipei City</td>\n",
       "      <td>3 BHK</td>\n",
       "      <td>1521.0</td>\n",
       "      <td>2.0</td>\n",
       "      <td>2470.00</td>\n",
       "      <td>3</td>\n",
       "      <td>16239.316239</td>\n",
       "    </tr>\n",
       "    <tr>\n",
       "      <th>4</th>\n",
       "      <td>Da’an Dist., Taipei Ci</td>\n",
       "      <td>2 BHK</td>\n",
       "      <td>1200.0</td>\n",
       "      <td>1.0</td>\n",
       "      <td>1326.00</td>\n",
       "      <td>2</td>\n",
       "      <td>11050.000000</td>\n",
       "    </tr>\n",
       "    <tr>\n",
       "      <th>5</th>\n",
       "      <td>Wanhua Dist., Taipei City</td>\n",
       "      <td>2 BHK</td>\n",
       "      <td>1170.0</td>\n",
       "      <td>1.0</td>\n",
       "      <td>988.00</td>\n",
       "      <td>2</td>\n",
       "      <td>8444.444444</td>\n",
       "    </tr>\n",
       "    <tr>\n",
       "      <th>6</th>\n",
       "      <td>Xinyi Dist., Taipei City</td>\n",
       "      <td>4 BHK</td>\n",
       "      <td>2732.0</td>\n",
       "      <td>2.0</td>\n",
       "      <td>5304.00</td>\n",
       "      <td>4</td>\n",
       "      <td>19414.348463</td>\n",
       "    </tr>\n",
       "    <tr>\n",
       "      <th>7</th>\n",
       "      <td>Shilin Dist., Taipei City</td>\n",
       "      <td>4 BHK</td>\n",
       "      <td>3300.0</td>\n",
       "      <td>2.0</td>\n",
       "      <td>15600.00</td>\n",
       "      <td>4</td>\n",
       "      <td>47272.727273</td>\n",
       "    </tr>\n",
       "    <tr>\n",
       "      <th>8</th>\n",
       "      <td>Beitou Dist., Taipei City</td>\n",
       "      <td>3 BHK</td>\n",
       "      <td>1310.0</td>\n",
       "      <td>2.0</td>\n",
       "      <td>1644.50</td>\n",
       "      <td>3</td>\n",
       "      <td>12553.435115</td>\n",
       "    </tr>\n",
       "    <tr>\n",
       "      <th>9</th>\n",
       "      <td>Neihu Dist., Taipei City</td>\n",
       "      <td>6 Bedroom</td>\n",
       "      <td>1020.0</td>\n",
       "      <td>2.0</td>\n",
       "      <td>9620.00</td>\n",
       "      <td>6</td>\n",
       "      <td>94313.725490</td>\n",
       "    </tr>\n",
       "  </tbody>\n",
       "</table>\n",
       "</div>"
      ],
      "text/plain": [
       "                        location       size  total_sqft  bath     price  bhk  \\\n",
       "0  Zhongzheng Dist., Taipei City      2 BHK      1056.0   1.0   1015.82    2   \n",
       "1      Datong Dist., Taipei City  4 Bedroom      2600.0   2.0   3120.00    4   \n",
       "2   Zhongshan Dist., Taipei City      3 BHK      1440.0   1.0   1612.00    3   \n",
       "3    Songshan Dist., Taipei City      3 BHK      1521.0   2.0   2470.00    3   \n",
       "4         Da’an Dist., Taipei Ci      2 BHK      1200.0   1.0   1326.00    2   \n",
       "5      Wanhua Dist., Taipei City      2 BHK      1170.0   1.0    988.00    2   \n",
       "6       Xinyi Dist., Taipei City      4 BHK      2732.0   2.0   5304.00    4   \n",
       "7      Shilin Dist., Taipei City      4 BHK      3300.0   2.0  15600.00    4   \n",
       "8      Beitou Dist., Taipei City      3 BHK      1310.0   2.0   1644.50    3   \n",
       "9       Neihu Dist., Taipei City  6 Bedroom      1020.0   2.0   9620.00    6   \n",
       "\n",
       "   price_per_sqft  \n",
       "0     9619.507576  \n",
       "1    12000.000000  \n",
       "2    11194.444444  \n",
       "3    16239.316239  \n",
       "4    11050.000000  \n",
       "5     8444.444444  \n",
       "6    19414.348463  \n",
       "7    47272.727273  \n",
       "8    12553.435115  \n",
       "9    94313.725490  "
      ]
     },
     "execution_count": 446,
     "metadata": {},
     "output_type": "execute_result"
    }
   ],
   "source": [
    "df5 = df4.copy()\n",
    "df5['price_per_sqft'] = df5['price']*10000/df5['total_sqft']  #change to NTD\n",
    "df5.head(10)"
   ]
  },
  {
   "cell_type": "markdown",
   "id": "f3380646",
   "metadata": {},
   "source": [
    "### Removing outliers"
   ]
  },
  {
   "cell_type": "code",
   "execution_count": 447,
   "id": "226c5bd9",
   "metadata": {
    "run_control": {
     "marked": true
    }
   },
   "outputs": [
    {
     "data": {
      "text/plain": [
       "365"
      ]
     },
     "execution_count": 447,
     "metadata": {},
     "output_type": "execute_result"
    }
   ],
   "source": [
    "len(df5.location.unique())  # explore the location column, dimenionality a little high"
   ]
  },
  {
   "cell_type": "code",
   "execution_count": 448,
   "id": "1aedbcff",
   "metadata": {
    "run_control": {
     "marked": true
    }
   },
   "outputs": [
    {
     "data": {
      "text/plain": [
       "location\n",
       "Tamsui Dist., New Taipei City       71\n",
       "Wenshan Dist., Taipei City          40\n",
       "Bali Dist., New Taipei City         40\n",
       "Baoshan Township, Hsinchu County    39\n",
       "Ruifang Dist., New Taipei City      39\n",
       "                                    ..\n",
       "Da’an Dist., Taipei Ci               3\n",
       "Nan’ao Township, Yilan Coun          2\n",
       "Tai’an Township, Miaoli Coun         2\n",
       "Su’ao Township, Yilan Coun           2\n",
       "Ren’ai Dist., Keelung Ci             1\n",
       "Name: location, Length: 365, dtype: int64"
      ]
     },
     "execution_count": 448,
     "metadata": {},
     "output_type": "execute_result"
    }
   ],
   "source": [
    "df5.location = df5.location.apply(lambda x: x.strip())\n",
    "location_stats = df5.groupby('location')['location'].agg('count').sort_values(ascending=False)\n",
    "location_stats"
   ]
  },
  {
   "cell_type": "code",
   "execution_count": 449,
   "id": "5b3da80d",
   "metadata": {
    "run_control": {
     "marked": true
    }
   },
   "outputs": [
    {
     "data": {
      "text/plain": [
       "5"
      ]
     },
     "execution_count": 449,
     "metadata": {},
     "output_type": "execute_result"
    }
   ],
   "source": [
    "len(location_stats[location_stats<=10])"
   ]
  },
  {
   "cell_type": "code",
   "execution_count": 450,
   "id": "dbb226f2",
   "metadata": {
    "run_control": {
     "marked": true
    }
   },
   "outputs": [
    {
     "data": {
      "text/plain": [
       "location\n",
       "Da’an Dist., Taipei Ci          3\n",
       "Nan’ao Township, Yilan Coun     2\n",
       "Tai’an Township, Miaoli Coun    2\n",
       "Su’ao Township, Yilan Coun      2\n",
       "Ren’ai Dist., Keelung Ci        1\n",
       "Name: location, dtype: int64"
      ]
     },
     "execution_count": 450,
     "metadata": {},
     "output_type": "execute_result"
    }
   ],
   "source": [
    "location_stats_less_than_10 = location_stats[location_stats<=10]\n",
    "location_stats_less_than_10"
   ]
  },
  {
   "cell_type": "code",
   "execution_count": 451,
   "id": "8ae7b734",
   "metadata": {
    "run_control": {
     "marked": true
    }
   },
   "outputs": [
    {
     "data": {
      "text/plain": [
       "365"
      ]
     },
     "execution_count": 451,
     "metadata": {},
     "output_type": "execute_result"
    }
   ],
   "source": [
    "len(df5.location.unique())"
   ]
  },
  {
   "cell_type": "code",
   "execution_count": 452,
   "id": "37cccb4d",
   "metadata": {
    "run_control": {
     "marked": true
    }
   },
   "outputs": [
    {
     "data": {
      "text/plain": [
       "361"
      ]
     },
     "execution_count": 452,
     "metadata": {},
     "output_type": "execute_result"
    }
   ],
   "source": [
    "df5.location = df5.location.apply(lambda x: 'other' if x in location_stats_less_than_10 else x)\n",
    "len(df5.location.unique())"
   ]
  },
  {
   "cell_type": "code",
   "execution_count": 453,
   "id": "e87790e3",
   "metadata": {
    "run_control": {
     "marked": true
    }
   },
   "outputs": [
    {
     "data": {
      "text/html": [
       "<div>\n",
       "<style scoped>\n",
       "    .dataframe tbody tr th:only-of-type {\n",
       "        vertical-align: middle;\n",
       "    }\n",
       "\n",
       "    .dataframe tbody tr th {\n",
       "        vertical-align: top;\n",
       "    }\n",
       "\n",
       "    .dataframe thead th {\n",
       "        text-align: right;\n",
       "    }\n",
       "</style>\n",
       "<table border=\"1\" class=\"dataframe\">\n",
       "  <thead>\n",
       "    <tr style=\"text-align: right;\">\n",
       "      <th></th>\n",
       "      <th>location</th>\n",
       "      <th>size</th>\n",
       "      <th>total_sqft</th>\n",
       "      <th>bath</th>\n",
       "      <th>price</th>\n",
       "      <th>bhk</th>\n",
       "      <th>price_per_sqft</th>\n",
       "    </tr>\n",
       "  </thead>\n",
       "  <tbody>\n",
       "    <tr>\n",
       "      <th>0</th>\n",
       "      <td>Zhongzheng Dist., Taipei City</td>\n",
       "      <td>2 BHK</td>\n",
       "      <td>1056.0</td>\n",
       "      <td>1.0</td>\n",
       "      <td>1015.82</td>\n",
       "      <td>2</td>\n",
       "      <td>9619.507576</td>\n",
       "    </tr>\n",
       "    <tr>\n",
       "      <th>1</th>\n",
       "      <td>Datong Dist., Taipei City</td>\n",
       "      <td>4 Bedroom</td>\n",
       "      <td>2600.0</td>\n",
       "      <td>2.0</td>\n",
       "      <td>3120.00</td>\n",
       "      <td>4</td>\n",
       "      <td>12000.000000</td>\n",
       "    </tr>\n",
       "    <tr>\n",
       "      <th>2</th>\n",
       "      <td>Zhongshan Dist., Taipei City</td>\n",
       "      <td>3 BHK</td>\n",
       "      <td>1440.0</td>\n",
       "      <td>1.0</td>\n",
       "      <td>1612.00</td>\n",
       "      <td>3</td>\n",
       "      <td>11194.444444</td>\n",
       "    </tr>\n",
       "    <tr>\n",
       "      <th>3</th>\n",
       "      <td>Songshan Dist., Taipei City</td>\n",
       "      <td>3 BHK</td>\n",
       "      <td>1521.0</td>\n",
       "      <td>2.0</td>\n",
       "      <td>2470.00</td>\n",
       "      <td>3</td>\n",
       "      <td>16239.316239</td>\n",
       "    </tr>\n",
       "    <tr>\n",
       "      <th>4</th>\n",
       "      <td>other</td>\n",
       "      <td>2 BHK</td>\n",
       "      <td>1200.0</td>\n",
       "      <td>1.0</td>\n",
       "      <td>1326.00</td>\n",
       "      <td>2</td>\n",
       "      <td>11050.000000</td>\n",
       "    </tr>\n",
       "    <tr>\n",
       "      <th>5</th>\n",
       "      <td>Wanhua Dist., Taipei City</td>\n",
       "      <td>2 BHK</td>\n",
       "      <td>1170.0</td>\n",
       "      <td>1.0</td>\n",
       "      <td>988.00</td>\n",
       "      <td>2</td>\n",
       "      <td>8444.444444</td>\n",
       "    </tr>\n",
       "    <tr>\n",
       "      <th>6</th>\n",
       "      <td>Xinyi Dist., Taipei City</td>\n",
       "      <td>4 BHK</td>\n",
       "      <td>2732.0</td>\n",
       "      <td>2.0</td>\n",
       "      <td>5304.00</td>\n",
       "      <td>4</td>\n",
       "      <td>19414.348463</td>\n",
       "    </tr>\n",
       "    <tr>\n",
       "      <th>7</th>\n",
       "      <td>Shilin Dist., Taipei City</td>\n",
       "      <td>4 BHK</td>\n",
       "      <td>3300.0</td>\n",
       "      <td>2.0</td>\n",
       "      <td>15600.00</td>\n",
       "      <td>4</td>\n",
       "      <td>47272.727273</td>\n",
       "    </tr>\n",
       "    <tr>\n",
       "      <th>8</th>\n",
       "      <td>Beitou Dist., Taipei City</td>\n",
       "      <td>3 BHK</td>\n",
       "      <td>1310.0</td>\n",
       "      <td>2.0</td>\n",
       "      <td>1644.50</td>\n",
       "      <td>3</td>\n",
       "      <td>12553.435115</td>\n",
       "    </tr>\n",
       "    <tr>\n",
       "      <th>9</th>\n",
       "      <td>Neihu Dist., Taipei City</td>\n",
       "      <td>6 Bedroom</td>\n",
       "      <td>1020.0</td>\n",
       "      <td>2.0</td>\n",
       "      <td>9620.00</td>\n",
       "      <td>6</td>\n",
       "      <td>94313.725490</td>\n",
       "    </tr>\n",
       "  </tbody>\n",
       "</table>\n",
       "</div>"
      ],
      "text/plain": [
       "                        location       size  total_sqft  bath     price  bhk  \\\n",
       "0  Zhongzheng Dist., Taipei City      2 BHK      1056.0   1.0   1015.82    2   \n",
       "1      Datong Dist., Taipei City  4 Bedroom      2600.0   2.0   3120.00    4   \n",
       "2   Zhongshan Dist., Taipei City      3 BHK      1440.0   1.0   1612.00    3   \n",
       "3    Songshan Dist., Taipei City      3 BHK      1521.0   2.0   2470.00    3   \n",
       "4                          other      2 BHK      1200.0   1.0   1326.00    2   \n",
       "5      Wanhua Dist., Taipei City      2 BHK      1170.0   1.0    988.00    2   \n",
       "6       Xinyi Dist., Taipei City      4 BHK      2732.0   2.0   5304.00    4   \n",
       "7      Shilin Dist., Taipei City      4 BHK      3300.0   2.0  15600.00    4   \n",
       "8      Beitou Dist., Taipei City      3 BHK      1310.0   2.0   1644.50    3   \n",
       "9       Neihu Dist., Taipei City  6 Bedroom      1020.0   2.0   9620.00    6   \n",
       "\n",
       "   price_per_sqft  \n",
       "0     9619.507576  \n",
       "1    12000.000000  \n",
       "2    11194.444444  \n",
       "3    16239.316239  \n",
       "4    11050.000000  \n",
       "5     8444.444444  \n",
       "6    19414.348463  \n",
       "7    47272.727273  \n",
       "8    12553.435115  \n",
       "9    94313.725490  "
      ]
     },
     "execution_count": 453,
     "metadata": {},
     "output_type": "execute_result"
    }
   ],
   "source": [
    "df5.head(10)"
   ]
  },
  {
   "cell_type": "code",
   "execution_count": 454,
   "id": "a6e1a330",
   "metadata": {
    "run_control": {
     "marked": true
    }
   },
   "outputs": [
    {
     "data": {
      "text/html": [
       "<div>\n",
       "<style scoped>\n",
       "    .dataframe tbody tr th:only-of-type {\n",
       "        vertical-align: middle;\n",
       "    }\n",
       "\n",
       "    .dataframe tbody tr th {\n",
       "        vertical-align: top;\n",
       "    }\n",
       "\n",
       "    .dataframe thead th {\n",
       "        text-align: right;\n",
       "    }\n",
       "</style>\n",
       "<table border=\"1\" class=\"dataframe\">\n",
       "  <thead>\n",
       "    <tr style=\"text-align: right;\">\n",
       "      <th></th>\n",
       "      <th>location</th>\n",
       "      <th>size</th>\n",
       "      <th>total_sqft</th>\n",
       "      <th>bath</th>\n",
       "      <th>price</th>\n",
       "      <th>bhk</th>\n",
       "      <th>price_per_sqft</th>\n",
       "    </tr>\n",
       "  </thead>\n",
       "  <tbody>\n",
       "    <tr>\n",
       "      <th>9</th>\n",
       "      <td>Neihu Dist., Taipei City</td>\n",
       "      <td>6 Bedroom</td>\n",
       "      <td>1020.0</td>\n",
       "      <td>2.0</td>\n",
       "      <td>9620.0</td>\n",
       "      <td>6</td>\n",
       "      <td>94313.725490</td>\n",
       "    </tr>\n",
       "    <tr>\n",
       "      <th>45</th>\n",
       "      <td>Linkou Dist., New Taipei City</td>\n",
       "      <td>8 Bedroom</td>\n",
       "      <td>600.0</td>\n",
       "      <td>6.0</td>\n",
       "      <td>5200.0</td>\n",
       "      <td>8</td>\n",
       "      <td>86666.666667</td>\n",
       "    </tr>\n",
       "    <tr>\n",
       "      <th>58</th>\n",
       "      <td>Sanxing Township, Yilan County</td>\n",
       "      <td>6 Bedroom</td>\n",
       "      <td>1407.0</td>\n",
       "      <td>2.0</td>\n",
       "      <td>3900.0</td>\n",
       "      <td>6</td>\n",
       "      <td>27718.550107</td>\n",
       "    </tr>\n",
       "    <tr>\n",
       "      <th>68</th>\n",
       "      <td>Zhubei City, Hsinchu County</td>\n",
       "      <td>8 Bedroom</td>\n",
       "      <td>1350.0</td>\n",
       "      <td>3.0</td>\n",
       "      <td>2210.0</td>\n",
       "      <td>8</td>\n",
       "      <td>16370.370370</td>\n",
       "    </tr>\n",
       "    <tr>\n",
       "      <th>70</th>\n",
       "      <td>Xinfeng Township, Hsinchu County</td>\n",
       "      <td>3 Bedroom</td>\n",
       "      <td>500.0</td>\n",
       "      <td>2.0</td>\n",
       "      <td>2600.0</td>\n",
       "      <td>3</td>\n",
       "      <td>52000.000000</td>\n",
       "    </tr>\n",
       "    <tr>\n",
       "      <th>...</th>\n",
       "      <td>...</td>\n",
       "      <td>...</td>\n",
       "      <td>...</td>\n",
       "      <td>...</td>\n",
       "      <td>...</td>\n",
       "      <td>...</td>\n",
       "      <td>...</td>\n",
       "    </tr>\n",
       "    <tr>\n",
       "      <th>12973</th>\n",
       "      <td>Jiali Dist., Tainan City</td>\n",
       "      <td>9 Bedroom</td>\n",
       "      <td>1178.0</td>\n",
       "      <td>6.0</td>\n",
       "      <td>1950.0</td>\n",
       "      <td>9</td>\n",
       "      <td>16553.480475</td>\n",
       "    </tr>\n",
       "    <tr>\n",
       "      <th>13028</th>\n",
       "      <td>Namaxia Dist., Kaohsiung City</td>\n",
       "      <td>7 Bedroom</td>\n",
       "      <td>1400.0</td>\n",
       "      <td>3.0</td>\n",
       "      <td>5668.0</td>\n",
       "      <td>7</td>\n",
       "      <td>40485.714286</td>\n",
       "    </tr>\n",
       "    <tr>\n",
       "      <th>13030</th>\n",
       "      <td>Qieding Dist., Kaohsiung City</td>\n",
       "      <td>6 Bedroom</td>\n",
       "      <td>1200.0</td>\n",
       "      <td>2.0</td>\n",
       "      <td>3380.0</td>\n",
       "      <td>6</td>\n",
       "      <td>28166.666667</td>\n",
       "    </tr>\n",
       "    <tr>\n",
       "      <th>13053</th>\n",
       "      <td>Neipu Township, Pingtung County</td>\n",
       "      <td>5 Bedroom</td>\n",
       "      <td>774.0</td>\n",
       "      <td>2.0</td>\n",
       "      <td>1820.0</td>\n",
       "      <td>5</td>\n",
       "      <td>23514.211886</td>\n",
       "    </tr>\n",
       "    <tr>\n",
       "      <th>13061</th>\n",
       "      <td>Nanzhou Township, Pingtung County</td>\n",
       "      <td>7 Bedroom</td>\n",
       "      <td>1500.0</td>\n",
       "      <td>6.0</td>\n",
       "      <td>6500.0</td>\n",
       "      <td>7</td>\n",
       "      <td>43333.333333</td>\n",
       "    </tr>\n",
       "  </tbody>\n",
       "</table>\n",
       "<p>598 rows × 7 columns</p>\n",
       "</div>"
      ],
      "text/plain": [
       "                                location       size  total_sqft  bath   price  \\\n",
       "9               Neihu Dist., Taipei City  6 Bedroom      1020.0   2.0  9620.0   \n",
       "45         Linkou Dist., New Taipei City  8 Bedroom       600.0   6.0  5200.0   \n",
       "58        Sanxing Township, Yilan County  6 Bedroom      1407.0   2.0  3900.0   \n",
       "68           Zhubei City, Hsinchu County  8 Bedroom      1350.0   3.0  2210.0   \n",
       "70      Xinfeng Township, Hsinchu County  3 Bedroom       500.0   2.0  2600.0   \n",
       "...                                  ...        ...         ...   ...     ...   \n",
       "12973           Jiali Dist., Tainan City  9 Bedroom      1178.0   6.0  1950.0   \n",
       "13028      Namaxia Dist., Kaohsiung City  7 Bedroom      1400.0   3.0  5668.0   \n",
       "13030      Qieding Dist., Kaohsiung City  6 Bedroom      1200.0   2.0  3380.0   \n",
       "13053    Neipu Township, Pingtung County  5 Bedroom       774.0   2.0  1820.0   \n",
       "13061  Nanzhou Township, Pingtung County  7 Bedroom      1500.0   6.0  6500.0   \n",
       "\n",
       "       bhk  price_per_sqft  \n",
       "9        6    94313.725490  \n",
       "45       8    86666.666667  \n",
       "58       6    27718.550107  \n",
       "68       8    16370.370370  \n",
       "70       3    52000.000000  \n",
       "...    ...             ...  \n",
       "12973    9    16553.480475  \n",
       "13028    7    40485.714286  \n",
       "13030    6    28166.666667  \n",
       "13053    5    23514.211886  \n",
       "13061    7    43333.333333  \n",
       "\n",
       "[598 rows x 7 columns]"
      ]
     },
     "execution_count": 454,
     "metadata": {},
     "output_type": "execute_result"
    }
   ],
   "source": [
    "df5[df5.total_sqft/df5.bhk<250] #per knowledge, <250 is unreasonable design"
   ]
  },
  {
   "cell_type": "code",
   "execution_count": 455,
   "id": "bd59a6d2",
   "metadata": {
    "run_control": {
     "marked": true
    }
   },
   "outputs": [
    {
     "data": {
      "text/plain": [
       "(12999, 7)"
      ]
     },
     "execution_count": 455,
     "metadata": {},
     "output_type": "execute_result"
    }
   ],
   "source": [
    "df5.shape"
   ]
  },
  {
   "cell_type": "code",
   "execution_count": 456,
   "id": "70873343",
   "metadata": {
    "run_control": {
     "marked": true
    }
   },
   "outputs": [
    {
     "data": {
      "text/plain": [
       "(12401, 7)"
      ]
     },
     "execution_count": 456,
     "metadata": {},
     "output_type": "execute_result"
    }
   ],
   "source": [
    "df6 = df5[~(df5.total_sqft/df5.bhk<250)]\n",
    "df6.shape"
   ]
  },
  {
   "cell_type": "code",
   "execution_count": 457,
   "id": "56b84bb3",
   "metadata": {
    "run_control": {
     "marked": true
    }
   },
   "outputs": [
    {
     "data": {
      "text/plain": [
       "count     12355.000000\n",
       "mean      16530.957351\n",
       "std       10983.658735\n",
       "min         696.357515\n",
       "25%       10971.470600\n",
       "50%       13798.771121\n",
       "75%       18138.413082\n",
       "max      458823.529412\n",
       "Name: price_per_sqft, dtype: float64"
      ]
     },
     "execution_count": 457,
     "metadata": {},
     "output_type": "execute_result"
    }
   ],
   "source": [
    "df6.price_per_sqft.describe() #detect the extreme values"
   ]
  },
  {
   "cell_type": "code",
   "execution_count": 491,
   "id": "2f240b7e",
   "metadata": {
    "run_control": {
     "marked": true
    }
   },
   "outputs": [
    {
     "data": {
      "text/plain": [
       "(10317, 7)"
      ]
     },
     "execution_count": 491,
     "metadata": {},
     "output_type": "execute_result"
    }
   ],
   "source": [
    "# Remove price per square outliers\n",
    "def remove_pps_outliers(df):\n",
    "    df_out = pd.DataFrame()\n",
    "    for key, subdf in df.groupby('location'):\n",
    "        m = np.mean(subdf.price_per_sqft)\n",
    "        st = np.std(subdf.price_per_sqft)\n",
    "        reduced_df = subdf[(subdf.price_per_sqft>(m-st)) & (subdf.price_per_sqft<=(m+st))] #keep the mean+-standard deviation\n",
    "        df_out = pd.concat([df_out,reduced_df],ignore_index=True)\n",
    "    return df_out\n",
    "df7 = remove_pps_outliers(df6)\n",
    "df7.shape"
   ]
  },
  {
   "cell_type": "code",
   "execution_count": 492,
   "id": "03519113",
   "metadata": {
    "run_control": {
     "marked": true
    }
   },
   "outputs": [
    {
     "data": {
      "text/html": [
       "<div>\n",
       "<style scoped>\n",
       "    .dataframe tbody tr th:only-of-type {\n",
       "        vertical-align: middle;\n",
       "    }\n",
       "\n",
       "    .dataframe tbody tr th {\n",
       "        vertical-align: top;\n",
       "    }\n",
       "\n",
       "    .dataframe thead th {\n",
       "        text-align: right;\n",
       "    }\n",
       "</style>\n",
       "<table border=\"1\" class=\"dataframe\">\n",
       "  <thead>\n",
       "    <tr style=\"text-align: right;\">\n",
       "      <th></th>\n",
       "      <th>location</th>\n",
       "      <th>size</th>\n",
       "      <th>total_sqft</th>\n",
       "      <th>bath</th>\n",
       "      <th>price</th>\n",
       "      <th>bhk</th>\n",
       "      <th>price_per_sqft</th>\n",
       "    </tr>\n",
       "  </thead>\n",
       "  <tbody>\n",
       "    <tr>\n",
       "      <th>0</th>\n",
       "      <td>Alian Dist., Kaohsiung City</td>\n",
       "      <td>2 BHK</td>\n",
       "      <td>883.0</td>\n",
       "      <td>1.0</td>\n",
       "      <td>1170.0</td>\n",
       "      <td>2</td>\n",
       "      <td>13250.283126</td>\n",
       "    </tr>\n",
       "    <tr>\n",
       "      <th>1</th>\n",
       "      <td>Alian Dist., Kaohsiung City</td>\n",
       "      <td>1 BHK</td>\n",
       "      <td>750.0</td>\n",
       "      <td>1.0</td>\n",
       "      <td>1040.0</td>\n",
       "      <td>1</td>\n",
       "      <td>13866.666667</td>\n",
       "    </tr>\n",
       "    <tr>\n",
       "      <th>2</th>\n",
       "      <td>Alian Dist., Kaohsiung City</td>\n",
       "      <td>3 BHK</td>\n",
       "      <td>1100.0</td>\n",
       "      <td>2.0</td>\n",
       "      <td>1378.0</td>\n",
       "      <td>3</td>\n",
       "      <td>12527.272727</td>\n",
       "    </tr>\n",
       "    <tr>\n",
       "      <th>3</th>\n",
       "      <td>Alian Dist., Kaohsiung City</td>\n",
       "      <td>4 Bedroom</td>\n",
       "      <td>4000.0</td>\n",
       "      <td>2.0</td>\n",
       "      <td>8580.0</td>\n",
       "      <td>4</td>\n",
       "      <td>21450.000000</td>\n",
       "    </tr>\n",
       "    <tr>\n",
       "      <th>4</th>\n",
       "      <td>Alian Dist., Kaohsiung City</td>\n",
       "      <td>2 BHK</td>\n",
       "      <td>985.0</td>\n",
       "      <td>1.0</td>\n",
       "      <td>1508.0</td>\n",
       "      <td>2</td>\n",
       "      <td>15309.644670</td>\n",
       "    </tr>\n",
       "    <tr>\n",
       "      <th>...</th>\n",
       "      <td>...</td>\n",
       "      <td>...</td>\n",
       "      <td>...</td>\n",
       "      <td>...</td>\n",
       "      <td>...</td>\n",
       "      <td>...</td>\n",
       "      <td>...</td>\n",
       "    </tr>\n",
       "    <tr>\n",
       "      <th>10312</th>\n",
       "      <td>other</td>\n",
       "      <td>3 BHK</td>\n",
       "      <td>1630.0</td>\n",
       "      <td>1.0</td>\n",
       "      <td>2548.0</td>\n",
       "      <td>3</td>\n",
       "      <td>15631.901840</td>\n",
       "    </tr>\n",
       "    <tr>\n",
       "      <th>10313</th>\n",
       "      <td>other</td>\n",
       "      <td>3 BHK</td>\n",
       "      <td>1260.0</td>\n",
       "      <td>1.0</td>\n",
       "      <td>2211.3</td>\n",
       "      <td>3</td>\n",
       "      <td>17550.000000</td>\n",
       "    </tr>\n",
       "    <tr>\n",
       "      <th>10314</th>\n",
       "      <td>other</td>\n",
       "      <td>2 BHK</td>\n",
       "      <td>1160.0</td>\n",
       "      <td>1.0</td>\n",
       "      <td>1144.0</td>\n",
       "      <td>2</td>\n",
       "      <td>9862.068966</td>\n",
       "    </tr>\n",
       "    <tr>\n",
       "      <th>10315</th>\n",
       "      <td>other</td>\n",
       "      <td>3 BHK</td>\n",
       "      <td>1150.0</td>\n",
       "      <td>1.0</td>\n",
       "      <td>2015.0</td>\n",
       "      <td>3</td>\n",
       "      <td>17521.739130</td>\n",
       "    </tr>\n",
       "    <tr>\n",
       "      <th>10316</th>\n",
       "      <td>other</td>\n",
       "      <td>2 BHK</td>\n",
       "      <td>1340.0</td>\n",
       "      <td>1.0</td>\n",
       "      <td>1950.0</td>\n",
       "      <td>2</td>\n",
       "      <td>14552.238806</td>\n",
       "    </tr>\n",
       "  </tbody>\n",
       "</table>\n",
       "<p>10317 rows × 7 columns</p>\n",
       "</div>"
      ],
      "text/plain": [
       "                          location       size  total_sqft  bath   price  bhk  \\\n",
       "0      Alian Dist., Kaohsiung City      2 BHK       883.0   1.0  1170.0    2   \n",
       "1      Alian Dist., Kaohsiung City      1 BHK       750.0   1.0  1040.0    1   \n",
       "2      Alian Dist., Kaohsiung City      3 BHK      1100.0   2.0  1378.0    3   \n",
       "3      Alian Dist., Kaohsiung City  4 Bedroom      4000.0   2.0  8580.0    4   \n",
       "4      Alian Dist., Kaohsiung City      2 BHK       985.0   1.0  1508.0    2   \n",
       "...                            ...        ...         ...   ...     ...  ...   \n",
       "10312                        other      3 BHK      1630.0   1.0  2548.0    3   \n",
       "10313                        other      3 BHK      1260.0   1.0  2211.3    3   \n",
       "10314                        other      2 BHK      1160.0   1.0  1144.0    2   \n",
       "10315                        other      3 BHK      1150.0   1.0  2015.0    3   \n",
       "10316                        other      2 BHK      1340.0   1.0  1950.0    2   \n",
       "\n",
       "       price_per_sqft  \n",
       "0        13250.283126  \n",
       "1        13866.666667  \n",
       "2        12527.272727  \n",
       "3        21450.000000  \n",
       "4        15309.644670  \n",
       "...               ...  \n",
       "10312    15631.901840  \n",
       "10313    17550.000000  \n",
       "10314     9862.068966  \n",
       "10315    17521.739130  \n",
       "10316    14552.238806  \n",
       "\n",
       "[10317 rows x 7 columns]"
      ]
     },
     "execution_count": 492,
     "metadata": {},
     "output_type": "execute_result"
    }
   ],
   "source": [
    "df7"
   ]
  },
  {
   "cell_type": "code",
   "execution_count": 493,
   "id": "74c96eb6",
   "metadata": {
    "run_control": {
     "marked": true
    }
   },
   "outputs": [
    {
     "data": {
      "image/png": "[encoded data removed]",
      "text/plain": [
       "<Figure size 1080x720 with 1 Axes>"
      ]
     },
     "metadata": {
      "needs_background": "light"
     },
     "output_type": "display_data"
    }
   ],
   "source": [
    "#plot two bedroom and three bedroom apartment for df7\n",
    "def plot_scatter_chart(df,location):\n",
    "    bhk2 = df[(df.location==location) & (df.bhk==2)]\n",
    "    bhk3 = df[(df.location==location) & (df.bhk==3)]\n",
    "    matplotlib.rcParams['figure.figsize'] = (15,10)\n",
    "    plt.scatter(bhk2.total_sqft,bhk2.price, color='blue', label='2 BHK', s=50)\n",
    "    plt.scatter(bhk3.total_sqft,bhk3.price, marker='+', color = 'green', label='3 BHK', s=50)\n",
    "    plt.xlabel(\"Total Square Feet Area\")\n",
    "    plt.ylabel(\"Price Per Square Feet\")\n",
    "    plt.title(location)\n",
    "    plt.legend()\n",
    "    \n",
    "plot_scatter_chart(df7, \"Tamsui Dist., New Taipei City\")"
   ]
  },
  {
   "cell_type": "markdown",
   "id": "c6a5ef15",
   "metadata": {},
   "source": [
    "We should remove properties where for same location, the price of (for example) 3 bedroom apartment(with same square ft area) less then the 2 bedrooms apartment.  \n",
    "We can also remove those 2 BHK apartments whose price_per_sqft is less than mean price_per_sqft of 1 BHK apartment."
   ]
  },
  {
   "cell_type": "code",
   "execution_count": 496,
   "id": "09420d17",
   "metadata": {
    "run_control": {
     "marked": true
    }
   },
   "outputs": [
    {
     "data": {
      "text/plain": [
       "(8486, 7)"
      ]
     },
     "execution_count": 496,
     "metadata": {},
     "output_type": "execute_result"
    }
   ],
   "source": [
    "def remove_bhk_outliers(df):\n",
    "    exclude_indices = np.array([])\n",
    "    for location, location_df in df.groupby('location'):\n",
    "        bhk_stats = {}\n",
    "        for bhk, bhk_df in location_df.groupby('bhk'):     #we create a dictionary\n",
    "            bhk_stats[bhk] = {\n",
    "                'mean':np.mean(bhk_df.price_per_sqft),\n",
    "                'std': np.std(bhk_df.price_per_sqft),\n",
    "                'count': bhk_df.shape[0]\n",
    "            }\n",
    "        for bhk, bhk_df in location_df.groupby('bhk'):\n",
    "            stats =bhk_stats.get(bhk-1)\n",
    "            if stats and stats['count'] > 5:\n",
    "                exclude_indices = np.append(exclude_indices, bhk_df[bhk_df.price_per_sqft<(stats['mean'])].index.values\n",
    "            )\n",
    "    return df.drop(exclude_indices,axis='index')\n",
    "\n",
    "df8 = remove_bhk_outliers(df7)\n",
    "df8.shape"
   ]
  },
  {
   "cell_type": "code",
   "execution_count": 497,
   "id": "2d06d99e",
   "metadata": {
    "run_control": {
     "marked": true
    }
   },
   "outputs": [
    {
     "data": {
      "image/png": "[encoded data removed]",
      "text/plain": [
       "<Figure size 1080x720 with 1 Axes>"
      ]
     },
     "metadata": {
      "needs_background": "light"
     },
     "output_type": "display_data"
    }
   ],
   "source": [
    "plot_scatter_chart(df8, \"Tamsui Dist., New Taipei City\")"
   ]
  },
  {
   "cell_type": "code",
   "execution_count": 495,
   "id": "6aa40278",
   "metadata": {
    "run_control": {
     "marked": true
    }
   },
   "outputs": [
    {
     "data": {
      "text/plain": [
       "Text(0, 0.5, 'Count')"
      ]
     },
     "execution_count": 495,
     "metadata": {},
     "output_type": "execute_result"
    },
    {
     "data": {
      "image/png": "[encoded data removed]",
      "text/plain": [
       "<Figure size 1440x720 with 1 Axes>"
      ]
     },
     "metadata": {
      "needs_background": "light"
     },
     "output_type": "display_data"
    }
   ],
   "source": [
    "import matplotlib\n",
    "matplotlib.rcParams[\"figure.figsize\"] = (20,10)\n",
    "plt.hist(df8.price_per_sqft, rwidth=0.8)\n",
    "plt.xlabel(\"Price Per Square Feet\")\n",
    "plt.ylabel(\"Count\")"
   ]
  },
  {
   "cell_type": "markdown",
   "id": "403c65fc",
   "metadata": {},
   "source": [
    "x-axis is the Price Per Square Feet, y axis is number of data points in the category, a normal distribution like a Gaussian curve."
   ]
  },
  {
   "cell_type": "code",
   "execution_count": 498,
   "id": "4d283b4d",
   "metadata": {
    "run_control": {
     "marked": true
    }
   },
   "outputs": [
    {
     "data": {
      "text/plain": [
       "array([ 1.,  2.,  3.,  6., 14., 12.])"
      ]
     },
     "execution_count": 498,
     "metadata": {},
     "output_type": "execute_result"
    }
   ],
   "source": [
    "df8.bath.unique()   #check bathroom feature"
   ]
  },
  {
   "cell_type": "code",
   "execution_count": 500,
   "id": "a60cab7c",
   "metadata": {
    "run_control": {
     "marked": true
    }
   },
   "outputs": [
    {
     "data": {
      "text/html": [
       "<div>\n",
       "<style scoped>\n",
       "    .dataframe tbody tr th:only-of-type {\n",
       "        vertical-align: middle;\n",
       "    }\n",
       "\n",
       "    .dataframe tbody tr th {\n",
       "        vertical-align: top;\n",
       "    }\n",
       "\n",
       "    .dataframe thead th {\n",
       "        text-align: right;\n",
       "    }\n",
       "</style>\n",
       "<table border=\"1\" class=\"dataframe\">\n",
       "  <thead>\n",
       "    <tr style=\"text-align: right;\">\n",
       "      <th></th>\n",
       "      <th>location</th>\n",
       "      <th>size</th>\n",
       "      <th>total_sqft</th>\n",
       "      <th>bath</th>\n",
       "      <th>price</th>\n",
       "      <th>bhk</th>\n",
       "      <th>price_per_sqft</th>\n",
       "    </tr>\n",
       "  </thead>\n",
       "  <tbody>\n",
       "    <tr>\n",
       "      <th>2369</th>\n",
       "      <td>Gangshan Dist., Kaohsiung City</td>\n",
       "      <td>16 BHK</td>\n",
       "      <td>10000.0</td>\n",
       "      <td>14.0</td>\n",
       "      <td>14300.0</td>\n",
       "      <td>16</td>\n",
       "      <td>14300.000000</td>\n",
       "    </tr>\n",
       "    <tr>\n",
       "      <th>6374</th>\n",
       "      <td>Shanlin Dist., Kaohsiung City</td>\n",
       "      <td>13 BHK</td>\n",
       "      <td>5425.0</td>\n",
       "      <td>12.0</td>\n",
       "      <td>7150.0</td>\n",
       "      <td>13</td>\n",
       "      <td>13179.723502</td>\n",
       "    </tr>\n",
       "    <tr>\n",
       "      <th>7534</th>\n",
       "      <td>Touwu Township, Miaoli County</td>\n",
       "      <td>10 BHK</td>\n",
       "      <td>4000.0</td>\n",
       "      <td>12.0</td>\n",
       "      <td>4160.0</td>\n",
       "      <td>10</td>\n",
       "      <td>10400.000000</td>\n",
       "    </tr>\n",
       "    <tr>\n",
       "      <th>8632</th>\n",
       "      <td>Xinshe Dist., Taichung City</td>\n",
       "      <td>10 BHK</td>\n",
       "      <td>12000.0</td>\n",
       "      <td>12.0</td>\n",
       "      <td>13650.0</td>\n",
       "      <td>10</td>\n",
       "      <td>11375.000000</td>\n",
       "    </tr>\n",
       "  </tbody>\n",
       "</table>\n",
       "</div>"
      ],
      "text/plain": [
       "                            location    size  total_sqft  bath    price  bhk  \\\n",
       "2369  Gangshan Dist., Kaohsiung City  16 BHK     10000.0  14.0  14300.0   16   \n",
       "6374   Shanlin Dist., Kaohsiung City  13 BHK      5425.0  12.0   7150.0   13   \n",
       "7534   Touwu Township, Miaoli County  10 BHK      4000.0  12.0   4160.0   10   \n",
       "8632     Xinshe Dist., Taichung City  10 BHK     12000.0  12.0  13650.0   10   \n",
       "\n",
       "      price_per_sqft  \n",
       "2369    14300.000000  \n",
       "6374    13179.723502  \n",
       "7534    10400.000000  \n",
       "8632    11375.000000  "
      ]
     },
     "execution_count": 500,
     "metadata": {},
     "output_type": "execute_result"
    }
   ],
   "source": [
    "df8[df8.bath>10]    #extreme values"
   ]
  },
  {
   "cell_type": "code",
   "execution_count": 501,
   "id": "85695c7a",
   "metadata": {
    "run_control": {
     "marked": true
    }
   },
   "outputs": [
    {
     "data": {
      "text/plain": [
       "Text(0, 0.5, 'Count')"
      ]
     },
     "execution_count": 501,
     "metadata": {},
     "output_type": "execute_result"
    },
    {
     "data": {
      "image/png": "[encoded data removed]",
      "text/plain": [
       "<Figure size 1080x720 with 1 Axes>"
      ]
     },
     "metadata": {
      "needs_background": "light"
     },
     "output_type": "display_data"
    }
   ],
   "source": [
    "plt.hist(df8.bath, rwidth=0.8)\n",
    "plt.xlabel(\"Number of bathrooms\")\n",
    "plt.ylabel(\"Count\")"
   ]
  },
  {
   "cell_type": "code",
   "execution_count": 502,
   "id": "abd57e29",
   "metadata": {
    "run_control": {
     "marked": true
    }
   },
   "outputs": [
    {
     "data": {
      "text/html": [
       "<div>\n",
       "<style scoped>\n",
       "    .dataframe tbody tr th:only-of-type {\n",
       "        vertical-align: middle;\n",
       "    }\n",
       "\n",
       "    .dataframe tbody tr th {\n",
       "        vertical-align: top;\n",
       "    }\n",
       "\n",
       "    .dataframe thead th {\n",
       "        text-align: right;\n",
       "    }\n",
       "</style>\n",
       "<table border=\"1\" class=\"dataframe\">\n",
       "  <thead>\n",
       "    <tr style=\"text-align: right;\">\n",
       "      <th></th>\n",
       "      <th>location</th>\n",
       "      <th>size</th>\n",
       "      <th>total_sqft</th>\n",
       "      <th>bath</th>\n",
       "      <th>price</th>\n",
       "      <th>bhk</th>\n",
       "      <th>price_per_sqft</th>\n",
       "    </tr>\n",
       "  </thead>\n",
       "  <tbody>\n",
       "  </tbody>\n",
       "</table>\n",
       "</div>"
      ],
      "text/plain": [
       "Empty DataFrame\n",
       "Columns: [location, size, total_sqft, bath, price, bhk, price_per_sqft]\n",
       "Index: []"
      ]
     },
     "execution_count": 502,
     "metadata": {},
     "output_type": "execute_result"
    }
   ],
   "source": [
    "df8[df8.bath>df8.bhk+2]  #we try to find out the bathroom outliers"
   ]
  },
  {
   "cell_type": "code",
   "execution_count": 503,
   "id": "1168bcc4",
   "metadata": {
    "run_control": {
     "marked": true
    }
   },
   "outputs": [
    {
     "data": {
      "text/plain": [
       "(8484, 7)"
      ]
     },
     "execution_count": 503,
     "metadata": {},
     "output_type": "execute_result"
    }
   ],
   "source": [
    "df9 = df8[df8.bath<df8.bhk+2]\n",
    "df9.shape"
   ]
  },
  {
   "cell_type": "code",
   "execution_count": 504,
   "id": "17b650b2",
   "metadata": {
    "run_control": {
     "marked": true
    }
   },
   "outputs": [
    {
     "data": {
      "text/html": [
       "<div>\n",
       "<style scoped>\n",
       "    .dataframe tbody tr th:only-of-type {\n",
       "        vertical-align: middle;\n",
       "    }\n",
       "\n",
       "    .dataframe tbody tr th {\n",
       "        vertical-align: top;\n",
       "    }\n",
       "\n",
       "    .dataframe thead th {\n",
       "        text-align: right;\n",
       "    }\n",
       "</style>\n",
       "<table border=\"1\" class=\"dataframe\">\n",
       "  <thead>\n",
       "    <tr style=\"text-align: right;\">\n",
       "      <th></th>\n",
       "      <th>location</th>\n",
       "      <th>total_sqft</th>\n",
       "      <th>bath</th>\n",
       "      <th>price</th>\n",
       "      <th>bhk</th>\n",
       "    </tr>\n",
       "  </thead>\n",
       "  <tbody>\n",
       "    <tr>\n",
       "      <th>0</th>\n",
       "      <td>Alian Dist., Kaohsiung City</td>\n",
       "      <td>883.0</td>\n",
       "      <td>1.0</td>\n",
       "      <td>1170.0</td>\n",
       "      <td>2</td>\n",
       "    </tr>\n",
       "    <tr>\n",
       "      <th>1</th>\n",
       "      <td>Alian Dist., Kaohsiung City</td>\n",
       "      <td>750.0</td>\n",
       "      <td>1.0</td>\n",
       "      <td>1040.0</td>\n",
       "      <td>1</td>\n",
       "    </tr>\n",
       "    <tr>\n",
       "      <th>2</th>\n",
       "      <td>Alian Dist., Kaohsiung City</td>\n",
       "      <td>1100.0</td>\n",
       "      <td>2.0</td>\n",
       "      <td>1378.0</td>\n",
       "      <td>3</td>\n",
       "    </tr>\n",
       "    <tr>\n",
       "      <th>3</th>\n",
       "      <td>Alian Dist., Kaohsiung City</td>\n",
       "      <td>4000.0</td>\n",
       "      <td>2.0</td>\n",
       "      <td>8580.0</td>\n",
       "      <td>4</td>\n",
       "    </tr>\n",
       "    <tr>\n",
       "      <th>4</th>\n",
       "      <td>Alian Dist., Kaohsiung City</td>\n",
       "      <td>985.0</td>\n",
       "      <td>1.0</td>\n",
       "      <td>1508.0</td>\n",
       "      <td>2</td>\n",
       "    </tr>\n",
       "  </tbody>\n",
       "</table>\n",
       "</div>"
      ],
      "text/plain": [
       "                      location  total_sqft  bath   price  bhk\n",
       "0  Alian Dist., Kaohsiung City       883.0   1.0  1170.0    2\n",
       "1  Alian Dist., Kaohsiung City       750.0   1.0  1040.0    1\n",
       "2  Alian Dist., Kaohsiung City      1100.0   2.0  1378.0    3\n",
       "3  Alian Dist., Kaohsiung City      4000.0   2.0  8580.0    4\n",
       "4  Alian Dist., Kaohsiung City       985.0   1.0  1508.0    2"
      ]
     },
     "execution_count": 504,
     "metadata": {},
     "output_type": "execute_result"
    }
   ],
   "source": [
    "# Before starting to train the model, the size and price_per_sqft are unnecessary(we already have bhk feature)\n",
    "df10 = df9.drop(['size','price_per_sqft'],axis='columns')   # price_per_sqft just for detecting the outliers, no other function)\n",
    "df10.head()"
   ]
  },
  {
   "cell_type": "markdown",
   "id": "333e0ceb",
   "metadata": {},
   "source": [
    "### Creating Machine Learning Model"
   ]
  },
  {
   "cell_type": "code",
   "execution_count": 506,
   "id": "96170765",
   "metadata": {
    "run_control": {
     "marked": true
    }
   },
   "outputs": [
    {
     "data": {
      "text/html": [
       "<div>\n",
       "<style scoped>\n",
       "    .dataframe tbody tr th:only-of-type {\n",
       "        vertical-align: middle;\n",
       "    }\n",
       "\n",
       "    .dataframe tbody tr th {\n",
       "        vertical-align: top;\n",
       "    }\n",
       "\n",
       "    .dataframe thead th {\n",
       "        text-align: right;\n",
       "    }\n",
       "</style>\n",
       "<table border=\"1\" class=\"dataframe\">\n",
       "  <thead>\n",
       "    <tr style=\"text-align: right;\">\n",
       "      <th></th>\n",
       "      <th>Alian Dist., Kaohsiung City</th>\n",
       "      <th>Alishan Township, Chiayi County</th>\n",
       "      <th>Anding Dist., Tainan City</th>\n",
       "      <th>Anle Dist., Keelung City</th>\n",
       "      <th>Annan Dist., Tainan City</th>\n",
       "      <th>Anping Dist., Tainan City</th>\n",
       "      <th>Bade Dist., Taoyuan City</th>\n",
       "      <th>Baihe Dist., Tainan City</th>\n",
       "      <th>Baisha Township, Penghu County</th>\n",
       "      <th>Bali Dist., New Taipei City</th>\n",
       "      <th>...</th>\n",
       "      <th>Zhuolan Township, Miaoli County</th>\n",
       "      <th>Zhuoxi Township, Hualien County</th>\n",
       "      <th>Zhuqi Township, Chiayi County</th>\n",
       "      <th>Zhushan Township, Nantou County</th>\n",
       "      <th>Zhutang Township, Changhua County</th>\n",
       "      <th>Zhutian Township, Pingtung County</th>\n",
       "      <th>Ziguan Dist., Kaohsiung City</th>\n",
       "      <th>Zuoying Dist., Kaohsiung City</th>\n",
       "      <th>Zuozhen Dist., Tainan City</th>\n",
       "      <th>other</th>\n",
       "    </tr>\n",
       "  </thead>\n",
       "  <tbody>\n",
       "    <tr>\n",
       "      <th>0</th>\n",
       "      <td>1</td>\n",
       "      <td>0</td>\n",
       "      <td>0</td>\n",
       "      <td>0</td>\n",
       "      <td>0</td>\n",
       "      <td>0</td>\n",
       "      <td>0</td>\n",
       "      <td>0</td>\n",
       "      <td>0</td>\n",
       "      <td>0</td>\n",
       "      <td>...</td>\n",
       "      <td>0</td>\n",
       "      <td>0</td>\n",
       "      <td>0</td>\n",
       "      <td>0</td>\n",
       "      <td>0</td>\n",
       "      <td>0</td>\n",
       "      <td>0</td>\n",
       "      <td>0</td>\n",
       "      <td>0</td>\n",
       "      <td>0</td>\n",
       "    </tr>\n",
       "    <tr>\n",
       "      <th>1</th>\n",
       "      <td>1</td>\n",
       "      <td>0</td>\n",
       "      <td>0</td>\n",
       "      <td>0</td>\n",
       "      <td>0</td>\n",
       "      <td>0</td>\n",
       "      <td>0</td>\n",
       "      <td>0</td>\n",
       "      <td>0</td>\n",
       "      <td>0</td>\n",
       "      <td>...</td>\n",
       "      <td>0</td>\n",
       "      <td>0</td>\n",
       "      <td>0</td>\n",
       "      <td>0</td>\n",
       "      <td>0</td>\n",
       "      <td>0</td>\n",
       "      <td>0</td>\n",
       "      <td>0</td>\n",
       "      <td>0</td>\n",
       "      <td>0</td>\n",
       "    </tr>\n",
       "    <tr>\n",
       "      <th>2</th>\n",
       "      <td>1</td>\n",
       "      <td>0</td>\n",
       "      <td>0</td>\n",
       "      <td>0</td>\n",
       "      <td>0</td>\n",
       "      <td>0</td>\n",
       "      <td>0</td>\n",
       "      <td>0</td>\n",
       "      <td>0</td>\n",
       "      <td>0</td>\n",
       "      <td>...</td>\n",
       "      <td>0</td>\n",
       "      <td>0</td>\n",
       "      <td>0</td>\n",
       "      <td>0</td>\n",
       "      <td>0</td>\n",
       "      <td>0</td>\n",
       "      <td>0</td>\n",
       "      <td>0</td>\n",
       "      <td>0</td>\n",
       "      <td>0</td>\n",
       "    </tr>\n",
       "    <tr>\n",
       "      <th>3</th>\n",
       "      <td>1</td>\n",
       "      <td>0</td>\n",
       "      <td>0</td>\n",
       "      <td>0</td>\n",
       "      <td>0</td>\n",
       "      <td>0</td>\n",
       "      <td>0</td>\n",
       "      <td>0</td>\n",
       "      <td>0</td>\n",
       "      <td>0</td>\n",
       "      <td>...</td>\n",
       "      <td>0</td>\n",
       "      <td>0</td>\n",
       "      <td>0</td>\n",
       "      <td>0</td>\n",
       "      <td>0</td>\n",
       "      <td>0</td>\n",
       "      <td>0</td>\n",
       "      <td>0</td>\n",
       "      <td>0</td>\n",
       "      <td>0</td>\n",
       "    </tr>\n",
       "    <tr>\n",
       "      <th>4</th>\n",
       "      <td>1</td>\n",
       "      <td>0</td>\n",
       "      <td>0</td>\n",
       "      <td>0</td>\n",
       "      <td>0</td>\n",
       "      <td>0</td>\n",
       "      <td>0</td>\n",
       "      <td>0</td>\n",
       "      <td>0</td>\n",
       "      <td>0</td>\n",
       "      <td>...</td>\n",
       "      <td>0</td>\n",
       "      <td>0</td>\n",
       "      <td>0</td>\n",
       "      <td>0</td>\n",
       "      <td>0</td>\n",
       "      <td>0</td>\n",
       "      <td>0</td>\n",
       "      <td>0</td>\n",
       "      <td>0</td>\n",
       "      <td>0</td>\n",
       "    </tr>\n",
       "  </tbody>\n",
       "</table>\n",
       "<p>5 rows × 361 columns</p>\n",
       "</div>"
      ],
      "text/plain": [
       "   Alian Dist., Kaohsiung City  Alishan Township, Chiayi County  \\\n",
       "0                            1                                0   \n",
       "1                            1                                0   \n",
       "2                            1                                0   \n",
       "3                            1                                0   \n",
       "4                            1                                0   \n",
       "\n",
       "   Anding Dist., Tainan City  Anle Dist., Keelung City  \\\n",
       "0                          0                         0   \n",
       "1                          0                         0   \n",
       "2                          0                         0   \n",
       "3                          0                         0   \n",
       "4                          0                         0   \n",
       "\n",
       "   Annan Dist., Tainan City  Anping Dist., Tainan City  \\\n",
       "0                         0                          0   \n",
       "1                         0                          0   \n",
       "2                         0                          0   \n",
       "3                         0                          0   \n",
       "4                         0                          0   \n",
       "\n",
       "   Bade Dist., Taoyuan City  Baihe Dist., Tainan City  \\\n",
       "0                         0                         0   \n",
       "1                         0                         0   \n",
       "2                         0                         0   \n",
       "3                         0                         0   \n",
       "4                         0                         0   \n",
       "\n",
       "   Baisha Township, Penghu County  Bali Dist., New Taipei City  ...  \\\n",
       "0                               0                            0  ...   \n",
       "1                               0                            0  ...   \n",
       "2                               0                            0  ...   \n",
       "3                               0                            0  ...   \n",
       "4                               0                            0  ...   \n",
       "\n",
       "   Zhuolan Township, Miaoli County  Zhuoxi Township, Hualien County  \\\n",
       "0                                0                                0   \n",
       "1                                0                                0   \n",
       "2                                0                                0   \n",
       "3                                0                                0   \n",
       "4                                0                                0   \n",
       "\n",
       "   Zhuqi Township, Chiayi County  Zhushan Township, Nantou County  \\\n",
       "0                              0                                0   \n",
       "1                              0                                0   \n",
       "2                              0                                0   \n",
       "3                              0                                0   \n",
       "4                              0                                0   \n",
       "\n",
       "   Zhutang Township, Changhua County  Zhutian Township, Pingtung County  \\\n",
       "0                                  0                                  0   \n",
       "1                                  0                                  0   \n",
       "2                                  0                                  0   \n",
       "3                                  0                                  0   \n",
       "4                                  0                                  0   \n",
       "\n",
       "   Ziguan Dist., Kaohsiung City  Zuoying Dist., Kaohsiung City  \\\n",
       "0                             0                              0   \n",
       "1                             0                              0   \n",
       "2                             0                              0   \n",
       "3                             0                              0   \n",
       "4                             0                              0   \n",
       "\n",
       "   Zuozhen Dist., Tainan City  other  \n",
       "0                           0      0  \n",
       "1                           0      0  \n",
       "2                           0      0  \n",
       "3                           0      0  \n",
       "4                           0      0  \n",
       "\n",
       "[5 rows x 361 columns]"
      ]
     },
     "execution_count": 506,
     "metadata": {},
     "output_type": "execute_result"
    }
   ],
   "source": [
    "# Use one-hot encoding to transform categorial text information into numerical information\n",
    "dummies = pd.get_dummies(df10.location)\n",
    "dummies.head()"
   ]
  },
  {
   "cell_type": "code",
   "execution_count": 508,
   "id": "6c9d6173",
   "metadata": {
    "run_control": {
     "marked": true
    }
   },
   "outputs": [
    {
     "data": {
      "text/html": [
       "<div>\n",
       "<style scoped>\n",
       "    .dataframe tbody tr th:only-of-type {\n",
       "        vertical-align: middle;\n",
       "    }\n",
       "\n",
       "    .dataframe tbody tr th {\n",
       "        vertical-align: top;\n",
       "    }\n",
       "\n",
       "    .dataframe thead th {\n",
       "        text-align: right;\n",
       "    }\n",
       "</style>\n",
       "<table border=\"1\" class=\"dataframe\">\n",
       "  <thead>\n",
       "    <tr style=\"text-align: right;\">\n",
       "      <th></th>\n",
       "      <th>location</th>\n",
       "      <th>total_sqft</th>\n",
       "      <th>bath</th>\n",
       "      <th>price</th>\n",
       "      <th>bhk</th>\n",
       "      <th>Alian Dist., Kaohsiung City</th>\n",
       "      <th>Alishan Township, Chiayi County</th>\n",
       "      <th>Anding Dist., Tainan City</th>\n",
       "      <th>Anle Dist., Keelung City</th>\n",
       "      <th>Annan Dist., Tainan City</th>\n",
       "      <th>...</th>\n",
       "      <th>Zhuolan Township, Miaoli County</th>\n",
       "      <th>Zhuoxi Township, Hualien County</th>\n",
       "      <th>Zhuqi Township, Chiayi County</th>\n",
       "      <th>Zhushan Township, Nantou County</th>\n",
       "      <th>Zhutang Township, Changhua County</th>\n",
       "      <th>Zhutian Township, Pingtung County</th>\n",
       "      <th>Ziguan Dist., Kaohsiung City</th>\n",
       "      <th>Zuoying Dist., Kaohsiung City</th>\n",
       "      <th>Zuozhen Dist., Tainan City</th>\n",
       "      <th>other</th>\n",
       "    </tr>\n",
       "  </thead>\n",
       "  <tbody>\n",
       "    <tr>\n",
       "      <th>0</th>\n",
       "      <td>Alian Dist., Kaohsiung City</td>\n",
       "      <td>883.0</td>\n",
       "      <td>1.0</td>\n",
       "      <td>1170.0</td>\n",
       "      <td>2</td>\n",
       "      <td>1</td>\n",
       "      <td>0</td>\n",
       "      <td>0</td>\n",
       "      <td>0</td>\n",
       "      <td>0</td>\n",
       "      <td>...</td>\n",
       "      <td>0</td>\n",
       "      <td>0</td>\n",
       "      <td>0</td>\n",
       "      <td>0</td>\n",
       "      <td>0</td>\n",
       "      <td>0</td>\n",
       "      <td>0</td>\n",
       "      <td>0</td>\n",
       "      <td>0</td>\n",
       "      <td>0</td>\n",
       "    </tr>\n",
       "    <tr>\n",
       "      <th>1</th>\n",
       "      <td>Alian Dist., Kaohsiung City</td>\n",
       "      <td>750.0</td>\n",
       "      <td>1.0</td>\n",
       "      <td>1040.0</td>\n",
       "      <td>1</td>\n",
       "      <td>1</td>\n",
       "      <td>0</td>\n",
       "      <td>0</td>\n",
       "      <td>0</td>\n",
       "      <td>0</td>\n",
       "      <td>...</td>\n",
       "      <td>0</td>\n",
       "      <td>0</td>\n",
       "      <td>0</td>\n",
       "      <td>0</td>\n",
       "      <td>0</td>\n",
       "      <td>0</td>\n",
       "      <td>0</td>\n",
       "      <td>0</td>\n",
       "      <td>0</td>\n",
       "      <td>0</td>\n",
       "    </tr>\n",
       "    <tr>\n",
       "      <th>2</th>\n",
       "      <td>Alian Dist., Kaohsiung City</td>\n",
       "      <td>1100.0</td>\n",
       "      <td>2.0</td>\n",
       "      <td>1378.0</td>\n",
       "      <td>3</td>\n",
       "      <td>1</td>\n",
       "      <td>0</td>\n",
       "      <td>0</td>\n",
       "      <td>0</td>\n",
       "      <td>0</td>\n",
       "      <td>...</td>\n",
       "      <td>0</td>\n",
       "      <td>0</td>\n",
       "      <td>0</td>\n",
       "      <td>0</td>\n",
       "      <td>0</td>\n",
       "      <td>0</td>\n",
       "      <td>0</td>\n",
       "      <td>0</td>\n",
       "      <td>0</td>\n",
       "      <td>0</td>\n",
       "    </tr>\n",
       "    <tr>\n",
       "      <th>3</th>\n",
       "      <td>Alian Dist., Kaohsiung City</td>\n",
       "      <td>4000.0</td>\n",
       "      <td>2.0</td>\n",
       "      <td>8580.0</td>\n",
       "      <td>4</td>\n",
       "      <td>1</td>\n",
       "      <td>0</td>\n",
       "      <td>0</td>\n",
       "      <td>0</td>\n",
       "      <td>0</td>\n",
       "      <td>...</td>\n",
       "      <td>0</td>\n",
       "      <td>0</td>\n",
       "      <td>0</td>\n",
       "      <td>0</td>\n",
       "      <td>0</td>\n",
       "      <td>0</td>\n",
       "      <td>0</td>\n",
       "      <td>0</td>\n",
       "      <td>0</td>\n",
       "      <td>0</td>\n",
       "    </tr>\n",
       "    <tr>\n",
       "      <th>4</th>\n",
       "      <td>Alian Dist., Kaohsiung City</td>\n",
       "      <td>985.0</td>\n",
       "      <td>1.0</td>\n",
       "      <td>1508.0</td>\n",
       "      <td>2</td>\n",
       "      <td>1</td>\n",
       "      <td>0</td>\n",
       "      <td>0</td>\n",
       "      <td>0</td>\n",
       "      <td>0</td>\n",
       "      <td>...</td>\n",
       "      <td>0</td>\n",
       "      <td>0</td>\n",
       "      <td>0</td>\n",
       "      <td>0</td>\n",
       "      <td>0</td>\n",
       "      <td>0</td>\n",
       "      <td>0</td>\n",
       "      <td>0</td>\n",
       "      <td>0</td>\n",
       "      <td>0</td>\n",
       "    </tr>\n",
       "  </tbody>\n",
       "</table>\n",
       "<p>5 rows × 366 columns</p>\n",
       "</div>"
      ],
      "text/plain": [
       "                      location  total_sqft  bath   price  bhk  \\\n",
       "0  Alian Dist., Kaohsiung City       883.0   1.0  1170.0    2   \n",
       "1  Alian Dist., Kaohsiung City       750.0   1.0  1040.0    1   \n",
       "2  Alian Dist., Kaohsiung City      1100.0   2.0  1378.0    3   \n",
       "3  Alian Dist., Kaohsiung City      4000.0   2.0  8580.0    4   \n",
       "4  Alian Dist., Kaohsiung City       985.0   1.0  1508.0    2   \n",
       "\n",
       "   Alian Dist., Kaohsiung City  Alishan Township, Chiayi County  \\\n",
       "0                            1                                0   \n",
       "1                            1                                0   \n",
       "2                            1                                0   \n",
       "3                            1                                0   \n",
       "4                            1                                0   \n",
       "\n",
       "   Anding Dist., Tainan City  Anle Dist., Keelung City  \\\n",
       "0                          0                         0   \n",
       "1                          0                         0   \n",
       "2                          0                         0   \n",
       "3                          0                         0   \n",
       "4                          0                         0   \n",
       "\n",
       "   Annan Dist., Tainan City  ...  Zhuolan Township, Miaoli County  \\\n",
       "0                         0  ...                                0   \n",
       "1                         0  ...                                0   \n",
       "2                         0  ...                                0   \n",
       "3                         0  ...                                0   \n",
       "4                         0  ...                                0   \n",
       "\n",
       "   Zhuoxi Township, Hualien County  Zhuqi Township, Chiayi County  \\\n",
       "0                                0                              0   \n",
       "1                                0                              0   \n",
       "2                                0                              0   \n",
       "3                                0                              0   \n",
       "4                                0                              0   \n",
       "\n",
       "   Zhushan Township, Nantou County  Zhutang Township, Changhua County  \\\n",
       "0                                0                                  0   \n",
       "1                                0                                  0   \n",
       "2                                0                                  0   \n",
       "3                                0                                  0   \n",
       "4                                0                                  0   \n",
       "\n",
       "   Zhutian Township, Pingtung County  Ziguan Dist., Kaohsiung City  \\\n",
       "0                                  0                             0   \n",
       "1                                  0                             0   \n",
       "2                                  0                             0   \n",
       "3                                  0                             0   \n",
       "4                                  0                             0   \n",
       "\n",
       "   Zuoying Dist., Kaohsiung City  Zuozhen Dist., Tainan City  other  \n",
       "0                              0                           0      0  \n",
       "1                              0                           0      0  \n",
       "2                              0                           0      0  \n",
       "3                              0                           0      0  \n",
       "4                              0                           0      0  \n",
       "\n",
       "[5 rows x 366 columns]"
      ]
     },
     "execution_count": 508,
     "metadata": {},
     "output_type": "execute_result"
    }
   ],
   "source": [
    "df11 = pd.concat([df10,dummies],axis='columns')  #concatenate two dataframes: df11 and dummies\n",
    "df11.head()"
   ]
  },
  {
   "cell_type": "code",
   "execution_count": 509,
   "id": "4c1ac128",
   "metadata": {
    "run_control": {
     "marked": true
    }
   },
   "outputs": [
    {
     "data": {
      "text/html": [
       "<div>\n",
       "<style scoped>\n",
       "    .dataframe tbody tr th:only-of-type {\n",
       "        vertical-align: middle;\n",
       "    }\n",
       "\n",
       "    .dataframe tbody tr th {\n",
       "        vertical-align: top;\n",
       "    }\n",
       "\n",
       "    .dataframe thead th {\n",
       "        text-align: right;\n",
       "    }\n",
       "</style>\n",
       "<table border=\"1\" class=\"dataframe\">\n",
       "  <thead>\n",
       "    <tr style=\"text-align: right;\">\n",
       "      <th></th>\n",
       "      <th>total_sqft</th>\n",
       "      <th>bath</th>\n",
       "      <th>price</th>\n",
       "      <th>bhk</th>\n",
       "      <th>Alian Dist., Kaohsiung City</th>\n",
       "      <th>Alishan Township, Chiayi County</th>\n",
       "      <th>Anding Dist., Tainan City</th>\n",
       "      <th>Anle Dist., Keelung City</th>\n",
       "      <th>Annan Dist., Tainan City</th>\n",
       "      <th>Anping Dist., Tainan City</th>\n",
       "      <th>...</th>\n",
       "      <th>Zhuolan Township, Miaoli County</th>\n",
       "      <th>Zhuoxi Township, Hualien County</th>\n",
       "      <th>Zhuqi Township, Chiayi County</th>\n",
       "      <th>Zhushan Township, Nantou County</th>\n",
       "      <th>Zhutang Township, Changhua County</th>\n",
       "      <th>Zhutian Township, Pingtung County</th>\n",
       "      <th>Ziguan Dist., Kaohsiung City</th>\n",
       "      <th>Zuoying Dist., Kaohsiung City</th>\n",
       "      <th>Zuozhen Dist., Tainan City</th>\n",
       "      <th>other</th>\n",
       "    </tr>\n",
       "  </thead>\n",
       "  <tbody>\n",
       "    <tr>\n",
       "      <th>0</th>\n",
       "      <td>883.0</td>\n",
       "      <td>1.0</td>\n",
       "      <td>1170.0</td>\n",
       "      <td>2</td>\n",
       "      <td>1</td>\n",
       "      <td>0</td>\n",
       "      <td>0</td>\n",
       "      <td>0</td>\n",
       "      <td>0</td>\n",
       "      <td>0</td>\n",
       "      <td>...</td>\n",
       "      <td>0</td>\n",
       "      <td>0</td>\n",
       "      <td>0</td>\n",
       "      <td>0</td>\n",
       "      <td>0</td>\n",
       "      <td>0</td>\n",
       "      <td>0</td>\n",
       "      <td>0</td>\n",
       "      <td>0</td>\n",
       "      <td>0</td>\n",
       "    </tr>\n",
       "    <tr>\n",
       "      <th>1</th>\n",
       "      <td>750.0</td>\n",
       "      <td>1.0</td>\n",
       "      <td>1040.0</td>\n",
       "      <td>1</td>\n",
       "      <td>1</td>\n",
       "      <td>0</td>\n",
       "      <td>0</td>\n",
       "      <td>0</td>\n",
       "      <td>0</td>\n",
       "      <td>0</td>\n",
       "      <td>...</td>\n",
       "      <td>0</td>\n",
       "      <td>0</td>\n",
       "      <td>0</td>\n",
       "      <td>0</td>\n",
       "      <td>0</td>\n",
       "      <td>0</td>\n",
       "      <td>0</td>\n",
       "      <td>0</td>\n",
       "      <td>0</td>\n",
       "      <td>0</td>\n",
       "    </tr>\n",
       "    <tr>\n",
       "      <th>2</th>\n",
       "      <td>1100.0</td>\n",
       "      <td>2.0</td>\n",
       "      <td>1378.0</td>\n",
       "      <td>3</td>\n",
       "      <td>1</td>\n",
       "      <td>0</td>\n",
       "      <td>0</td>\n",
       "      <td>0</td>\n",
       "      <td>0</td>\n",
       "      <td>0</td>\n",
       "      <td>...</td>\n",
       "      <td>0</td>\n",
       "      <td>0</td>\n",
       "      <td>0</td>\n",
       "      <td>0</td>\n",
       "      <td>0</td>\n",
       "      <td>0</td>\n",
       "      <td>0</td>\n",
       "      <td>0</td>\n",
       "      <td>0</td>\n",
       "      <td>0</td>\n",
       "    </tr>\n",
       "    <tr>\n",
       "      <th>3</th>\n",
       "      <td>4000.0</td>\n",
       "      <td>2.0</td>\n",
       "      <td>8580.0</td>\n",
       "      <td>4</td>\n",
       "      <td>1</td>\n",
       "      <td>0</td>\n",
       "      <td>0</td>\n",
       "      <td>0</td>\n",
       "      <td>0</td>\n",
       "      <td>0</td>\n",
       "      <td>...</td>\n",
       "      <td>0</td>\n",
       "      <td>0</td>\n",
       "      <td>0</td>\n",
       "      <td>0</td>\n",
       "      <td>0</td>\n",
       "      <td>0</td>\n",
       "      <td>0</td>\n",
       "      <td>0</td>\n",
       "      <td>0</td>\n",
       "      <td>0</td>\n",
       "    </tr>\n",
       "    <tr>\n",
       "      <th>4</th>\n",
       "      <td>985.0</td>\n",
       "      <td>1.0</td>\n",
       "      <td>1508.0</td>\n",
       "      <td>2</td>\n",
       "      <td>1</td>\n",
       "      <td>0</td>\n",
       "      <td>0</td>\n",
       "      <td>0</td>\n",
       "      <td>0</td>\n",
       "      <td>0</td>\n",
       "      <td>...</td>\n",
       "      <td>0</td>\n",
       "      <td>0</td>\n",
       "      <td>0</td>\n",
       "      <td>0</td>\n",
       "      <td>0</td>\n",
       "      <td>0</td>\n",
       "      <td>0</td>\n",
       "      <td>0</td>\n",
       "      <td>0</td>\n",
       "      <td>0</td>\n",
       "    </tr>\n",
       "  </tbody>\n",
       "</table>\n",
       "<p>5 rows × 365 columns</p>\n",
       "</div>"
      ],
      "text/plain": [
       "   total_sqft  bath   price  bhk  Alian Dist., Kaohsiung City  \\\n",
       "0       883.0   1.0  1170.0    2                            1   \n",
       "1       750.0   1.0  1040.0    1                            1   \n",
       "2      1100.0   2.0  1378.0    3                            1   \n",
       "3      4000.0   2.0  8580.0    4                            1   \n",
       "4       985.0   1.0  1508.0    2                            1   \n",
       "\n",
       "   Alishan Township, Chiayi County  Anding Dist., Tainan City  \\\n",
       "0                                0                          0   \n",
       "1                                0                          0   \n",
       "2                                0                          0   \n",
       "3                                0                          0   \n",
       "4                                0                          0   \n",
       "\n",
       "   Anle Dist., Keelung City  Annan Dist., Tainan City  \\\n",
       "0                         0                         0   \n",
       "1                         0                         0   \n",
       "2                         0                         0   \n",
       "3                         0                         0   \n",
       "4                         0                         0   \n",
       "\n",
       "   Anping Dist., Tainan City  ...  Zhuolan Township, Miaoli County  \\\n",
       "0                          0  ...                                0   \n",
       "1                          0  ...                                0   \n",
       "2                          0  ...                                0   \n",
       "3                          0  ...                                0   \n",
       "4                          0  ...                                0   \n",
       "\n",
       "   Zhuoxi Township, Hualien County  Zhuqi Township, Chiayi County  \\\n",
       "0                                0                              0   \n",
       "1                                0                              0   \n",
       "2                                0                              0   \n",
       "3                                0                              0   \n",
       "4                                0                              0   \n",
       "\n",
       "   Zhushan Township, Nantou County  Zhutang Township, Changhua County  \\\n",
       "0                                0                                  0   \n",
       "1                                0                                  0   \n",
       "2                                0                                  0   \n",
       "3                                0                                  0   \n",
       "4                                0                                  0   \n",
       "\n",
       "   Zhutian Township, Pingtung County  Ziguan Dist., Kaohsiung City  \\\n",
       "0                                  0                             0   \n",
       "1                                  0                             0   \n",
       "2                                  0                             0   \n",
       "3                                  0                             0   \n",
       "4                                  0                             0   \n",
       "\n",
       "   Zuoying Dist., Kaohsiung City  Zuozhen Dist., Tainan City  other  \n",
       "0                              0                           0      0  \n",
       "1                              0                           0      0  \n",
       "2                              0                           0      0  \n",
       "3                              0                           0      0  \n",
       "4                              0                           0      0  \n",
       "\n",
       "[5 rows x 365 columns]"
      ]
     },
     "execution_count": 509,
     "metadata": {},
     "output_type": "execute_result"
    }
   ],
   "source": [
    "df12 = df11.drop('location', axis='columns')  # in one-hot encoding we must less one column, we will choose to drop the last one\n",
    "df12.head()"
   ]
  },
  {
   "cell_type": "markdown",
   "id": "065fd054",
   "metadata": {},
   "source": [
    "**So far, we completed the data processing pipeline (d1 ~d12)**"
   ]
  },
  {
   "cell_type": "code",
   "execution_count": 510,
   "id": "d04acb40",
   "metadata": {
    "run_control": {
     "marked": true
    }
   },
   "outputs": [
    {
     "data": {
      "text/plain": [
       "(8484, 365)"
      ]
     },
     "execution_count": 510,
     "metadata": {},
     "output_type": "execute_result"
    }
   ],
   "source": [
    "df12.shape"
   ]
  },
  {
   "cell_type": "code",
   "execution_count": 474,
   "id": "b3965e8d",
   "metadata": {
    "run_control": {
     "marked": true
    }
   },
   "outputs": [
    {
     "data": {
      "text/html": [
       "<div>\n",
       "<style scoped>\n",
       "    .dataframe tbody tr th:only-of-type {\n",
       "        vertical-align: middle;\n",
       "    }\n",
       "\n",
       "    .dataframe tbody tr th {\n",
       "        vertical-align: top;\n",
       "    }\n",
       "\n",
       "    .dataframe thead th {\n",
       "        text-align: right;\n",
       "    }\n",
       "</style>\n",
       "<table border=\"1\" class=\"dataframe\">\n",
       "  <thead>\n",
       "    <tr style=\"text-align: right;\">\n",
       "      <th></th>\n",
       "      <th>total_sqft</th>\n",
       "      <th>bath</th>\n",
       "      <th>bhk</th>\n",
       "      <th>Alian Dist., Kaohsiung City</th>\n",
       "      <th>Alishan Township, Chiayi County</th>\n",
       "      <th>Anding Dist., Tainan City</th>\n",
       "      <th>Anle Dist., Keelung City</th>\n",
       "      <th>Annan Dist., Tainan City</th>\n",
       "      <th>Anping Dist., Tainan City</th>\n",
       "      <th>Bade Dist., Taoyuan City</th>\n",
       "      <th>...</th>\n",
       "      <th>Zhuolan Township, Miaoli County</th>\n",
       "      <th>Zhuoxi Township, Hualien County</th>\n",
       "      <th>Zhuqi Township, Chiayi County</th>\n",
       "      <th>Zhushan Township, Nantou County</th>\n",
       "      <th>Zhutang Township, Changhua County</th>\n",
       "      <th>Zhutian Township, Pingtung County</th>\n",
       "      <th>Ziguan Dist., Kaohsiung City</th>\n",
       "      <th>Zuoying Dist., Kaohsiung City</th>\n",
       "      <th>Zuozhen Dist., Tainan City</th>\n",
       "      <th>other</th>\n",
       "    </tr>\n",
       "  </thead>\n",
       "  <tbody>\n",
       "    <tr>\n",
       "      <th>0</th>\n",
       "      <td>883.0</td>\n",
       "      <td>1.0</td>\n",
       "      <td>2</td>\n",
       "      <td>1</td>\n",
       "      <td>0</td>\n",
       "      <td>0</td>\n",
       "      <td>0</td>\n",
       "      <td>0</td>\n",
       "      <td>0</td>\n",
       "      <td>0</td>\n",
       "      <td>...</td>\n",
       "      <td>0</td>\n",
       "      <td>0</td>\n",
       "      <td>0</td>\n",
       "      <td>0</td>\n",
       "      <td>0</td>\n",
       "      <td>0</td>\n",
       "      <td>0</td>\n",
       "      <td>0</td>\n",
       "      <td>0</td>\n",
       "      <td>0</td>\n",
       "    </tr>\n",
       "    <tr>\n",
       "      <th>1</th>\n",
       "      <td>750.0</td>\n",
       "      <td>1.0</td>\n",
       "      <td>1</td>\n",
       "      <td>1</td>\n",
       "      <td>0</td>\n",
       "      <td>0</td>\n",
       "      <td>0</td>\n",
       "      <td>0</td>\n",
       "      <td>0</td>\n",
       "      <td>0</td>\n",
       "      <td>...</td>\n",
       "      <td>0</td>\n",
       "      <td>0</td>\n",
       "      <td>0</td>\n",
       "      <td>0</td>\n",
       "      <td>0</td>\n",
       "      <td>0</td>\n",
       "      <td>0</td>\n",
       "      <td>0</td>\n",
       "      <td>0</td>\n",
       "      <td>0</td>\n",
       "    </tr>\n",
       "    <tr>\n",
       "      <th>2</th>\n",
       "      <td>1100.0</td>\n",
       "      <td>2.0</td>\n",
       "      <td>3</td>\n",
       "      <td>1</td>\n",
       "      <td>0</td>\n",
       "      <td>0</td>\n",
       "      <td>0</td>\n",
       "      <td>0</td>\n",
       "      <td>0</td>\n",
       "      <td>0</td>\n",
       "      <td>...</td>\n",
       "      <td>0</td>\n",
       "      <td>0</td>\n",
       "      <td>0</td>\n",
       "      <td>0</td>\n",
       "      <td>0</td>\n",
       "      <td>0</td>\n",
       "      <td>0</td>\n",
       "      <td>0</td>\n",
       "      <td>0</td>\n",
       "      <td>0</td>\n",
       "    </tr>\n",
       "    <tr>\n",
       "      <th>3</th>\n",
       "      <td>4000.0</td>\n",
       "      <td>2.0</td>\n",
       "      <td>4</td>\n",
       "      <td>1</td>\n",
       "      <td>0</td>\n",
       "      <td>0</td>\n",
       "      <td>0</td>\n",
       "      <td>0</td>\n",
       "      <td>0</td>\n",
       "      <td>0</td>\n",
       "      <td>...</td>\n",
       "      <td>0</td>\n",
       "      <td>0</td>\n",
       "      <td>0</td>\n",
       "      <td>0</td>\n",
       "      <td>0</td>\n",
       "      <td>0</td>\n",
       "      <td>0</td>\n",
       "      <td>0</td>\n",
       "      <td>0</td>\n",
       "      <td>0</td>\n",
       "    </tr>\n",
       "    <tr>\n",
       "      <th>4</th>\n",
       "      <td>985.0</td>\n",
       "      <td>1.0</td>\n",
       "      <td>2</td>\n",
       "      <td>1</td>\n",
       "      <td>0</td>\n",
       "      <td>0</td>\n",
       "      <td>0</td>\n",
       "      <td>0</td>\n",
       "      <td>0</td>\n",
       "      <td>0</td>\n",
       "      <td>...</td>\n",
       "      <td>0</td>\n",
       "      <td>0</td>\n",
       "      <td>0</td>\n",
       "      <td>0</td>\n",
       "      <td>0</td>\n",
       "      <td>0</td>\n",
       "      <td>0</td>\n",
       "      <td>0</td>\n",
       "      <td>0</td>\n",
       "      <td>0</td>\n",
       "    </tr>\n",
       "  </tbody>\n",
       "</table>\n",
       "<p>5 rows × 364 columns</p>\n",
       "</div>"
      ],
      "text/plain": [
       "   total_sqft  bath  bhk  Alian Dist., Kaohsiung City  \\\n",
       "0       883.0   1.0    2                            1   \n",
       "1       750.0   1.0    1                            1   \n",
       "2      1100.0   2.0    3                            1   \n",
       "3      4000.0   2.0    4                            1   \n",
       "4       985.0   1.0    2                            1   \n",
       "\n",
       "   Alishan Township, Chiayi County  Anding Dist., Tainan City  \\\n",
       "0                                0                          0   \n",
       "1                                0                          0   \n",
       "2                                0                          0   \n",
       "3                                0                          0   \n",
       "4                                0                          0   \n",
       "\n",
       "   Anle Dist., Keelung City  Annan Dist., Tainan City  \\\n",
       "0                         0                         0   \n",
       "1                         0                         0   \n",
       "2                         0                         0   \n",
       "3                         0                         0   \n",
       "4                         0                         0   \n",
       "\n",
       "   Anping Dist., Tainan City  Bade Dist., Taoyuan City  ...  \\\n",
       "0                          0                         0  ...   \n",
       "1                          0                         0  ...   \n",
       "2                          0                         0  ...   \n",
       "3                          0                         0  ...   \n",
       "4                          0                         0  ...   \n",
       "\n",
       "   Zhuolan Township, Miaoli County  Zhuoxi Township, Hualien County  \\\n",
       "0                                0                                0   \n",
       "1                                0                                0   \n",
       "2                                0                                0   \n",
       "3                                0                                0   \n",
       "4                                0                                0   \n",
       "\n",
       "   Zhuqi Township, Chiayi County  Zhushan Township, Nantou County  \\\n",
       "0                              0                                0   \n",
       "1                              0                                0   \n",
       "2                              0                                0   \n",
       "3                              0                                0   \n",
       "4                              0                                0   \n",
       "\n",
       "   Zhutang Township, Changhua County  Zhutian Township, Pingtung County  \\\n",
       "0                                  0                                  0   \n",
       "1                                  0                                  0   \n",
       "2                                  0                                  0   \n",
       "3                                  0                                  0   \n",
       "4                                  0                                  0   \n",
       "\n",
       "   Ziguan Dist., Kaohsiung City  Zuoying Dist., Kaohsiung City  \\\n",
       "0                             0                              0   \n",
       "1                             0                              0   \n",
       "2                             0                              0   \n",
       "3                             0                              0   \n",
       "4                             0                              0   \n",
       "\n",
       "   Zuozhen Dist., Tainan City  other  \n",
       "0                           0      0  \n",
       "1                           0      0  \n",
       "2                           0      0  \n",
       "3                           0      0  \n",
       "4                           0      0  \n",
       "\n",
       "[5 rows x 364 columns]"
      ]
     },
     "execution_count": 474,
     "metadata": {},
     "output_type": "execute_result"
    }
   ],
   "source": [
    "X =df12.drop('price', axis='columns') # \"price\" is the dependent variable, we drop it for model training\n",
    "X.head()"
   ]
  },
  {
   "cell_type": "markdown",
   "id": "c4723ccf",
   "metadata": {},
   "source": [
    "**We keep all the independent variables**"
   ]
  },
  {
   "cell_type": "code",
   "execution_count": 511,
   "id": "43ada970",
   "metadata": {
    "run_control": {
     "marked": true
    }
   },
   "outputs": [
    {
     "data": {
      "text/plain": [
       "(8484, 364)"
      ]
     },
     "execution_count": 511,
     "metadata": {},
     "output_type": "execute_result"
    }
   ],
   "source": [
    "X.shape"
   ]
  },
  {
   "cell_type": "code",
   "execution_count": 512,
   "id": "c6e246de",
   "metadata": {
    "run_control": {
     "marked": true
    }
   },
   "outputs": [
    {
     "data": {
      "text/plain": [
       "0    1170.0\n",
       "1    1040.0\n",
       "2    1378.0\n",
       "3    8580.0\n",
       "4    1508.0\n",
       "Name: price, dtype: float64"
      ]
     },
     "execution_count": 512,
     "metadata": {},
     "output_type": "execute_result"
    }
   ],
   "source": [
    "y = df12.price\n",
    "y.head()"
   ]
  },
  {
   "cell_type": "code",
   "execution_count": 477,
   "id": "b9043ee3",
   "metadata": {
    "run_control": {
     "marked": true
    }
   },
   "outputs": [
    {
     "data": {
      "text/plain": [
       "8484"
      ]
     },
     "execution_count": 477,
     "metadata": {},
     "output_type": "execute_result"
    }
   ],
   "source": [
    "len(y)"
   ]
  },
  {
   "cell_type": "markdown",
   "id": "e8cef4c1",
   "metadata": {},
   "source": [
    "#### We divide the dataset into training set and test set,  training set for data training and test dataset to evaluate the model performance"
   ]
  },
  {
   "cell_type": "code",
   "execution_count": 478,
   "id": "a658c0f4",
   "metadata": {
    "run_control": {
     "marked": true
    }
   },
   "outputs": [],
   "source": [
    "from sklearn.model_selection import train_test_split\n",
    "X_train, X_test, y_train, y_test = train_test_split(X,y,test_size=0.2,random_state=10) #20% to be tests"
   ]
  },
  {
   "cell_type": "code",
   "execution_count": 479,
   "id": "a40e1d1f",
   "metadata": {
    "run_control": {
     "marked": true
    }
   },
   "outputs": [
    {
     "data": {
      "text/plain": [
       "0.8675008742282236"
      ]
     },
     "execution_count": 479,
     "metadata": {},
     "output_type": "execute_result"
    }
   ],
   "source": [
    "from sklearn.linear_model import LinearRegression\n",
    "lr_clf = LinearRegression()\n",
    "lr_clf.fit(X_train,y_train)\n",
    "lr_clf.score(X_test,y_test)"
   ]
  },
  {
   "cell_type": "markdown",
   "id": "0c9c3a58",
   "metadata": {},
   "source": [
    "### Use K Fold cross validation to measure accuracy of LinearRegression Model"
   ]
  },
  {
   "cell_type": "code",
   "execution_count": 480,
   "id": "9f69afcf",
   "metadata": {
    "run_control": {
     "marked": true
    }
   },
   "outputs": [
    {
     "data": {
      "text/plain": [
       "array([0.81325396, 0.85816222, 0.79383183, 0.82643067, 0.88333789])"
      ]
     },
     "execution_count": 480,
     "metadata": {},
     "output_type": "execute_result"
    }
   ],
   "source": [
    "from sklearn.model_selection import ShuffleSplit\n",
    "from sklearn.model_selection import cross_val_score\n",
    "\n",
    "cv = ShuffleSplit(n_splits=5, test_size=0.2, random_state=0) #randomize the samples\n",
    "cross_val_score(LinearRegression(), X, y, cv=cv)"
   ]
  },
  {
   "cell_type": "markdown",
   "id": "92648810",
   "metadata": {},
   "source": [
    "We can see that in 5 iterations we get s score above 80%. This is pretty good but we want to test GridSearch to see if we can get even better score."
   ]
  },
  {
   "cell_type": "markdown",
   "id": "67e8f304",
   "metadata": {},
   "source": [
    "### Find the best model using GridSearchCV  \n",
    "- We use GridSearch method to run different parameters on  different regressors and compare the scores."
   ]
  },
  {
   "cell_type": "code",
   "execution_count": 515,
   "id": "210a8cb4",
   "metadata": {
    "run_control": {
     "marked": true
    }
   },
   "outputs": [
    {
     "data": {
      "text/html": [
       "<div>\n",
       "<style scoped>\n",
       "    .dataframe tbody tr th:only-of-type {\n",
       "        vertical-align: middle;\n",
       "    }\n",
       "\n",
       "    .dataframe tbody tr th {\n",
       "        vertical-align: top;\n",
       "    }\n",
       "\n",
       "    .dataframe thead th {\n",
       "        text-align: right;\n",
       "    }\n",
       "</style>\n",
       "<table border=\"1\" class=\"dataframe\">\n",
       "  <thead>\n",
       "    <tr style=\"text-align: right;\">\n",
       "      <th></th>\n",
       "      <th>model</th>\n",
       "      <th>best_score</th>\n",
       "      <th>best_params</th>\n",
       "    </tr>\n",
       "  </thead>\n",
       "  <tbody>\n",
       "    <tr>\n",
       "      <th>0</th>\n",
       "      <td>linear_regression</td>\n",
       "      <td>0.835003</td>\n",
       "      <td>{'normalize': False}</td>\n",
       "    </tr>\n",
       "    <tr>\n",
       "      <th>1</th>\n",
       "      <td>lasso</td>\n",
       "      <td>0.836687</td>\n",
       "      <td>{'alpha': 1, 'selection': 'cyclic'}</td>\n",
       "    </tr>\n",
       "    <tr>\n",
       "      <th>2</th>\n",
       "      <td>decision_tree</td>\n",
       "      <td>0.817849</td>\n",
       "      <td>{'criterion': 'friedman_mse', 'splitter': 'best'}</td>\n",
       "    </tr>\n",
       "  </tbody>\n",
       "</table>\n",
       "</div>"
      ],
      "text/plain": [
       "               model  best_score  \\\n",
       "0  linear_regression    0.835003   \n",
       "1              lasso    0.836687   \n",
       "2      decision_tree    0.817849   \n",
       "\n",
       "                                         best_params  \n",
       "0                               {'normalize': False}  \n",
       "1                {'alpha': 1, 'selection': 'cyclic'}  \n",
       "2  {'criterion': 'friedman_mse', 'splitter': 'best'}  "
      ]
     },
     "execution_count": 515,
     "metadata": {},
     "output_type": "execute_result"
    }
   ],
   "source": [
    "from sklearn.model_selection import GridSearchCV   # Hyperparameter Tuning\n",
    "\n",
    "from sklearn.linear_model import Lasso\n",
    "from sklearn.tree import DecisionTreeRegressor\n",
    "\n",
    "def find_best_model_using_gridsearchcv(X,y):       # Write a function to try my best model to compare the linear regression, lasso rgression and decision tree\n",
    "    algos = {\n",
    "        'linear_regression':{\n",
    "            'model': LinearRegression(),\n",
    "            'params': {\n",
    "                'normalize': [True, False]\n",
    "            }\n",
    "        },\n",
    "        'lasso':{\n",
    "            'model': Lasso(),\n",
    "            'params':{\n",
    "                'alpha':[1,2],\n",
    "                'selection':['random', 'cyclic']\n",
    "            }\n",
    "        },\n",
    "        'decision_tree':{\n",
    "            'model': DecisionTreeRegressor(),\n",
    "            'params': {\n",
    "                'criterion':['mse','friedman_mse'],\n",
    "                'splitter':['best','random']\n",
    "            }\n",
    "        }\n",
    "    }\n",
    "    scores = []\n",
    "    cv = ShuffleSplit(n_splits=5, test_size=0.2, random_state=0)\n",
    "    for algo_name, config in algos.items():             # create a dictionary gs for 5 fold cross validation\n",
    "        gs = GridSearchCV(config['model'], config['params'], cv=cv, return_train_score=False)\n",
    "        gs.fit(X,y)\n",
    "        scores.append({                                 # append the scores into gs to call the best parameters\n",
    "            'model': algo_name,\n",
    "            'best_score': gs.best_score_,\n",
    "            'best_params': gs.best_params_\n",
    "        })\n",
    "    return pd.DataFrame(scores, columns=['model','best_score','best_params'])\n",
    "\n",
    "find_best_model_using_gridsearchcv(X,y)"
   ]
  },
  {
   "cell_type": "markdown",
   "id": "756cbc9e",
   "metadata": {},
   "source": [
    "We can say that the Lasso gives the best score. But the result is very close to the LinearRegression. Hence we will use that. It will be easier to explain to the client."
   ]
  },
  {
   "cell_type": "code",
   "execution_count": 516,
   "id": "346e7676",
   "metadata": {
    "run_control": {
     "marked": true
    }
   },
   "outputs": [
    {
     "data": {
      "text/plain": [
       "Index(['total_sqft', 'bath', 'bhk', 'Alian Dist., Kaohsiung City',\n",
       "       'Alishan Township, Chiayi County', 'Anding Dist., Tainan City',\n",
       "       'Anle Dist., Keelung City', 'Annan Dist., Tainan City',\n",
       "       'Anping Dist., Tainan City', 'Bade Dist., Taoyuan City',\n",
       "       ...\n",
       "       'Zhuolan Township, Miaoli County', 'Zhuoxi Township, Hualien County',\n",
       "       'Zhuqi Township, Chiayi County', 'Zhushan Township, Nantou County',\n",
       "       'Zhutang Township, Changhua County',\n",
       "       'Zhutian Township, Pingtung County', 'Ziguan Dist., Kaohsiung City',\n",
       "       'Zuoying Dist., Kaohsiung City', 'Zuozhen Dist., Tainan City', 'other'],\n",
       "      dtype='object', length=364)"
      ]
     },
     "execution_count": 516,
     "metadata": {},
     "output_type": "execute_result"
    }
   ],
   "source": [
    "X.columns"
   ]
  },
  {
   "cell_type": "markdown",
   "id": "523bdeeb",
   "metadata": {},
   "source": [
    "### Test the model for some properties"
   ]
  },
  {
   "cell_type": "code",
   "execution_count": 517,
   "id": "9c8b1582",
   "metadata": {},
   "outputs": [
    {
     "data": {
      "text/plain": [
       "361"
      ]
     },
     "execution_count": 517,
     "metadata": {},
     "output_type": "execute_result"
    }
   ],
   "source": [
    "np.where(X.columns=='Zuoying Dist., Kaohsiung City')[0][0]  #"
   ]
  },
  {
   "cell_type": "code",
   "execution_count": 484,
   "id": "32b357dc",
   "metadata": {
    "run_control": {
     "marked": true
    }
   },
   "outputs": [],
   "source": [
    "def predict_price(location,sqft,bath,bhk):\n",
    "    loc_index = np.where(X.columns==location)[0][0]\n",
    "    \n",
    "    x = np.zeros(len(X.columns))\n",
    "    x[0] = sqft\n",
    "    x[1] = bath\n",
    "    x[2] = bhk\n",
    "    if loc_index >= 0:\n",
    "        x[loc_index] = 1\n",
    "        \n",
    "    return lr_clf.predict([x])[0]  #tell me the predicted price"
   ]
  },
  {
   "cell_type": "code",
   "execution_count": 485,
   "id": "e87fb08b",
   "metadata": {
    "run_control": {
     "marked": true
    }
   },
   "outputs": [
    {
     "data": {
      "text/plain": [
       "1604.078609989383"
      ]
     },
     "execution_count": 485,
     "metadata": {},
     "output_type": "execute_result"
    }
   ],
   "source": [
    "predict_price('Zuoying Dist., Kaohsiung City',1000, 2, 2)  #1000 square feet, 2 bedroom and 2 bathroom apartment"
   ]
  },
  {
   "cell_type": "code",
   "execution_count": 518,
   "id": "26217f2c",
   "metadata": {
    "run_control": {
     "marked": true
    }
   },
   "outputs": [
    {
     "data": {
      "text/plain": [
       "1760.6761126840247"
      ]
     },
     "execution_count": 518,
     "metadata": {},
     "output_type": "execute_result"
    }
   ],
   "source": [
    "predict_price('Zuoying Dist., Kaohsiung City',1000, 3, 3) #1000 square feet, 3 bedroom and 3 bathroom apartment"
   ]
  },
  {
   "cell_type": "code",
   "execution_count": 487,
   "id": "123c84d8",
   "metadata": {
    "run_control": {
     "marked": true
    }
   },
   "outputs": [
    {
     "data": {
      "text/plain": [
       "1571.671807391309"
      ]
     },
     "execution_count": 487,
     "metadata": {},
     "output_type": "execute_result"
    }
   ],
   "source": [
    "predict_price('Songshan Dist., Taipei City',1000, 2, 2)"
   ]
  },
  {
   "cell_type": "code",
   "execution_count": 488,
   "id": "34655fe7",
   "metadata": {
    "run_control": {
     "marked": true
    }
   },
   "outputs": [
    {
     "data": {
      "text/plain": [
       "1728.2693100859506"
      ]
     },
     "execution_count": 488,
     "metadata": {},
     "output_type": "execute_result"
    }
   ],
   "source": [
    "predict_price('Songshan Dist., Taipei City',1000, 3, 3) #--> go to A/B testing and ready for Flask API"
   ]
  },
  {
   "cell_type": "code",
   "execution_count": 489,
   "id": "8300c327",
   "metadata": {
    "run_control": {
     "marked": true
    }
   },
   "outputs": [],
   "source": [
    "import pickle\n",
    "with open('tw_home_prices_model.pickle', 'wb') as f:\n",
    "    pickle.dump(lr_clf,f)"
   ]
  },
  {
   "cell_type": "code",
   "execution_count": 490,
   "id": "dea34556",
   "metadata": {
    "run_control": {
     "marked": true
    }
   },
   "outputs": [],
   "source": [
    "import json\n",
    "columns = {\n",
    "    'data_columns':[col.lower() for col in X.columns]\n",
    "}\n",
    "with open(\"columns.json\",\"w\") as f:\n",
    "    f.write(json.dumps(columns))"
   ]
  },
  {
   "cell_type": "code",
   "execution_count": null,
   "id": "108c064a",
   "metadata": {
    "run_control": {
     "marked": true
    }
   },
   "outputs": [],
   "source": []
  },
  {
   "cell_type": "code",
   "execution_count": null,
   "id": "fe6eaffd",
   "metadata": {
    "run_control": {
     "marked": true
    }
   },
   "outputs": [],
   "source": []
  }
 ],
 "metadata": {
  "kernelspec": {
   "display_name": "Python 3 (ipykernel)",
   "language": "python",
   "name": "python3"
  },
  "language_info": {
   "codemirror_mode": {
    "name": "ipython",
    "version": 3
   },
   "file_extension": ".py",
   "mimetype": "text/x-python",
   "name": "python",
   "nbconvert_exporter": "python",
   "pygments_lexer": "ipython3",
   "version": "3.9.12"
  },
  "latex_envs": {
   "LaTeX_envs_menu_present": true,
   "autoclose": false,
   "autocomplete": true,
   "bibliofile": "biblio.bib",
   "cite_by": "apalike",
   "current_citInitial": 1,
   "eqLabelWithNumbers": true,
   "eqNumInitial": 1,
   "hotkeys": {
    "equation": "Ctrl-E",
    "itemize": "Ctrl-I"
   },
   "labels_anchors": false,
   "latex_user_defs": false,
   "report_style_numbering": false,
   "user_envs_cfg": false
  }
 },
 "nbformat": 4,
 "nbformat_minor": 5
}
